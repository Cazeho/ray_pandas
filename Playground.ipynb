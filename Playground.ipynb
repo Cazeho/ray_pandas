{
 "cells": [
  {
   "cell_type": "code",
   "execution_count": 35,
   "metadata": {
    "collapsed": true
   },
   "outputs": [],
   "source": [
    "import ray\n",
    "import pandas as pd\n",
    "import time \n",
    "import numpy as np\n",
    "import binascii\n",
    "import redis\n",
    "import pprint\n",
    "pp = pprint.PrettyPrinter() # for printing dicts and lists in a manner easy for the eyes\n",
    "\n"
   ]
  },
  {
   "cell_type": "code",
   "execution_count": 1,
   "metadata": {
    "collapsed": true
   },
   "outputs": [],
   "source": [
    "IDENTIFIER_LENGTH = 20\n",
    "\n",
    "# This prefix must match the value defined in ray_redis_module.cc.\n",
    "\n",
    "def hex_identifier(identifier):\n",
    "    return binascii.hexlify(identifier).decode()\n",
    "\n",
    "\n",
    "def identifier(hex_identifier):\n",
    "    return binascii.unhexlify(hex_identifier)\n",
    "\n",
    "def key_to_hex_identifiers(key):\n",
    "    # Extract worker_id and task_id from key of the form\n",
    "    # prefix:worker_id:task_id.\n",
    "    offset = key.index(b\":\") + 1\n",
    "    worker_id = hex_identifier(key[offset:(offset + IDENTIFIER_LENGTH)])\n",
    "    offset += IDENTIFIER_LENGTH + 1\n",
    "    task_id = hex_identifier(key[offset:(offset + IDENTIFIER_LENGTH)])\n",
    "    return worker_id, task_id\n",
    "\n",
    "import re\n",
    "def clean(sometext):\n",
    "    sometext = sometext.decode('UTF-8')\n",
    "    ansi_escape = re.compile(r'\\x1b[^m]*m')\n",
    "    return ansi_escape.sub('', sometext)"
   ]
  },
  {
   "cell_type": "code",
   "execution_count": 3,
   "metadata": {},
   "outputs": [
    {
     "name": "stdout",
     "output_type": "stream",
     "text": [
      "Waiting for redis server at 127.0.0.1:24877 to respond...\n",
      "Waiting for redis server at 127.0.0.1:28019 to respond...\n",
      "Starting local scheduler with 3 CPUs and 0 GPUs.\n"
     ]
    },
    {
     "data": {
      "text/plain": [
       "{'local_scheduler_socket_names': ['/tmp/scheduler6480611'],\n",
       " 'node_ip_address': '127.0.0.1',\n",
       " 'object_store_addresses': [ObjectStoreAddress(name='/tmp/plasma_store5536195', manager_name='/tmp/plasma_manager1209931', manager_port=63906)],\n",
       " 'redis_address': '127.0.0.1:24877'}"
      ]
     },
     "execution_count": 3,
     "metadata": {},
     "output_type": "execute_result"
    }
   ],
   "source": [
    "ray.init(num_cpus=3)"
   ]
  },
  {
   "cell_type": "code",
   "execution_count": 4,
   "metadata": {
    "collapsed": true
   },
   "outputs": [],
   "source": [
    "# Function definitions...\n",
    "\n",
    "@ray.remote\n",
    "def example(x):\n",
    "    time.sleep(np.random.random())\n",
    "    return np.random.randn()\n",
    "\n",
    "@ray.remote\n",
    "class TestCls():\n",
    "    def __init__(self):\n",
    "        self.g = 1\n",
    "        \n",
    "    def to_go(self, x):\n",
    "        return x\n",
    "\n",
    "    \n",
    "@ray.remote\n",
    "class Outer():\n",
    "    def __init__(self):\n",
    "        self.f = 1\n",
    "        self.test = TestCls.remote()\n",
    "    \n",
    "    def to_go2(self, x):\n",
    "        return x * 2\n",
    "    \n",
    "    def error(self):\n",
    "        return 1/0"
   ]
  },
  {
   "cell_type": "code",
   "execution_count": 5,
   "metadata": {
    "collapsed": true
   },
   "outputs": [],
   "source": [
    "# Here, we generate data in redis for remote tasks\n",
    "results = ray.get([example.remote(x) for x in range(4)])\n",
    "\n",
    "# Generating data for Actor tasks\n",
    "actor = TestCls.remote()\n",
    "actor_results = ray.get([actor.to_go.remote(1)])"
   ]
  },
  {
   "cell_type": "code",
   "execution_count": 6,
   "metadata": {
    "collapsed": true
   },
   "outputs": [],
   "source": [
    "global_state = ray.worker.global_state # Used to access redis client, but also has nice interface for certain information \n",
    "gworker = ray.worker.global_worker # Unused for now\n",
    "rc_non = global_state.redis_client # Redis Client for interacting with redis without decoding\n",
    "addr, port = gworker.redis_address.split(\":\")\n",
    "rc = redis.StrictRedis(host=addr, port=port, decode_responses=True)"
   ]
  },
  {
   "cell_type": "markdown",
   "metadata": {},
   "source": [
    "Key things included in redis from `rc.keys()`:\n",
    " - Event log\n",
    " - worker info\n",
    " - Remote functions\n",
    " - \"Functions to run\"\n",
    " - Drivers\n",
    " - Redis clients\n",
    " - Actor classes\n",
    " - Actors"
   ]
  },
  {
   "cell_type": "code",
   "execution_count": null,
   "metadata": {
    "collapsed": true,
    "scrolled": true
   },
   "outputs": [],
   "source": [
    "\n",
    "for k in rc.keys():\n",
    "    try:\n",
    "        print(k)\n",
    "        pp.pprint(rc.hgetall(k))\n",
    "#         rc.hgetall(k) \n",
    "    except Exception:\n",
    "        print(k, \"Failed \")\n",
    "# Certain return values, such as `event_log:*`, can only be accessed via list calls to redis\n",
    "\n",
    "#         try:\n",
    "#             print('#' * 10)\n",
    "#             print(k)\n",
    "#             pp.pprint(rc.lrange(k, 0, -1))\n",
    "#         except Exception:\n",
    "#             print(k, \"Failed \")\n",
    "            "
   ]
  },
  {
   "cell_type": "markdown",
   "metadata": {},
   "source": [
    "## Actor Info"
   ]
  },
  {
   "cell_type": "markdown",
   "metadata": {},
   "source": [
    "NOTE: \n",
    "# TODO: Fix actor_id"
   ]
  },
  {
   "cell_type": "code",
   "execution_count": 42,
   "metadata": {
    "collapsed": true,
    "scrolled": true
   },
   "outputs": [],
   "source": [
    "# import unicode \n",
    "actor_list = []\n",
    "for a_key in rc.keys(\"Actor:*\"):\n",
    "    v = rc.hgetall(a_key)\n",
    "    v['actor_id'] = a_key\n",
    "    v['class_id'] = hex_identifier(v['class_id'])\n",
    "    actor_list.append(v)\n",
    "\n",
    "actor_df = pd.DataFrame(actor_list)"
   ]
  },
  {
   "cell_type": "code",
   "execution_count": 43,
   "metadata": {},
   "outputs": [
    {
     "data": {
      "text/html": [
       "<div>\n",
       "<table border=\"1\" class=\"dataframe\">\n",
       "  <thead>\n",
       "    <tr style=\"text-align: right;\">\n",
       "      <th></th>\n",
       "      <th>actor_id</th>\n",
       "      <th>class_id</th>\n",
       "      <th>num_gpus</th>\n",
       "    </tr>\n",
       "  </thead>\n",
       "  <tbody>\n",
       "    <tr>\n",
       "      <th>0</th>\n",
       "      <td>Actor:b'[\\xdfYzv\\x0bdG#,P\\xd1&amp;,\\xed\\xb6\\x91\\xf...</td>\n",
       "      <td>abc1797efc03353d22511cf58cca68bbdc19a8bf</td>\n",
       "      <td>0</td>\n",
       "    </tr>\n",
       "  </tbody>\n",
       "</table>\n",
       "</div>"
      ],
      "text/plain": [
       "                                            actor_id  \\\n",
       "0  Actor:b'[\\xdfYzv\\x0bdG#,P\\xd1&,\\xed\\xb6\\x91\\xf...   \n",
       "\n",
       "                                   class_id num_gpus  \n",
       "0  abc1797efc03353d22511cf58cca68bbdc19a8bf        0  "
      ]
     },
     "execution_count": 43,
     "metadata": {},
     "output_type": "execute_result"
    }
   ],
   "source": [
    "actor_df"
   ]
  },
  {
   "cell_type": "code",
   "execution_count": 44,
   "metadata": {
    "collapsed": true,
    "scrolled": false
   },
   "outputs": [],
   "source": [
    "actor_classes = []\n",
    "for a_key in rc.keys(\"ActorClass:*\"):\n",
    "    \n",
    "    v = rc.hgetall(a_key)\n",
    "    del v['class'] # removed pickle hex for readability\n",
    "    v['driver_id'] = hex_identifier(v['driver_id'])\n",
    "    class_id = a_key.split(b':')[1]\n",
    "    v['class_id'] = hex_identifier(class_id)\n",
    "    actor_classes.append(v)\n",
    "    \n",
    "actor_class_df = pd.DataFrame(actor_classes)"
   ]
  },
  {
   "cell_type": "code",
   "execution_count": 45,
   "metadata": {},
   "outputs": [
    {
     "data": {
      "text/html": [
       "<div>\n",
       "<table border=\"1\" class=\"dataframe\">\n",
       "  <thead>\n",
       "    <tr style=\"text-align: right;\">\n",
       "      <th></th>\n",
       "      <th>actor_method_names</th>\n",
       "      <th>class_id</th>\n",
       "      <th>class_name</th>\n",
       "      <th>driver_id</th>\n",
       "      <th>module</th>\n",
       "    </tr>\n",
       "  </thead>\n",
       "  <tbody>\n",
       "    <tr>\n",
       "      <th>0</th>\n",
       "      <td>[\"to_go\", \"__init__\", \"__ray_terminate__\"]</td>\n",
       "      <td>abc1797efc03353d22511cf58cca68bbdc19a8bf</td>\n",
       "      <td>Class</td>\n",
       "      <td>aba3b41b39cdaebac7d7e77de0fb139fa6ecaedf</td>\n",
       "      <td>ray.actor</td>\n",
       "    </tr>\n",
       "  </tbody>\n",
       "</table>\n",
       "</div>"
      ],
      "text/plain": [
       "                           actor_method_names  \\\n",
       "0  [\"to_go\", \"__init__\", \"__ray_terminate__\"]   \n",
       "\n",
       "                                   class_id class_name  \\\n",
       "0  abc1797efc03353d22511cf58cca68bbdc19a8bf      Class   \n",
       "\n",
       "                                  driver_id     module  \n",
       "0  aba3b41b39cdaebac7d7e77de0fb139fa6ecaedf  ray.actor  "
      ]
     },
     "execution_count": 45,
     "metadata": {},
     "output_type": "execute_result"
    }
   ],
   "source": [
    "actor_class_df"
   ]
  },
  {
   "cell_type": "markdown",
   "metadata": {},
   "source": [
    "## Function Info"
   ]
  },
  {
   "cell_type": "code",
   "execution_count": 46,
   "metadata": {},
   "outputs": [
    {
     "data": {
      "text/html": [
       "<div>\n",
       "<table border=\"1\" class=\"dataframe\">\n",
       "  <thead>\n",
       "    <tr style=\"text-align: right;\">\n",
       "      <th></th>\n",
       "      <th>DriverID</th>\n",
       "      <th>Module</th>\n",
       "      <th>Name</th>\n",
       "      <th>function_id</th>\n",
       "    </tr>\n",
       "  </thead>\n",
       "  <tbody>\n",
       "    <tr>\n",
       "      <th>0</th>\n",
       "      <td>aba3b41b39cdaebac7d7e77de0fb139fa6ecaedf</td>\n",
       "      <td>__main__</td>\n",
       "      <td>__main__.example</td>\n",
       "      <td>cf1fc498b8a2b4cb79bc2ed5abf074ba96ae69a1</td>\n",
       "    </tr>\n",
       "  </tbody>\n",
       "</table>\n",
       "</div>"
      ],
      "text/plain": [
       "                                   DriverID    Module              Name  \\\n",
       "0  aba3b41b39cdaebac7d7e77de0fb139fa6ecaedf  __main__  __main__.example   \n",
       "\n",
       "                                function_id  \n",
       "0  cf1fc498b8a2b4cb79bc2ed5abf074ba96ae69a1  "
      ]
     },
     "execution_count": 46,
     "metadata": {},
     "output_type": "execute_result"
    }
   ],
   "source": [
    "fn_table = global_state.function_table()\n",
    "fn_list = []\n",
    "for fn_id in fn_table:\n",
    "    val = fn_table[fn_id]\n",
    "    val[\"function_id\"] = fn_id\n",
    "    fn_list.append(val)\n",
    "pd.DataFrame(fn_list)"
   ]
  },
  {
   "cell_type": "markdown",
   "metadata": {},
   "source": [
    "## Node Info"
   ]
  },
  {
   "cell_type": "code",
   "execution_count": 47,
   "metadata": {},
   "outputs": [
    {
     "data": {
      "text/html": [
       "<div>\n",
       "<table border=\"1\" class=\"dataframe\">\n",
       "  <thead>\n",
       "    <tr style=\"text-align: right;\">\n",
       "      <th></th>\n",
       "      <th>AuxAddress</th>\n",
       "      <th>ClientType</th>\n",
       "      <th>DBClientID</th>\n",
       "      <th>Deleted</th>\n",
       "      <th>LocalSchedulerSocketName</th>\n",
       "      <th>NumCPUs</th>\n",
       "      <th>NumGPUs</th>\n",
       "      <th>node_ip_address</th>\n",
       "    </tr>\n",
       "  </thead>\n",
       "  <tbody>\n",
       "    <tr>\n",
       "      <th>0</th>\n",
       "      <td>NaN</td>\n",
       "      <td>global_scheduler</td>\n",
       "      <td>432c37b704ca8c75ab464bbf39333a75ee267af1</td>\n",
       "      <td>False</td>\n",
       "      <td>NaN</td>\n",
       "      <td>NaN</td>\n",
       "      <td>NaN</td>\n",
       "      <td>127.0.0.1</td>\n",
       "    </tr>\n",
       "    <tr>\n",
       "      <th>1</th>\n",
       "      <td>127.0.0.1:63906</td>\n",
       "      <td>local_scheduler</td>\n",
       "      <td>2998397411b0c5cf0d8f764f3c510838ae4cc709</td>\n",
       "      <td>False</td>\n",
       "      <td>/tmp/scheduler6480611</td>\n",
       "      <td>3.0</td>\n",
       "      <td>0.0</td>\n",
       "      <td>127.0.0.1</td>\n",
       "    </tr>\n",
       "    <tr>\n",
       "      <th>2</th>\n",
       "      <td>NaN</td>\n",
       "      <td>plasma_manager</td>\n",
       "      <td>6ebdbcc87af95df809bb294ac3c8768f9a31231e</td>\n",
       "      <td>False</td>\n",
       "      <td>NaN</td>\n",
       "      <td>NaN</td>\n",
       "      <td>NaN</td>\n",
       "      <td>127.0.0.1</td>\n",
       "    </tr>\n",
       "  </tbody>\n",
       "</table>\n",
       "</div>"
      ],
      "text/plain": [
       "        AuxAddress        ClientType  \\\n",
       "0              NaN  global_scheduler   \n",
       "1  127.0.0.1:63906   local_scheduler   \n",
       "2              NaN    plasma_manager   \n",
       "\n",
       "                                 DBClientID Deleted LocalSchedulerSocketName  \\\n",
       "0  432c37b704ca8c75ab464bbf39333a75ee267af1   False                      NaN   \n",
       "1  2998397411b0c5cf0d8f764f3c510838ae4cc709   False    /tmp/scheduler6480611   \n",
       "2  6ebdbcc87af95df809bb294ac3c8768f9a31231e   False                      NaN   \n",
       "\n",
       "   NumCPUs  NumGPUs node_ip_address  \n",
       "0      NaN      NaN       127.0.0.1  \n",
       "1      3.0      0.0       127.0.0.1  \n",
       "2      NaN      NaN       127.0.0.1  "
      ]
     },
     "execution_count": 47,
     "metadata": {},
     "output_type": "execute_result"
    }
   ],
   "source": [
    "ctable = global_state.client_table()\n",
    "\n",
    "client_list = []\n",
    "for node_ip in ctable:\n",
    "    for client in ctable[node_ip]:\n",
    "        client[\"node_ip_address\"] = node_ip\n",
    "        client_list.append(client)\n",
    "\n",
    "client_df = pd.DataFrame(client_list)\n",
    "client_df"
   ]
  },
  {
   "cell_type": "code",
   "execution_count": 54,
   "metadata": {},
   "outputs": [
    {
     "data": {
      "text/html": [
       "<div>\n",
       "<table border=\"1\" class=\"dataframe\">\n",
       "  <thead>\n",
       "    <tr style=\"text-align: right;\">\n",
       "      <th></th>\n",
       "      <th>IsPut</th>\n",
       "      <th>ManagerIDs</th>\n",
       "      <th>TaskID</th>\n",
       "    </tr>\n",
       "  </thead>\n",
       "  <tbody>\n",
       "    <tr>\n",
       "      <th>5d14f428a07abb69994fcfea135e04a847769264</th>\n",
       "      <td>False</td>\n",
       "      <td>[6ebdbcc87af95df809bb294ac3c8768f9a31231e]</td>\n",
       "      <td>5c14f428a07abb69994fcfea135e04a847769264</td>\n",
       "    </tr>\n",
       "    <tr>\n",
       "      <th>aca487e1c1d2b301d101b26d04b361b96447cb62</th>\n",
       "      <td>False</td>\n",
       "      <td>[6ebdbcc87af95df809bb294ac3c8768f9a31231e]</td>\n",
       "      <td>ada487e1c1d2b301d101b26d04b361b96447cb62</td>\n",
       "    </tr>\n",
       "    <tr>\n",
       "      <th>baaf4525690b4daef75f9e227c610d89dfe8c681</th>\n",
       "      <td>False</td>\n",
       "      <td>[6ebdbcc87af95df809bb294ac3c8768f9a31231e]</td>\n",
       "      <td>bbaf4525690b4daef75f9e227c610d89dfe8c681</td>\n",
       "    </tr>\n",
       "    <tr>\n",
       "      <th>c4a2bc73bbba18c7a5683f59b9e6701970bb867c</th>\n",
       "      <td>False</td>\n",
       "      <td>[6ebdbcc87af95df809bb294ac3c8768f9a31231e]</td>\n",
       "      <td>c5a2bc73bbba18c7a5683f59b9e6701970bb867c</td>\n",
       "    </tr>\n",
       "    <tr>\n",
       "      <th>e1108437b79bd7ea0ba07ed6b98cd8bd71043c7b</th>\n",
       "      <td>False</td>\n",
       "      <td>[6ebdbcc87af95df809bb294ac3c8768f9a31231e]</td>\n",
       "      <td>e0108437b79bd7ea0ba07ed6b98cd8bd71043c7b</td>\n",
       "    </tr>\n",
       "    <tr>\n",
       "      <th>f0213b56d9a8c72fde8e437e2d57b7a281156072</th>\n",
       "      <td>False</td>\n",
       "      <td>[6ebdbcc87af95df809bb294ac3c8768f9a31231e]</td>\n",
       "      <td>f1213b56d9a8c72fde8e437e2d57b7a281156072</td>\n",
       "    </tr>\n",
       "  </tbody>\n",
       "</table>\n",
       "</div>"
      ],
      "text/plain": [
       "                                          IsPut  \\\n",
       "5d14f428a07abb69994fcfea135e04a847769264  False   \n",
       "aca487e1c1d2b301d101b26d04b361b96447cb62  False   \n",
       "baaf4525690b4daef75f9e227c610d89dfe8c681  False   \n",
       "c4a2bc73bbba18c7a5683f59b9e6701970bb867c  False   \n",
       "e1108437b79bd7ea0ba07ed6b98cd8bd71043c7b  False   \n",
       "f0213b56d9a8c72fde8e437e2d57b7a281156072  False   \n",
       "\n",
       "                                                                          ManagerIDs  \\\n",
       "5d14f428a07abb69994fcfea135e04a847769264  [6ebdbcc87af95df809bb294ac3c8768f9a31231e]   \n",
       "aca487e1c1d2b301d101b26d04b361b96447cb62  [6ebdbcc87af95df809bb294ac3c8768f9a31231e]   \n",
       "baaf4525690b4daef75f9e227c610d89dfe8c681  [6ebdbcc87af95df809bb294ac3c8768f9a31231e]   \n",
       "c4a2bc73bbba18c7a5683f59b9e6701970bb867c  [6ebdbcc87af95df809bb294ac3c8768f9a31231e]   \n",
       "e1108437b79bd7ea0ba07ed6b98cd8bd71043c7b  [6ebdbcc87af95df809bb294ac3c8768f9a31231e]   \n",
       "f0213b56d9a8c72fde8e437e2d57b7a281156072  [6ebdbcc87af95df809bb294ac3c8768f9a31231e]   \n",
       "\n",
       "                                                                            TaskID  \n",
       "5d14f428a07abb69994fcfea135e04a847769264  5c14f428a07abb69994fcfea135e04a847769264  \n",
       "aca487e1c1d2b301d101b26d04b361b96447cb62  ada487e1c1d2b301d101b26d04b361b96447cb62  \n",
       "baaf4525690b4daef75f9e227c610d89dfe8c681  bbaf4525690b4daef75f9e227c610d89dfe8c681  \n",
       "c4a2bc73bbba18c7a5683f59b9e6701970bb867c  c5a2bc73bbba18c7a5683f59b9e6701970bb867c  \n",
       "e1108437b79bd7ea0ba07ed6b98cd8bd71043c7b  e0108437b79bd7ea0ba07ed6b98cd8bd71043c7b  \n",
       "f0213b56d9a8c72fde8e437e2d57b7a281156072  f1213b56d9a8c72fde8e437e2d57b7a281156072  "
      ]
     },
     "execution_count": 54,
     "metadata": {},
     "output_type": "execute_result"
    }
   ],
   "source": [
    "object_dict = {oid.hex(): v for oid, v in global_state.object_table().items()}\n",
    "object_df = pd.DataFrame(object_dict).transpose()\n",
    "object_df\n",
    "# May need to change this so ID is not index"
   ]
  },
  {
   "cell_type": "markdown",
   "metadata": {},
   "source": [
    "# Tasks"
   ]
  },
  {
   "cell_type": "code",
   "execution_count": 55,
   "metadata": {
    "collapsed": true
   },
   "outputs": [],
   "source": [
    "tt = global_state.task_table()\n",
    "tt_list = list(tt.values())\n",
    "\n",
    "for d in tt_list:\n",
    "    d['TaskSpec']['ReturnObjectIDs'] = [oid.hex() for oid in d['TaskSpec']['ReturnObjectIDs']]"
   ]
  },
  {
   "cell_type": "code",
   "execution_count": 56,
   "metadata": {},
   "outputs": [
    {
     "data": {
      "text/html": [
       "<div>\n",
       "<table border=\"1\" class=\"dataframe\">\n",
       "  <thead>\n",
       "    <tr style=\"text-align: right;\">\n",
       "      <th></th>\n",
       "      <th>LocalSchedulerID</th>\n",
       "      <th>State</th>\n",
       "      <th>TaskSpec.ActorCounter</th>\n",
       "      <th>TaskSpec.ActorID</th>\n",
       "      <th>TaskSpec.Args</th>\n",
       "      <th>TaskSpec.DriverID</th>\n",
       "      <th>TaskSpec.FunctionID</th>\n",
       "      <th>TaskSpec.ParentCounter</th>\n",
       "      <th>TaskSpec.ParentTaskID</th>\n",
       "      <th>TaskSpec.RequiredResources.CPUs</th>\n",
       "      <th>TaskSpec.RequiredResources.GPUs</th>\n",
       "      <th>TaskSpec.ReturnObjectIDs</th>\n",
       "      <th>TaskSpec.TaskID</th>\n",
       "    </tr>\n",
       "  </thead>\n",
       "  <tbody>\n",
       "    <tr>\n",
       "      <th>0</th>\n",
       "      <td>2998397411b0c5cf0d8f764f3c510838ae4cc709</td>\n",
       "      <td>16</td>\n",
       "      <td>2</td>\n",
       "      <td>ffffffffffffffffffffffffffffffffffffffff</td>\n",
       "      <td>[2]</td>\n",
       "      <td>aba3b41b39cdaebac7d7e77de0fb139fa6ecaedf</td>\n",
       "      <td>cf1fc498b8a2b4cb79bc2ed5abf074ba96ae69a1</td>\n",
       "      <td>2</td>\n",
       "      <td>d38c8ab355c8c3469db5390590975b936145af53</td>\n",
       "      <td>1.0</td>\n",
       "      <td>0.0</td>\n",
       "      <td>[aca487e1c1d2b301d101b26d04b361b96447cb62]</td>\n",
       "      <td>ada487e1c1d2b301d101b26d04b361b96447cb62</td>\n",
       "    </tr>\n",
       "    <tr>\n",
       "      <th>1</th>\n",
       "      <td>ffffffffffffffffffffffffffffffffffffffff</td>\n",
       "      <td>8</td>\n",
       "      <td>0</td>\n",
       "      <td>ffffffffffffffffffffffffffffffffffffffff</td>\n",
       "      <td>[]</td>\n",
       "      <td>aba3b41b39cdaebac7d7e77de0fb139fa6ecaedf</td>\n",
       "      <td>ffffffffffffffffffffffffffffffffffffffff</td>\n",
       "      <td>0</td>\n",
       "      <td>099e877ab3fbb29235c6971b4df3f64a2ac3c6fd</td>\n",
       "      <td>0.0</td>\n",
       "      <td>0.0</td>\n",
       "      <td>[]</td>\n",
       "      <td>d38c8ab355c8c3469db5390590975b936145af53</td>\n",
       "    </tr>\n",
       "    <tr>\n",
       "      <th>2</th>\n",
       "      <td>2998397411b0c5cf0d8f764f3c510838ae4cc709</td>\n",
       "      <td>16</td>\n",
       "      <td>1</td>\n",
       "      <td>5bdf597a760b6447232c50d1262cedb691fe2f45</td>\n",
       "      <td>[1]</td>\n",
       "      <td>aba3b41b39cdaebac7d7e77de0fb139fa6ecaedf</td>\n",
       "      <td>7916fc26bb3c69a23ba4e6714b02a2c07e8542f2</td>\n",
       "      <td>5</td>\n",
       "      <td>d38c8ab355c8c3469db5390590975b936145af53</td>\n",
       "      <td>1.0</td>\n",
       "      <td>0.0</td>\n",
       "      <td>[5d14f428a07abb69994fcfea135e04a847769264]</td>\n",
       "      <td>5c14f428a07abb69994fcfea135e04a847769264</td>\n",
       "    </tr>\n",
       "    <tr>\n",
       "      <th>3</th>\n",
       "      <td>2998397411b0c5cf0d8f764f3c510838ae4cc709</td>\n",
       "      <td>16</td>\n",
       "      <td>0</td>\n",
       "      <td>ffffffffffffffffffffffffffffffffffffffff</td>\n",
       "      <td>[0]</td>\n",
       "      <td>aba3b41b39cdaebac7d7e77de0fb139fa6ecaedf</td>\n",
       "      <td>cf1fc498b8a2b4cb79bc2ed5abf074ba96ae69a1</td>\n",
       "      <td>0</td>\n",
       "      <td>d38c8ab355c8c3469db5390590975b936145af53</td>\n",
       "      <td>1.0</td>\n",
       "      <td>0.0</td>\n",
       "      <td>[e1108437b79bd7ea0ba07ed6b98cd8bd71043c7b]</td>\n",
       "      <td>e0108437b79bd7ea0ba07ed6b98cd8bd71043c7b</td>\n",
       "    </tr>\n",
       "    <tr>\n",
       "      <th>4</th>\n",
       "      <td>2998397411b0c5cf0d8f764f3c510838ae4cc709</td>\n",
       "      <td>16</td>\n",
       "      <td>0</td>\n",
       "      <td>5bdf597a760b6447232c50d1262cedb691fe2f45</td>\n",
       "      <td>[]</td>\n",
       "      <td>aba3b41b39cdaebac7d7e77de0fb139fa6ecaedf</td>\n",
       "      <td>1939f247b3ae06244a8d50fa7dabbcc975c6fc4c</td>\n",
       "      <td>4</td>\n",
       "      <td>d38c8ab355c8c3469db5390590975b936145af53</td>\n",
       "      <td>1.0</td>\n",
       "      <td>0.0</td>\n",
       "      <td>[c4a2bc73bbba18c7a5683f59b9e6701970bb867c]</td>\n",
       "      <td>c5a2bc73bbba18c7a5683f59b9e6701970bb867c</td>\n",
       "    </tr>\n",
       "    <tr>\n",
       "      <th>5</th>\n",
       "      <td>2998397411b0c5cf0d8f764f3c510838ae4cc709</td>\n",
       "      <td>16</td>\n",
       "      <td>1</td>\n",
       "      <td>ffffffffffffffffffffffffffffffffffffffff</td>\n",
       "      <td>[1]</td>\n",
       "      <td>aba3b41b39cdaebac7d7e77de0fb139fa6ecaedf</td>\n",
       "      <td>cf1fc498b8a2b4cb79bc2ed5abf074ba96ae69a1</td>\n",
       "      <td>1</td>\n",
       "      <td>d38c8ab355c8c3469db5390590975b936145af53</td>\n",
       "      <td>1.0</td>\n",
       "      <td>0.0</td>\n",
       "      <td>[f0213b56d9a8c72fde8e437e2d57b7a281156072]</td>\n",
       "      <td>f1213b56d9a8c72fde8e437e2d57b7a281156072</td>\n",
       "    </tr>\n",
       "    <tr>\n",
       "      <th>6</th>\n",
       "      <td>2998397411b0c5cf0d8f764f3c510838ae4cc709</td>\n",
       "      <td>16</td>\n",
       "      <td>3</td>\n",
       "      <td>ffffffffffffffffffffffffffffffffffffffff</td>\n",
       "      <td>[3]</td>\n",
       "      <td>aba3b41b39cdaebac7d7e77de0fb139fa6ecaedf</td>\n",
       "      <td>cf1fc498b8a2b4cb79bc2ed5abf074ba96ae69a1</td>\n",
       "      <td>3</td>\n",
       "      <td>d38c8ab355c8c3469db5390590975b936145af53</td>\n",
       "      <td>1.0</td>\n",
       "      <td>0.0</td>\n",
       "      <td>[baaf4525690b4daef75f9e227c610d89dfe8c681]</td>\n",
       "      <td>bbaf4525690b4daef75f9e227c610d89dfe8c681</td>\n",
       "    </tr>\n",
       "  </tbody>\n",
       "</table>\n",
       "</div>"
      ],
      "text/plain": [
       "                           LocalSchedulerID  State  TaskSpec.ActorCounter  \\\n",
       "0  2998397411b0c5cf0d8f764f3c510838ae4cc709     16                      2   \n",
       "1  ffffffffffffffffffffffffffffffffffffffff      8                      0   \n",
       "2  2998397411b0c5cf0d8f764f3c510838ae4cc709     16                      1   \n",
       "3  2998397411b0c5cf0d8f764f3c510838ae4cc709     16                      0   \n",
       "4  2998397411b0c5cf0d8f764f3c510838ae4cc709     16                      0   \n",
       "5  2998397411b0c5cf0d8f764f3c510838ae4cc709     16                      1   \n",
       "6  2998397411b0c5cf0d8f764f3c510838ae4cc709     16                      3   \n",
       "\n",
       "                           TaskSpec.ActorID TaskSpec.Args  \\\n",
       "0  ffffffffffffffffffffffffffffffffffffffff           [2]   \n",
       "1  ffffffffffffffffffffffffffffffffffffffff            []   \n",
       "2  5bdf597a760b6447232c50d1262cedb691fe2f45           [1]   \n",
       "3  ffffffffffffffffffffffffffffffffffffffff           [0]   \n",
       "4  5bdf597a760b6447232c50d1262cedb691fe2f45            []   \n",
       "5  ffffffffffffffffffffffffffffffffffffffff           [1]   \n",
       "6  ffffffffffffffffffffffffffffffffffffffff           [3]   \n",
       "\n",
       "                          TaskSpec.DriverID  \\\n",
       "0  aba3b41b39cdaebac7d7e77de0fb139fa6ecaedf   \n",
       "1  aba3b41b39cdaebac7d7e77de0fb139fa6ecaedf   \n",
       "2  aba3b41b39cdaebac7d7e77de0fb139fa6ecaedf   \n",
       "3  aba3b41b39cdaebac7d7e77de0fb139fa6ecaedf   \n",
       "4  aba3b41b39cdaebac7d7e77de0fb139fa6ecaedf   \n",
       "5  aba3b41b39cdaebac7d7e77de0fb139fa6ecaedf   \n",
       "6  aba3b41b39cdaebac7d7e77de0fb139fa6ecaedf   \n",
       "\n",
       "                        TaskSpec.FunctionID  TaskSpec.ParentCounter  \\\n",
       "0  cf1fc498b8a2b4cb79bc2ed5abf074ba96ae69a1                       2   \n",
       "1  ffffffffffffffffffffffffffffffffffffffff                       0   \n",
       "2  7916fc26bb3c69a23ba4e6714b02a2c07e8542f2                       5   \n",
       "3  cf1fc498b8a2b4cb79bc2ed5abf074ba96ae69a1                       0   \n",
       "4  1939f247b3ae06244a8d50fa7dabbcc975c6fc4c                       4   \n",
       "5  cf1fc498b8a2b4cb79bc2ed5abf074ba96ae69a1                       1   \n",
       "6  cf1fc498b8a2b4cb79bc2ed5abf074ba96ae69a1                       3   \n",
       "\n",
       "                      TaskSpec.ParentTaskID  TaskSpec.RequiredResources.CPUs  \\\n",
       "0  d38c8ab355c8c3469db5390590975b936145af53                              1.0   \n",
       "1  099e877ab3fbb29235c6971b4df3f64a2ac3c6fd                              0.0   \n",
       "2  d38c8ab355c8c3469db5390590975b936145af53                              1.0   \n",
       "3  d38c8ab355c8c3469db5390590975b936145af53                              1.0   \n",
       "4  d38c8ab355c8c3469db5390590975b936145af53                              1.0   \n",
       "5  d38c8ab355c8c3469db5390590975b936145af53                              1.0   \n",
       "6  d38c8ab355c8c3469db5390590975b936145af53                              1.0   \n",
       "\n",
       "   TaskSpec.RequiredResources.GPUs  \\\n",
       "0                              0.0   \n",
       "1                              0.0   \n",
       "2                              0.0   \n",
       "3                              0.0   \n",
       "4                              0.0   \n",
       "5                              0.0   \n",
       "6                              0.0   \n",
       "\n",
       "                     TaskSpec.ReturnObjectIDs  \\\n",
       "0  [aca487e1c1d2b301d101b26d04b361b96447cb62]   \n",
       "1                                          []   \n",
       "2  [5d14f428a07abb69994fcfea135e04a847769264]   \n",
       "3  [e1108437b79bd7ea0ba07ed6b98cd8bd71043c7b]   \n",
       "4  [c4a2bc73bbba18c7a5683f59b9e6701970bb867c]   \n",
       "5  [f0213b56d9a8c72fde8e437e2d57b7a281156072]   \n",
       "6  [baaf4525690b4daef75f9e227c610d89dfe8c681]   \n",
       "\n",
       "                            TaskSpec.TaskID  \n",
       "0  ada487e1c1d2b301d101b26d04b361b96447cb62  \n",
       "1  d38c8ab355c8c3469db5390590975b936145af53  \n",
       "2  5c14f428a07abb69994fcfea135e04a847769264  \n",
       "3  e0108437b79bd7ea0ba07ed6b98cd8bd71043c7b  \n",
       "4  c5a2bc73bbba18c7a5683f59b9e6701970bb867c  \n",
       "5  f1213b56d9a8c72fde8e437e2d57b7a281156072  \n",
       "6  bbaf4525690b4daef75f9e227c610d89dfe8c681  "
      ]
     },
     "execution_count": 56,
     "metadata": {},
     "output_type": "execute_result"
    }
   ],
   "source": [
    "from pandas.io.json import json_normalize\n",
    "\n",
    "result = json_normalize(tt_list)\n",
    "\n",
    "result"
   ]
  },
  {
   "cell_type": "markdown",
   "metadata": {},
   "source": [
    "We can also parse the event logs in order to get fine grained timing for remote tasks. However, as a user, I'd probably only care about time taken in running the task -- this can be much refined."
   ]
  },
  {
   "cell_type": "code",
   "execution_count": 57,
   "metadata": {
    "collapsed": true,
    "scrolled": false
   },
   "outputs": [],
   "source": [
    "import json \n",
    "event_list = []\n",
    "\n",
    "# Get and decode all task timing/event logs\n",
    "for key in rc.keys(\"event_log*\"):\n",
    "    content = rc.lrange(key, 0, -1)\n",
    "#     event_list.append(json.loads(content[0].decode())) \n",
    "    event_list.append(json.loads(content[0]))\n",
    "    \n",
    "# event_list"
   ]
  },
  {
   "cell_type": "code",
   "execution_count": 58,
   "metadata": {
    "collapsed": true
   },
   "outputs": [],
   "source": [
    "from collections import defaultdict\n",
    "\n",
    "# This seems to be the best way to do the event_log -> dataframe pipeline. \n",
    "# First generate a (key, [value]) mapping for all tasks and then apply some pandas operations to convert.\n",
    "\n",
    "# event_dict is used to store timing info\n",
    "event_dict = defaultdict(lambda: np.full(len(event_list), np.nan))\n",
    "\n",
    "# info_dict is used to store meta data - such as function names and task id\n",
    "info_dict = defaultdict(lambda: [None] * len(event_list))\n",
    "\n",
    "for i, task_event in enumerate(event_list):\n",
    "    for event in (task_event):\n",
    "        time, label, startstop, info = event\n",
    "        event_dict[(label, startstop)][i] = time\n",
    "        if info:\n",
    "            for k in info:\n",
    "                info_dict[k][i] = info[k]"
   ]
  },
  {
   "cell_type": "code",
   "execution_count": 59,
   "metadata": {
    "scrolled": true
   },
   "outputs": [
    {
     "data": {
      "text/html": [
       "<div>\n",
       "<table border=\"1\" class=\"dataframe\">\n",
       "  <thead>\n",
       "    <tr>\n",
       "      <th></th>\n",
       "      <th colspan=\"2\" halign=\"left\">ray:acquire_lock</th>\n",
       "      <th colspan=\"2\" halign=\"left\">ray:get_task</th>\n",
       "      <th colspan=\"2\" halign=\"left\">ray:import_remote_function</th>\n",
       "      <th colspan=\"2\" halign=\"left\">ray:task</th>\n",
       "      <th colspan=\"2\" halign=\"left\">ray:task:execute</th>\n",
       "      <th colspan=\"2\" halign=\"left\">ray:task:get_arguments</th>\n",
       "      <th colspan=\"2\" halign=\"left\">ray:task:store_outputs</th>\n",
       "      <th colspan=\"2\" halign=\"left\">ray:wait_for_function</th>\n",
       "    </tr>\n",
       "    <tr>\n",
       "      <th></th>\n",
       "      <th>start</th>\n",
       "      <th>end</th>\n",
       "      <th>start</th>\n",
       "      <th>end</th>\n",
       "      <th>start</th>\n",
       "      <th>end</th>\n",
       "      <th>start</th>\n",
       "      <th>end</th>\n",
       "      <th>start</th>\n",
       "      <th>end</th>\n",
       "      <th>start</th>\n",
       "      <th>end</th>\n",
       "      <th>start</th>\n",
       "      <th>end</th>\n",
       "      <th>start</th>\n",
       "      <th>end</th>\n",
       "    </tr>\n",
       "  </thead>\n",
       "  <tbody>\n",
       "    <tr>\n",
       "      <th>0</th>\n",
       "      <td>1.496825e+09</td>\n",
       "      <td>1.496825e+09</td>\n",
       "      <td>1.496825e+09</td>\n",
       "      <td>1.496825e+09</td>\n",
       "      <td>1.496825e+09</td>\n",
       "      <td>1.496825e+09</td>\n",
       "      <td>1.496825e+09</td>\n",
       "      <td>1.496825e+09</td>\n",
       "      <td>1.496825e+09</td>\n",
       "      <td>1.496825e+09</td>\n",
       "      <td>1.496825e+09</td>\n",
       "      <td>1.496825e+09</td>\n",
       "      <td>1.496825e+09</td>\n",
       "      <td>1.496825e+09</td>\n",
       "      <td>1.496825e+09</td>\n",
       "      <td>1.496825e+09</td>\n",
       "    </tr>\n",
       "    <tr>\n",
       "      <th>1</th>\n",
       "      <td>1.496825e+09</td>\n",
       "      <td>1.496825e+09</td>\n",
       "      <td>1.496825e+09</td>\n",
       "      <td>1.496825e+09</td>\n",
       "      <td>1.496825e+09</td>\n",
       "      <td>1.496825e+09</td>\n",
       "      <td>1.496825e+09</td>\n",
       "      <td>1.496825e+09</td>\n",
       "      <td>1.496825e+09</td>\n",
       "      <td>1.496825e+09</td>\n",
       "      <td>1.496825e+09</td>\n",
       "      <td>1.496825e+09</td>\n",
       "      <td>1.496825e+09</td>\n",
       "      <td>1.496825e+09</td>\n",
       "      <td>1.496825e+09</td>\n",
       "      <td>1.496825e+09</td>\n",
       "    </tr>\n",
       "    <tr>\n",
       "      <th>2</th>\n",
       "      <td>1.496825e+09</td>\n",
       "      <td>1.496825e+09</td>\n",
       "      <td>1.496825e+09</td>\n",
       "      <td>1.496825e+09</td>\n",
       "      <td>NaN</td>\n",
       "      <td>NaN</td>\n",
       "      <td>1.496825e+09</td>\n",
       "      <td>1.496825e+09</td>\n",
       "      <td>1.496825e+09</td>\n",
       "      <td>1.496825e+09</td>\n",
       "      <td>1.496825e+09</td>\n",
       "      <td>1.496825e+09</td>\n",
       "      <td>1.496825e+09</td>\n",
       "      <td>1.496825e+09</td>\n",
       "      <td>1.496825e+09</td>\n",
       "      <td>1.496825e+09</td>\n",
       "    </tr>\n",
       "    <tr>\n",
       "      <th>3</th>\n",
       "      <td>1.496825e+09</td>\n",
       "      <td>1.496825e+09</td>\n",
       "      <td>1.496825e+09</td>\n",
       "      <td>1.496825e+09</td>\n",
       "      <td>1.496825e+09</td>\n",
       "      <td>1.496825e+09</td>\n",
       "      <td>1.496825e+09</td>\n",
       "      <td>1.496825e+09</td>\n",
       "      <td>1.496825e+09</td>\n",
       "      <td>1.496825e+09</td>\n",
       "      <td>1.496825e+09</td>\n",
       "      <td>1.496825e+09</td>\n",
       "      <td>1.496825e+09</td>\n",
       "      <td>1.496825e+09</td>\n",
       "      <td>1.496825e+09</td>\n",
       "      <td>1.496825e+09</td>\n",
       "    </tr>\n",
       "    <tr>\n",
       "      <th>4</th>\n",
       "      <td>1.496825e+09</td>\n",
       "      <td>1.496825e+09</td>\n",
       "      <td>1.496825e+09</td>\n",
       "      <td>1.496825e+09</td>\n",
       "      <td>NaN</td>\n",
       "      <td>NaN</td>\n",
       "      <td>1.496825e+09</td>\n",
       "      <td>1.496825e+09</td>\n",
       "      <td>1.496825e+09</td>\n",
       "      <td>1.496825e+09</td>\n",
       "      <td>1.496825e+09</td>\n",
       "      <td>1.496825e+09</td>\n",
       "      <td>1.496825e+09</td>\n",
       "      <td>1.496825e+09</td>\n",
       "      <td>1.496825e+09</td>\n",
       "      <td>1.496825e+09</td>\n",
       "    </tr>\n",
       "    <tr>\n",
       "      <th>5</th>\n",
       "      <td>1.496825e+09</td>\n",
       "      <td>1.496825e+09</td>\n",
       "      <td>1.496825e+09</td>\n",
       "      <td>1.496825e+09</td>\n",
       "      <td>NaN</td>\n",
       "      <td>NaN</td>\n",
       "      <td>1.496825e+09</td>\n",
       "      <td>1.496825e+09</td>\n",
       "      <td>1.496825e+09</td>\n",
       "      <td>1.496825e+09</td>\n",
       "      <td>1.496825e+09</td>\n",
       "      <td>1.496825e+09</td>\n",
       "      <td>1.496825e+09</td>\n",
       "      <td>1.496825e+09</td>\n",
       "      <td>1.496825e+09</td>\n",
       "      <td>1.496825e+09</td>\n",
       "    </tr>\n",
       "  </tbody>\n",
       "</table>\n",
       "</div>"
      ],
      "text/plain": [
       "  ray:acquire_lock                ray:get_task                \\\n",
       "             start           end         start           end   \n",
       "0     1.496825e+09  1.496825e+09  1.496825e+09  1.496825e+09   \n",
       "1     1.496825e+09  1.496825e+09  1.496825e+09  1.496825e+09   \n",
       "2     1.496825e+09  1.496825e+09  1.496825e+09  1.496825e+09   \n",
       "3     1.496825e+09  1.496825e+09  1.496825e+09  1.496825e+09   \n",
       "4     1.496825e+09  1.496825e+09  1.496825e+09  1.496825e+09   \n",
       "5     1.496825e+09  1.496825e+09  1.496825e+09  1.496825e+09   \n",
       "\n",
       "  ray:import_remote_function                    ray:task                \\\n",
       "                       start           end         start           end   \n",
       "0               1.496825e+09  1.496825e+09  1.496825e+09  1.496825e+09   \n",
       "1               1.496825e+09  1.496825e+09  1.496825e+09  1.496825e+09   \n",
       "2                        NaN           NaN  1.496825e+09  1.496825e+09   \n",
       "3               1.496825e+09  1.496825e+09  1.496825e+09  1.496825e+09   \n",
       "4                        NaN           NaN  1.496825e+09  1.496825e+09   \n",
       "5                        NaN           NaN  1.496825e+09  1.496825e+09   \n",
       "\n",
       "  ray:task:execute               ray:task:get_arguments                \\\n",
       "             start           end                  start           end   \n",
       "0     1.496825e+09  1.496825e+09           1.496825e+09  1.496825e+09   \n",
       "1     1.496825e+09  1.496825e+09           1.496825e+09  1.496825e+09   \n",
       "2     1.496825e+09  1.496825e+09           1.496825e+09  1.496825e+09   \n",
       "3     1.496825e+09  1.496825e+09           1.496825e+09  1.496825e+09   \n",
       "4     1.496825e+09  1.496825e+09           1.496825e+09  1.496825e+09   \n",
       "5     1.496825e+09  1.496825e+09           1.496825e+09  1.496825e+09   \n",
       "\n",
       "  ray:task:store_outputs               ray:wait_for_function                \n",
       "                   start           end                 start           end  \n",
       "0           1.496825e+09  1.496825e+09          1.496825e+09  1.496825e+09  \n",
       "1           1.496825e+09  1.496825e+09          1.496825e+09  1.496825e+09  \n",
       "2           1.496825e+09  1.496825e+09          1.496825e+09  1.496825e+09  \n",
       "3           1.496825e+09  1.496825e+09          1.496825e+09  1.496825e+09  \n",
       "4           1.496825e+09  1.496825e+09          1.496825e+09  1.496825e+09  \n",
       "5           1.496825e+09  1.496825e+09          1.496825e+09  1.496825e+09  "
      ]
     },
     "execution_count": 59,
     "metadata": {},
     "output_type": "execute_result"
    }
   ],
   "source": [
    "# The tuple keys for `event_dict` produce a hierarchical index, which could be useful. However, joining or merging it \n",
    "# with other non-hierarchical indices will throw away this structure.\n",
    "\n",
    "edf = pd.DataFrame(event_dict) \n",
    "edf.rename(columns={1: 'start', 2:'end'}, inplace=True)\n",
    "edf"
   ]
  },
  {
   "cell_type": "code",
   "execution_count": 60,
   "metadata": {},
   "outputs": [
    {
     "data": {
      "text/html": [
       "<div>\n",
       "<table border=\"1\" class=\"dataframe\">\n",
       "  <thead>\n",
       "    <tr style=\"text-align: right;\">\n",
       "      <th></th>\n",
       "      <th>function_name</th>\n",
       "      <th>task_id</th>\n",
       "    </tr>\n",
       "  </thead>\n",
       "  <tbody>\n",
       "    <tr>\n",
       "      <th>0</th>\n",
       "      <td>__main__.example</td>\n",
       "      <td>f1213b56d9a8c72fde8e437e2d57b7a281156072</td>\n",
       "    </tr>\n",
       "    <tr>\n",
       "      <th>1</th>\n",
       "      <td>__main__.example</td>\n",
       "      <td>ada487e1c1d2b301d101b26d04b361b96447cb62</td>\n",
       "    </tr>\n",
       "    <tr>\n",
       "      <th>2</th>\n",
       "      <td>__main__.example</td>\n",
       "      <td>bbaf4525690b4daef75f9e227c610d89dfe8c681</td>\n",
       "    </tr>\n",
       "    <tr>\n",
       "      <th>3</th>\n",
       "      <td>__main__.example</td>\n",
       "      <td>e0108437b79bd7ea0ba07ed6b98cd8bd71043c7b</td>\n",
       "    </tr>\n",
       "    <tr>\n",
       "      <th>4</th>\n",
       "      <td>__init__</td>\n",
       "      <td>c5a2bc73bbba18c7a5683f59b9e6701970bb867c</td>\n",
       "    </tr>\n",
       "    <tr>\n",
       "      <th>5</th>\n",
       "      <td>to_go</td>\n",
       "      <td>5c14f428a07abb69994fcfea135e04a847769264</td>\n",
       "    </tr>\n",
       "  </tbody>\n",
       "</table>\n",
       "</div>"
      ],
      "text/plain": [
       "      function_name                                   task_id\n",
       "0  __main__.example  f1213b56d9a8c72fde8e437e2d57b7a281156072\n",
       "1  __main__.example  ada487e1c1d2b301d101b26d04b361b96447cb62\n",
       "2  __main__.example  bbaf4525690b4daef75f9e227c610d89dfe8c681\n",
       "3  __main__.example  e0108437b79bd7ea0ba07ed6b98cd8bd71043c7b\n",
       "4          __init__  c5a2bc73bbba18c7a5683f59b9e6701970bb867c\n",
       "5             to_go  5c14f428a07abb69994fcfea135e04a847769264"
      ]
     },
     "execution_count": 60,
     "metadata": {},
     "output_type": "execute_result"
    }
   ],
   "source": [
    "idf = pd.DataFrame(info_dict)\n",
    "# idf.columns = pd.MultiIndex.from_tuples([(c, '') for c in idf]) # this is non-idempotent!\n",
    "idf"
   ]
  },
  {
   "cell_type": "code",
   "execution_count": 61,
   "metadata": {
    "collapsed": true
   },
   "outputs": [],
   "source": [
    "remote_table = pd.concat([idf, edf], axis=1)"
   ]
  },
  {
   "cell_type": "code",
   "execution_count": null,
   "metadata": {
    "collapsed": true
   },
   "outputs": [],
   "source": [
    "# Here, we join two tables together as an example\n",
    "idf.merge(result, left_on=\"task_id\", right_on=\"TaskSpec.TaskID\")"
   ]
  },
  {
   "cell_type": "code",
   "execution_count": null,
   "metadata": {
    "collapsed": true
   },
   "outputs": [],
   "source": [
    "# Example to get Error, function_name, IP address, Actor ID, ParentID "
   ]
  },
  {
   "cell_type": "markdown",
   "metadata": {},
   "source": [
    "# TODO:\n",
    "\n",
    "- Error messages logging (specifics - which node, which function call, which actor, what time)\n",
    "  - Getting Error messages from Redis is redundant because we already get info in the event_log. Error messages provide extra information such as `error_id` and `type`, which don't seem particularly useful.\n",
    "  - ~Create table for workers (Id, socket info, node IP address) ... are workers even still a proper abstraction~\n",
    "  - Get multinode setting - test out client table\n",
    "  - !! Write out an example for error tracing"
   ]
  },
  {
   "cell_type": "code",
   "execution_count": null,
   "metadata": {
    "collapsed": true
   },
   "outputs": [],
   "source": []
  }
 ],
 "metadata": {
  "kernelspec": {
   "display_name": "Python 3",
   "language": "python",
   "name": "python3"
  },
  "language_info": {
   "codemirror_mode": {
    "name": "ipython",
    "version": 3
   },
   "file_extension": ".py",
   "mimetype": "text/x-python",
   "name": "python",
   "nbconvert_exporter": "python",
   "pygments_lexer": "ipython3",
   "version": "3.5.3"
  }
 },
 "nbformat": 4,
 "nbformat_minor": 2
}
