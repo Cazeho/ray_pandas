{
 "cells": [
  {
   "cell_type": "markdown",
   "metadata": {},
   "source": [
    "# 1. Initialization"
   ]
  },
  {
   "cell_type": "markdown",
   "metadata": {},
   "source": [
    "### Setup"
   ]
  },
  {
   "cell_type": "code",
   "execution_count": 1,
   "metadata": {
    "collapsed": true
   },
   "outputs": [],
   "source": [
    "import ray\n",
    "import pandas as pd\n",
    "import time \n",
    "import numpy as np\n",
    "import binascii\n",
    "import redis\n",
    "import pprint\n",
    "import json\n",
    "import qgrid\n",
    "import matplotlib.pyplot as plt\n",
    "pp = pprint.PrettyPrinter() \n",
    "from misc import *"
   ]
  },
  {
   "cell_type": "code",
   "execution_count": 2,
   "metadata": {
    "scrolled": true
   },
   "outputs": [
    {
     "name": "stdout",
     "output_type": "stream",
     "text": [
      "Waiting for redis server at 127.0.0.1:37233 to respond...\n",
      "Waiting for redis server at 127.0.0.1:25477 to respond...\n",
      "Starting local scheduler with 8 CPUs and 0 GPUs.\n",
      "Starting local scheduler with 8 CPUs and 0 GPUs.\n",
      "Starting local scheduler with 8 CPUs and 0 GPUs.\n"
     ]
    },
    {
     "data": {
      "text/plain": [
       "{'local_scheduler_socket_names': ['/tmp/scheduler42139229',\n",
       "  '/tmp/scheduler37425148',\n",
       "  '/tmp/scheduler83920633'],\n",
       " 'node_ip_address': '127.0.0.1',\n",
       " 'object_store_addresses': [ObjectStoreAddress(name='/tmp/plasma_store59472223', manager_name='/tmp/plasma_manager17603062', manager_port=62223),\n",
       "  ObjectStoreAddress(name='/tmp/plasma_store37036917', manager_name='/tmp/plasma_manager46624397', manager_port=61222),\n",
       "  ObjectStoreAddress(name='/tmp/plasma_store33510014', manager_name='/tmp/plasma_manager44407589', manager_port=45261)],\n",
       " 'redis_address': '127.0.0.1:37233'}"
      ]
     },
     "execution_count": 2,
     "metadata": {},
     "output_type": "execute_result"
    }
   ],
   "source": [
    "ray.worker._init(start_ray_local=True,num_local_schedulers=3, redirect_output = True)"
   ]
  },
  {
   "cell_type": "markdown",
   "metadata": {},
   "source": [
    "### Function definitions"
   ]
  },
  {
   "cell_type": "code",
   "execution_count": 3,
   "metadata": {
    "collapsed": true
   },
   "outputs": [],
   "source": [
    "@ray.remote\n",
    "def example(x):\n",
    "    time.sleep(np.random.random())\n",
    "    return np.random.randn()\n",
    "\n",
    "@ray.remote\n",
    "def example2(x): \n",
    "    return \"hi\"\n",
    "\n",
    "@ray.remote\n",
    "class TestCls():\n",
    "    def __init__(self):\n",
    "        self.g = 1\n",
    "        \n",
    "    def to_go(self, x):\n",
    "        return x\n",
    "\n",
    "    \n",
    "@ray.remote\n",
    "class Outer():\n",
    "    def __init__(self):\n",
    "        self.f = 1\n",
    "        self.test = TestCls.remote()\n",
    "    \n",
    "    def to_go2(self, x):\n",
    "        return x * 2\n",
    "    \n",
    "    def error(self):\n",
    "        return 1/0"
   ]
  },
  {
   "cell_type": "markdown",
   "metadata": {},
   "source": [
    "### Generate data in Redis"
   ]
  },
  {
   "cell_type": "code",
   "execution_count": 4,
   "metadata": {},
   "outputs": [
    {
     "data": {
      "text/plain": [
       "ObjectID(634b3bc51aa1fa578c07d6259b01047f0b9e7bde)"
      ]
     },
     "execution_count": 4,
     "metadata": {},
     "output_type": "execute_result"
    },
    {
     "name": "stdout",
     "output_type": "stream",
     "text": [
      "Remote function error failed with:\n",
      "\n",
      "Traceback (most recent call last):\n",
      "  File \"/Users/michellemarzoev/Desktop/ray/python/ray/worker.py\", line 1754, in process_task\n",
      "    worker.actors[task.actor_id().id()], *arguments)\n",
      "  File \"<ipython-input-3-c197885e48f2>\", line 29, in error\n",
      "ZeroDivisionError: division by zero\n",
      "\n",
      "\n",
      "You can inspect errors by running\n",
      "\n",
      "    ray.error_info()\n",
      "\n",
      "If this driver is hanging, start a new one with\n",
      "\n",
      "    ray.init(redis_address=\"127.0.0.1:37233\")\n",
      "\n"
     ]
    }
   ],
   "source": [
    "# Here, we generate data in redis for remote tasks\n",
    "results = ray.get([example.remote(x) for x in range(4)])\n",
    "results2 = ray.get([example2.remote(x) for x in range(20)])\n",
    "\n",
    "# Generating data for Actor tasks\n",
    "actor = TestCls.remote()\n",
    "actor_results = ray.get([actor.to_go.remote(1)])\n",
    "\n",
    "err_actor = Outer.remote()\n",
    "err_actor.error.remote()"
   ]
  },
  {
   "cell_type": "markdown",
   "metadata": {},
   "source": [
    "### Connect to Redis"
   ]
  },
  {
   "cell_type": "code",
   "execution_count": 5,
   "metadata": {
    "collapsed": true,
    "scrolled": false
   },
   "outputs": [],
   "source": [
    "addr, port = ray.worker.global_worker.redis_address.split(\":\")\n",
    "rc = redis.StrictRedis(host=addr, port=port, decode_responses=True, encoding='latin-1', encoding_errors='replace')"
   ]
  },
  {
   "cell_type": "markdown",
   "metadata": {},
   "source": [
    "# 2. Jobs Data\n"
   ]
  },
  {
   "cell_type": "markdown",
   "metadata": {},
   "source": [
    "### Remote Functions Information"
   ]
  },
  {
   "cell_type": "code",
   "execution_count": 6,
   "metadata": {},
   "outputs": [
    {
     "data": {
      "application/vnd.jupyter.widget-view+json": {
       "model_id": "90deab6b55324e62a1d52aa7ecb61026"
      }
     },
     "metadata": {},
     "output_type": "display_data"
    }
   ],
   "source": [
    "fn_table = ray.global_state.function_table()\n",
    "fn_list = []\n",
    "for fn_id in fn_table:\n",
    "    val = fn_table[fn_id]\n",
    "    val[\"function_id\"] = fn_id\n",
    "    fn_list.append(val)\n",
    "qgrid.nbinstall(overwrite = True)\n",
    "qgrid.show_grid(pd.DataFrame(fn_list))"
   ]
  },
  {
   "cell_type": "markdown",
   "metadata": {},
   "source": [
    "### Task Information"
   ]
  },
  {
   "cell_type": "code",
   "execution_count": 7,
   "metadata": {},
   "outputs": [
    {
     "data": {
      "application/vnd.jupyter.widget-view+json": {
       "model_id": "641c1a85e58243b2a8537ff0c75d19af"
      }
     },
     "metadata": {},
     "output_type": "display_data"
    }
   ],
   "source": [
    "from pandas.io.json import json_normalize\n",
    "\n",
    "tt = ray.global_state.task_table()\n",
    "tt_list = list(tt.values())\n",
    "tt_list\n",
    "\n",
    "for d in tt_list:\n",
    "    d['TaskSpec']['ReturnObjectIDs'] = [oid.hex() for oid in d['TaskSpec']['ReturnObjectIDs']]\n",
    "\n",
    "task_df = json_normalize(tt_list)\n",
    "qgrid.show_grid(task_df)"
   ]
  },
  {
   "cell_type": "markdown",
   "metadata": {},
   "source": [
    "### Actor Information"
   ]
  },
  {
   "cell_type": "code",
   "execution_count": 8,
   "metadata": {},
   "outputs": [
    {
     "data": {
      "application/vnd.jupyter.widget-view+json": {
       "model_id": "924154d351174fb1811b2c75fbe94362"
      }
     },
     "metadata": {},
     "output_type": "display_data"
    }
   ],
   "source": [
    "actor_info = dict()\n",
    "actors = rc.keys(\"Actor*\") \n",
    "for actor in actors:\n",
    "    actor_key_str = actor[len('Actor:'):]\n",
    "    actor_key_bytes = actor_key_str.encode('latin-1')\n",
    "    actor_info['Actor:{}'.format(hex_identifier(actor_key_bytes))] = rc.hgetall(actor)\n",
    "    x = actor_info['Actor:{}'.format(hex_identifier(actor_key_bytes))]\n",
    "    if 'class_id' in x: \n",
    "        class_key_bytes = x['class_id'].encode('latin-1')\n",
    "        x['class_id'] = format(hex_identifier(class_key_bytes))\n",
    "    if 'driver_id' in x: \n",
    "        driver_bytes = x['driver_id'].encode('latin-1')\n",
    "        x['driver_id'] = format(hex_identifier(driver_bytes))\n",
    "\n",
    "actor_df = pd.DataFrame.from_dict(actor_info)\n",
    "qgrid.show_grid(actor_df.T)"
   ]
  },
  {
   "cell_type": "markdown",
   "metadata": {},
   "source": [
    "### Task - Worker Placement Information"
   ]
  },
  {
   "cell_type": "code",
   "execution_count": 9,
   "metadata": {},
   "outputs": [
    {
     "data": {
      "application/vnd.jupyter.widget-view+json": {
       "model_id": "200526607e334413b5f28928f75c5756"
      }
     },
     "metadata": {},
     "output_type": "display_data"
    }
   ],
   "source": [
    "event_names = rc.keys(\"event_log*\")\n",
    "results = dict()\n",
    "for i in range(len(event_names)):\n",
    "    event_list = rc.lrange(event_names[i], 0, -1)\n",
    "    for event in event_list:\n",
    "        event_dict = json.loads(event)\n",
    "        task_id = \"\"\n",
    "        worker_id = \"\"\n",
    "        function_name = \"\"\n",
    "    for element in event_dict:\n",
    "        if \"task_id\" in element[3] and \"worker_id\" in element[3]:\n",
    "            task_id = element[3][\"task_id\"]\n",
    "            worker_id = element[3][\"worker_id\"]\n",
    "            function_name = element[3][\"function_name\"]\n",
    "        if task_id != \"\" and worker_id != \"\" and function_name != \"\":\n",
    "            results[worker_id] = {}\n",
    "            results[worker_id][\"task_id\"] = task_id\n",
    "            results[worker_id][\"function_name\"] = function_name\n",
    "results_table = pd.DataFrame.from_dict(results)\n",
    "qgrid.show_grid(results_table.T)"
   ]
  },
  {
   "cell_type": "markdown",
   "metadata": {},
   "source": [
    "### Task Profiles"
   ]
  },
  {
   "cell_type": "code",
   "execution_count": 10,
   "metadata": {},
   "outputs": [
    {
     "data": {
      "application/vnd.jupyter.widget-view+json": {
       "model_id": "eb0fcff693a94972aa6ff8cdc6b021b6"
      }
     },
     "metadata": {},
     "output_type": "display_data"
    }
   ],
   "source": [
    "task_profiles, events = ray.global_state.task_profiles()\n",
    "profiles_dict = dict()\n",
    "for task_id, profiles in task_profiles.items(): \n",
    "    for profile in profiles:\n",
    "        start_exec = -1\n",
    "        end_exec = -1 \n",
    "        start_store = -1\n",
    "        end_store = -1\n",
    "        start_lock = -1\n",
    "        end_lock = -1\n",
    "        overall_start = profile[0][0]\n",
    "        overall_end = profile[len(profile)-1][0]\n",
    "        overall_dur = overall_end - overall_start\n",
    "        for log in profile: \n",
    "            if log[1] == \"ray:task:execute\" and log[2] == 1: \n",
    "                start_exec = log[0]\n",
    "            if log[1] == \"ray:task:execute\" and log[2] == 2: \n",
    "                end_exec = log[0]\n",
    "            if log[1] == \"ray:task:store_outputs\" and log[2] == 1: \n",
    "                start_store = log[0]\n",
    "            if log[1] == \"ray:task:store_outputs\" and log[2] == 2: \n",
    "                end_store = log[0]\n",
    "            if log[1] == \"ray:acquire_lock\" and log[2] == 1: \n",
    "                start_lock = log[0]\n",
    "            if log[1] == \"ray:acquire_lock\" and log[2] == 2: \n",
    "                end_lock = log[0]\n",
    "        if start_exec != -1 and end_exec != -1 and start_store != -1 and end_store != -1 and start_lock != -1 and end_lock != -1:\n",
    "            profiles_dict[task_id] = dict()\n",
    "            exec_dur = end_exec - start_exec\n",
    "            store_dur = end_store - start_store\n",
    "            lock_dur = end_lock - start_lock\n",
    "            overall_dur = overall_end - overall_start \n",
    "            profiles_dict[task_id][\"execute\"] = exec_dur\n",
    "            profiles_dict[task_id][\"store\"] = store_dur\n",
    "            profiles_dict[task_id][\"acquire_lock\"] = lock_dur\n",
    "            profiles_dict[task_id][\"total\"] = overall_dur\n",
    "            profiles_dict[task_id][\"other\"] = overall_dur - exec_dur - store_dur - lock_dur\n",
    "results_table = pd.DataFrame.from_dict(profiles_dict)\n",
    "qgrid.show_grid(results_table.T)\n",
    "\n"
   ]
  },
  {
   "cell_type": "code",
   "execution_count": 11,
   "metadata": {},
   "outputs": [
    {
     "name": "stdout",
     "output_type": "stream",
     "text": [
      "Overall Task Breakdowns:\n",
      "Acquire Lock: 0.00016204371751017633%\n",
      "Execute: 2.2912148110520647%\n",
      "Store outputs: 0.03695809754430273%\n",
      "Other: 97.67166504768612%\n"
     ]
    },
    {
     "data": {
      "image/png": "[encoded data removed]",
      "text/plain": [
       "<matplotlib.figure.Figure at 0x10ddc7fd0>"
      ]
     },
     "metadata": {},
     "output_type": "display_data"
    }
   ],
   "source": [
    "total_acq = 0\n",
    "total_exec = 0\n",
    "total_store = 0\n",
    "total_other = 0\n",
    "total = 0\n",
    "for value in profiles_dict.values(): \n",
    "    total_exec += value[\"execute\"]\n",
    "    total_acq += value[\"acquire_lock\"]\n",
    "    total_store += value[\"store\"]\n",
    "    total_other += value[\"other\"]\n",
    "    total += value[\"total\"]\n",
    "\n",
    "labels = 'Acquire Lock', 'Execute', 'Store', 'Other'\n",
    "sizes = [total_acq/total, total_exec/total, total_store/total, total_other/total]\n",
    "explode = (0, 0.1, 0, 0)\n",
    "plt.pie(sizes, explode=explode, labels=labels, shadow=True, startangle=140)\n",
    "plt.axis('equal')\n",
    "print(\"Overall Task Breakdowns:\")\n",
    "print(\"Acquire Lock: \" + str(total_acq/total * 100) + \"%\")\n",
    "print(\"Execute: \" + str(total_exec/total * 100) + \"%\")\n",
    "print(\"Store outputs: \" + str(total_store/total * 100) + \"%\")\n",
    "print(\"Other: \" + str(total_other/total * 100) + \"%\")\n",
    "plt.show()\n"
   ]
  },
  {
   "cell_type": "markdown",
   "metadata": {},
   "source": [
    "### Event Profiles "
   ]
  },
  {
   "cell_type": "code",
   "execution_count": 12,
   "metadata": {},
   "outputs": [
    {
     "data": {
      "text/html": [
       "<div>\n",
       "<style>\n",
       "    .dataframe thead tr:only-child th {\n",
       "        text-align: right;\n",
       "    }\n",
       "\n",
       "    .dataframe thead th {\n",
       "        text-align: left;\n",
       "    }\n",
       "\n",
       "    .dataframe tbody tr th {\n",
       "        vertical-align: top;\n",
       "    }\n",
       "</style>\n",
       "<table border=\"1\" class=\"dataframe\">\n",
       "  <thead>\n",
       "    <tr>\n",
       "      <th></th>\n",
       "      <th colspan=\"2\" halign=\"left\">ray:acquire_lock</th>\n",
       "      <th colspan=\"2\" halign=\"left\">ray:get_task</th>\n",
       "      <th colspan=\"2\" halign=\"left\">ray:submit_task</th>\n",
       "      <th colspan=\"2\" halign=\"left\">ray:task</th>\n",
       "      <th colspan=\"2\" halign=\"left\">ray:task:execute</th>\n",
       "      <th colspan=\"2\" halign=\"left\">ray:task:get_arguments</th>\n",
       "      <th colspan=\"2\" halign=\"left\">ray:task:store_outputs</th>\n",
       "      <th colspan=\"2\" halign=\"left\">ray:wait_for_function</th>\n",
       "    </tr>\n",
       "    <tr>\n",
       "      <th></th>\n",
       "      <th>start</th>\n",
       "      <th>end</th>\n",
       "      <th>start</th>\n",
       "      <th>end</th>\n",
       "      <th>start</th>\n",
       "      <th>end</th>\n",
       "      <th>start</th>\n",
       "      <th>end</th>\n",
       "      <th>start</th>\n",
       "      <th>end</th>\n",
       "      <th>start</th>\n",
       "      <th>end</th>\n",
       "      <th>start</th>\n",
       "      <th>end</th>\n",
       "      <th>start</th>\n",
       "      <th>end</th>\n",
       "    </tr>\n",
       "  </thead>\n",
       "  <tbody>\n",
       "    <tr>\n",
       "      <th>0</th>\n",
       "      <td>1.497565e+09</td>\n",
       "      <td>1.497565e+09</td>\n",
       "      <td>1.497565e+09</td>\n",
       "      <td>1.497565e+09</td>\n",
       "      <td>NaN</td>\n",
       "      <td>NaN</td>\n",
       "      <td>1.497565e+09</td>\n",
       "      <td>1.497565e+09</td>\n",
       "      <td>1.497565e+09</td>\n",
       "      <td>1.497565e+09</td>\n",
       "      <td>1.497565e+09</td>\n",
       "      <td>1.497565e+09</td>\n",
       "      <td>1.497565e+09</td>\n",
       "      <td>1.497565e+09</td>\n",
       "      <td>1.497565e+09</td>\n",
       "      <td>1.497565e+09</td>\n",
       "    </tr>\n",
       "    <tr>\n",
       "      <th>1</th>\n",
       "      <td>1.497565e+09</td>\n",
       "      <td>1.497565e+09</td>\n",
       "      <td>1.497565e+09</td>\n",
       "      <td>1.497565e+09</td>\n",
       "      <td>NaN</td>\n",
       "      <td>NaN</td>\n",
       "      <td>1.497565e+09</td>\n",
       "      <td>1.497565e+09</td>\n",
       "      <td>1.497565e+09</td>\n",
       "      <td>1.497565e+09</td>\n",
       "      <td>1.497565e+09</td>\n",
       "      <td>1.497565e+09</td>\n",
       "      <td>1.497565e+09</td>\n",
       "      <td>1.497565e+09</td>\n",
       "      <td>1.497565e+09</td>\n",
       "      <td>1.497565e+09</td>\n",
       "    </tr>\n",
       "    <tr>\n",
       "      <th>2</th>\n",
       "      <td>1.497565e+09</td>\n",
       "      <td>1.497565e+09</td>\n",
       "      <td>1.497565e+09</td>\n",
       "      <td>1.497565e+09</td>\n",
       "      <td>NaN</td>\n",
       "      <td>NaN</td>\n",
       "      <td>1.497565e+09</td>\n",
       "      <td>1.497565e+09</td>\n",
       "      <td>1.497565e+09</td>\n",
       "      <td>1.497565e+09</td>\n",
       "      <td>1.497565e+09</td>\n",
       "      <td>1.497565e+09</td>\n",
       "      <td>1.497565e+09</td>\n",
       "      <td>1.497565e+09</td>\n",
       "      <td>1.497565e+09</td>\n",
       "      <td>1.497565e+09</td>\n",
       "    </tr>\n",
       "    <tr>\n",
       "      <th>3</th>\n",
       "      <td>1.497565e+09</td>\n",
       "      <td>1.497565e+09</td>\n",
       "      <td>1.497565e+09</td>\n",
       "      <td>1.497565e+09</td>\n",
       "      <td>NaN</td>\n",
       "      <td>NaN</td>\n",
       "      <td>1.497565e+09</td>\n",
       "      <td>1.497565e+09</td>\n",
       "      <td>1.497565e+09</td>\n",
       "      <td>1.497565e+09</td>\n",
       "      <td>1.497565e+09</td>\n",
       "      <td>1.497565e+09</td>\n",
       "      <td>1.497565e+09</td>\n",
       "      <td>1.497565e+09</td>\n",
       "      <td>1.497565e+09</td>\n",
       "      <td>1.497565e+09</td>\n",
       "    </tr>\n",
       "    <tr>\n",
       "      <th>4</th>\n",
       "      <td>1.497565e+09</td>\n",
       "      <td>1.497565e+09</td>\n",
       "      <td>1.497565e+09</td>\n",
       "      <td>1.497565e+09</td>\n",
       "      <td>NaN</td>\n",
       "      <td>NaN</td>\n",
       "      <td>1.497565e+09</td>\n",
       "      <td>1.497565e+09</td>\n",
       "      <td>1.497565e+09</td>\n",
       "      <td>1.497565e+09</td>\n",
       "      <td>1.497565e+09</td>\n",
       "      <td>1.497565e+09</td>\n",
       "      <td>1.497565e+09</td>\n",
       "      <td>1.497565e+09</td>\n",
       "      <td>1.497565e+09</td>\n",
       "      <td>1.497565e+09</td>\n",
       "    </tr>\n",
       "    <tr>\n",
       "      <th>5</th>\n",
       "      <td>1.497565e+09</td>\n",
       "      <td>1.497565e+09</td>\n",
       "      <td>1.497565e+09</td>\n",
       "      <td>1.497565e+09</td>\n",
       "      <td>NaN</td>\n",
       "      <td>NaN</td>\n",
       "      <td>1.497565e+09</td>\n",
       "      <td>1.497565e+09</td>\n",
       "      <td>1.497565e+09</td>\n",
       "      <td>1.497565e+09</td>\n",
       "      <td>1.497565e+09</td>\n",
       "      <td>1.497565e+09</td>\n",
       "      <td>1.497565e+09</td>\n",
       "      <td>1.497565e+09</td>\n",
       "      <td>1.497565e+09</td>\n",
       "      <td>1.497565e+09</td>\n",
       "    </tr>\n",
       "    <tr>\n",
       "      <th>6</th>\n",
       "      <td>1.497565e+09</td>\n",
       "      <td>1.497565e+09</td>\n",
       "      <td>1.497565e+09</td>\n",
       "      <td>1.497565e+09</td>\n",
       "      <td>NaN</td>\n",
       "      <td>NaN</td>\n",
       "      <td>1.497565e+09</td>\n",
       "      <td>1.497565e+09</td>\n",
       "      <td>1.497565e+09</td>\n",
       "      <td>1.497565e+09</td>\n",
       "      <td>1.497565e+09</td>\n",
       "      <td>1.497565e+09</td>\n",
       "      <td>1.497565e+09</td>\n",
       "      <td>1.497565e+09</td>\n",
       "      <td>1.497565e+09</td>\n",
       "      <td>1.497565e+09</td>\n",
       "    </tr>\n",
       "    <tr>\n",
       "      <th>7</th>\n",
       "      <td>1.497565e+09</td>\n",
       "      <td>1.497565e+09</td>\n",
       "      <td>1.497565e+09</td>\n",
       "      <td>1.497565e+09</td>\n",
       "      <td>NaN</td>\n",
       "      <td>NaN</td>\n",
       "      <td>1.497565e+09</td>\n",
       "      <td>1.497565e+09</td>\n",
       "      <td>1.497565e+09</td>\n",
       "      <td>1.497565e+09</td>\n",
       "      <td>1.497565e+09</td>\n",
       "      <td>1.497565e+09</td>\n",
       "      <td>1.497565e+09</td>\n",
       "      <td>1.497565e+09</td>\n",
       "      <td>1.497565e+09</td>\n",
       "      <td>1.497565e+09</td>\n",
       "    </tr>\n",
       "    <tr>\n",
       "      <th>8</th>\n",
       "      <td>1.497565e+09</td>\n",
       "      <td>1.497565e+09</td>\n",
       "      <td>1.497565e+09</td>\n",
       "      <td>1.497565e+09</td>\n",
       "      <td>NaN</td>\n",
       "      <td>NaN</td>\n",
       "      <td>1.497565e+09</td>\n",
       "      <td>1.497565e+09</td>\n",
       "      <td>1.497565e+09</td>\n",
       "      <td>1.497565e+09</td>\n",
       "      <td>1.497565e+09</td>\n",
       "      <td>1.497565e+09</td>\n",
       "      <td>1.497565e+09</td>\n",
       "      <td>1.497565e+09</td>\n",
       "      <td>1.497565e+09</td>\n",
       "      <td>1.497565e+09</td>\n",
       "    </tr>\n",
       "    <tr>\n",
       "      <th>9</th>\n",
       "      <td>1.497565e+09</td>\n",
       "      <td>1.497565e+09</td>\n",
       "      <td>1.497565e+09</td>\n",
       "      <td>1.497565e+09</td>\n",
       "      <td>1.497565e+09</td>\n",
       "      <td>1.497565e+09</td>\n",
       "      <td>1.497565e+09</td>\n",
       "      <td>1.497565e+09</td>\n",
       "      <td>1.497565e+09</td>\n",
       "      <td>1.497565e+09</td>\n",
       "      <td>1.497565e+09</td>\n",
       "      <td>1.497565e+09</td>\n",
       "      <td>1.497565e+09</td>\n",
       "      <td>1.497565e+09</td>\n",
       "      <td>1.497565e+09</td>\n",
       "      <td>1.497565e+09</td>\n",
       "    </tr>\n",
       "    <tr>\n",
       "      <th>10</th>\n",
       "      <td>1.497565e+09</td>\n",
       "      <td>1.497565e+09</td>\n",
       "      <td>1.497565e+09</td>\n",
       "      <td>1.497565e+09</td>\n",
       "      <td>NaN</td>\n",
       "      <td>NaN</td>\n",
       "      <td>1.497565e+09</td>\n",
       "      <td>1.497565e+09</td>\n",
       "      <td>1.497565e+09</td>\n",
       "      <td>1.497565e+09</td>\n",
       "      <td>1.497565e+09</td>\n",
       "      <td>1.497565e+09</td>\n",
       "      <td>1.497565e+09</td>\n",
       "      <td>1.497565e+09</td>\n",
       "      <td>1.497565e+09</td>\n",
       "      <td>1.497565e+09</td>\n",
       "    </tr>\n",
       "    <tr>\n",
       "      <th>11</th>\n",
       "      <td>1.497565e+09</td>\n",
       "      <td>1.497565e+09</td>\n",
       "      <td>1.497565e+09</td>\n",
       "      <td>1.497565e+09</td>\n",
       "      <td>NaN</td>\n",
       "      <td>NaN</td>\n",
       "      <td>1.497565e+09</td>\n",
       "      <td>1.497565e+09</td>\n",
       "      <td>1.497565e+09</td>\n",
       "      <td>1.497565e+09</td>\n",
       "      <td>1.497565e+09</td>\n",
       "      <td>1.497565e+09</td>\n",
       "      <td>1.497565e+09</td>\n",
       "      <td>1.497565e+09</td>\n",
       "      <td>1.497565e+09</td>\n",
       "      <td>1.497565e+09</td>\n",
       "    </tr>\n",
       "    <tr>\n",
       "      <th>12</th>\n",
       "      <td>1.497565e+09</td>\n",
       "      <td>1.497565e+09</td>\n",
       "      <td>1.497565e+09</td>\n",
       "      <td>1.497565e+09</td>\n",
       "      <td>NaN</td>\n",
       "      <td>NaN</td>\n",
       "      <td>1.497565e+09</td>\n",
       "      <td>1.497565e+09</td>\n",
       "      <td>1.497565e+09</td>\n",
       "      <td>1.497565e+09</td>\n",
       "      <td>1.497565e+09</td>\n",
       "      <td>1.497565e+09</td>\n",
       "      <td>1.497565e+09</td>\n",
       "      <td>1.497565e+09</td>\n",
       "      <td>1.497565e+09</td>\n",
       "      <td>1.497565e+09</td>\n",
       "    </tr>\n",
       "    <tr>\n",
       "      <th>13</th>\n",
       "      <td>1.497565e+09</td>\n",
       "      <td>1.497565e+09</td>\n",
       "      <td>1.497565e+09</td>\n",
       "      <td>1.497565e+09</td>\n",
       "      <td>NaN</td>\n",
       "      <td>NaN</td>\n",
       "      <td>1.497565e+09</td>\n",
       "      <td>1.497565e+09</td>\n",
       "      <td>1.497565e+09</td>\n",
       "      <td>1.497565e+09</td>\n",
       "      <td>1.497565e+09</td>\n",
       "      <td>1.497565e+09</td>\n",
       "      <td>1.497565e+09</td>\n",
       "      <td>1.497565e+09</td>\n",
       "      <td>1.497565e+09</td>\n",
       "      <td>1.497565e+09</td>\n",
       "    </tr>\n",
       "    <tr>\n",
       "      <th>14</th>\n",
       "      <td>1.497565e+09</td>\n",
       "      <td>1.497565e+09</td>\n",
       "      <td>1.497565e+09</td>\n",
       "      <td>1.497565e+09</td>\n",
       "      <td>NaN</td>\n",
       "      <td>NaN</td>\n",
       "      <td>1.497565e+09</td>\n",
       "      <td>1.497565e+09</td>\n",
       "      <td>1.497565e+09</td>\n",
       "      <td>1.497565e+09</td>\n",
       "      <td>1.497565e+09</td>\n",
       "      <td>1.497565e+09</td>\n",
       "      <td>1.497565e+09</td>\n",
       "      <td>1.497565e+09</td>\n",
       "      <td>1.497565e+09</td>\n",
       "      <td>1.497565e+09</td>\n",
       "    </tr>\n",
       "    <tr>\n",
       "      <th>15</th>\n",
       "      <td>1.497565e+09</td>\n",
       "      <td>1.497565e+09</td>\n",
       "      <td>1.497565e+09</td>\n",
       "      <td>1.497565e+09</td>\n",
       "      <td>NaN</td>\n",
       "      <td>NaN</td>\n",
       "      <td>1.497565e+09</td>\n",
       "      <td>1.497565e+09</td>\n",
       "      <td>1.497565e+09</td>\n",
       "      <td>1.497565e+09</td>\n",
       "      <td>1.497565e+09</td>\n",
       "      <td>1.497565e+09</td>\n",
       "      <td>1.497565e+09</td>\n",
       "      <td>1.497565e+09</td>\n",
       "      <td>1.497565e+09</td>\n",
       "      <td>1.497565e+09</td>\n",
       "    </tr>\n",
       "    <tr>\n",
       "      <th>16</th>\n",
       "      <td>1.497565e+09</td>\n",
       "      <td>1.497565e+09</td>\n",
       "      <td>1.497565e+09</td>\n",
       "      <td>1.497565e+09</td>\n",
       "      <td>NaN</td>\n",
       "      <td>NaN</td>\n",
       "      <td>1.497565e+09</td>\n",
       "      <td>1.497565e+09</td>\n",
       "      <td>1.497565e+09</td>\n",
       "      <td>1.497565e+09</td>\n",
       "      <td>1.497565e+09</td>\n",
       "      <td>1.497565e+09</td>\n",
       "      <td>1.497565e+09</td>\n",
       "      <td>1.497565e+09</td>\n",
       "      <td>1.497565e+09</td>\n",
       "      <td>1.497565e+09</td>\n",
       "    </tr>\n",
       "    <tr>\n",
       "      <th>17</th>\n",
       "      <td>1.497565e+09</td>\n",
       "      <td>1.497565e+09</td>\n",
       "      <td>1.497565e+09</td>\n",
       "      <td>1.497565e+09</td>\n",
       "      <td>NaN</td>\n",
       "      <td>NaN</td>\n",
       "      <td>1.497565e+09</td>\n",
       "      <td>1.497565e+09</td>\n",
       "      <td>1.497565e+09</td>\n",
       "      <td>1.497565e+09</td>\n",
       "      <td>1.497565e+09</td>\n",
       "      <td>1.497565e+09</td>\n",
       "      <td>1.497565e+09</td>\n",
       "      <td>1.497565e+09</td>\n",
       "      <td>1.497565e+09</td>\n",
       "      <td>1.497565e+09</td>\n",
       "    </tr>\n",
       "    <tr>\n",
       "      <th>18</th>\n",
       "      <td>1.497565e+09</td>\n",
       "      <td>1.497565e+09</td>\n",
       "      <td>1.497565e+09</td>\n",
       "      <td>1.497565e+09</td>\n",
       "      <td>NaN</td>\n",
       "      <td>NaN</td>\n",
       "      <td>1.497565e+09</td>\n",
       "      <td>1.497565e+09</td>\n",
       "      <td>1.497565e+09</td>\n",
       "      <td>1.497565e+09</td>\n",
       "      <td>1.497565e+09</td>\n",
       "      <td>1.497565e+09</td>\n",
       "      <td>NaN</td>\n",
       "      <td>NaN</td>\n",
       "      <td>1.497565e+09</td>\n",
       "      <td>1.497565e+09</td>\n",
       "    </tr>\n",
       "    <tr>\n",
       "      <th>19</th>\n",
       "      <td>1.497565e+09</td>\n",
       "      <td>1.497565e+09</td>\n",
       "      <td>1.497565e+09</td>\n",
       "      <td>1.497565e+09</td>\n",
       "      <td>NaN</td>\n",
       "      <td>NaN</td>\n",
       "      <td>1.497565e+09</td>\n",
       "      <td>1.497565e+09</td>\n",
       "      <td>1.497565e+09</td>\n",
       "      <td>1.497565e+09</td>\n",
       "      <td>1.497565e+09</td>\n",
       "      <td>1.497565e+09</td>\n",
       "      <td>1.497565e+09</td>\n",
       "      <td>1.497565e+09</td>\n",
       "      <td>1.497565e+09</td>\n",
       "      <td>1.497565e+09</td>\n",
       "    </tr>\n",
       "    <tr>\n",
       "      <th>20</th>\n",
       "      <td>1.497565e+09</td>\n",
       "      <td>1.497565e+09</td>\n",
       "      <td>1.497565e+09</td>\n",
       "      <td>1.497565e+09</td>\n",
       "      <td>NaN</td>\n",
       "      <td>NaN</td>\n",
       "      <td>1.497565e+09</td>\n",
       "      <td>1.497565e+09</td>\n",
       "      <td>1.497565e+09</td>\n",
       "      <td>1.497565e+09</td>\n",
       "      <td>1.497565e+09</td>\n",
       "      <td>1.497565e+09</td>\n",
       "      <td>1.497565e+09</td>\n",
       "      <td>1.497565e+09</td>\n",
       "      <td>1.497565e+09</td>\n",
       "      <td>1.497565e+09</td>\n",
       "    </tr>\n",
       "    <tr>\n",
       "      <th>21</th>\n",
       "      <td>1.497565e+09</td>\n",
       "      <td>1.497565e+09</td>\n",
       "      <td>1.497565e+09</td>\n",
       "      <td>1.497565e+09</td>\n",
       "      <td>NaN</td>\n",
       "      <td>NaN</td>\n",
       "      <td>1.497565e+09</td>\n",
       "      <td>1.497565e+09</td>\n",
       "      <td>1.497565e+09</td>\n",
       "      <td>1.497565e+09</td>\n",
       "      <td>1.497565e+09</td>\n",
       "      <td>1.497565e+09</td>\n",
       "      <td>1.497565e+09</td>\n",
       "      <td>1.497565e+09</td>\n",
       "      <td>1.497565e+09</td>\n",
       "      <td>1.497565e+09</td>\n",
       "    </tr>\n",
       "    <tr>\n",
       "      <th>22</th>\n",
       "      <td>1.497565e+09</td>\n",
       "      <td>1.497565e+09</td>\n",
       "      <td>1.497565e+09</td>\n",
       "      <td>1.497565e+09</td>\n",
       "      <td>NaN</td>\n",
       "      <td>NaN</td>\n",
       "      <td>1.497565e+09</td>\n",
       "      <td>1.497565e+09</td>\n",
       "      <td>1.497565e+09</td>\n",
       "      <td>1.497565e+09</td>\n",
       "      <td>1.497565e+09</td>\n",
       "      <td>1.497565e+09</td>\n",
       "      <td>1.497565e+09</td>\n",
       "      <td>1.497565e+09</td>\n",
       "      <td>1.497565e+09</td>\n",
       "      <td>1.497565e+09</td>\n",
       "    </tr>\n",
       "    <tr>\n",
       "      <th>23</th>\n",
       "      <td>1.497565e+09</td>\n",
       "      <td>1.497565e+09</td>\n",
       "      <td>1.497565e+09</td>\n",
       "      <td>1.497565e+09</td>\n",
       "      <td>NaN</td>\n",
       "      <td>NaN</td>\n",
       "      <td>1.497565e+09</td>\n",
       "      <td>1.497565e+09</td>\n",
       "      <td>1.497565e+09</td>\n",
       "      <td>1.497565e+09</td>\n",
       "      <td>1.497565e+09</td>\n",
       "      <td>1.497565e+09</td>\n",
       "      <td>1.497565e+09</td>\n",
       "      <td>1.497565e+09</td>\n",
       "      <td>1.497565e+09</td>\n",
       "      <td>1.497565e+09</td>\n",
       "    </tr>\n",
       "    <tr>\n",
       "      <th>24</th>\n",
       "      <td>1.497565e+09</td>\n",
       "      <td>1.497565e+09</td>\n",
       "      <td>1.497565e+09</td>\n",
       "      <td>1.497565e+09</td>\n",
       "      <td>NaN</td>\n",
       "      <td>NaN</td>\n",
       "      <td>1.497565e+09</td>\n",
       "      <td>1.497565e+09</td>\n",
       "      <td>1.497565e+09</td>\n",
       "      <td>1.497565e+09</td>\n",
       "      <td>1.497565e+09</td>\n",
       "      <td>1.497565e+09</td>\n",
       "      <td>1.497565e+09</td>\n",
       "      <td>1.497565e+09</td>\n",
       "      <td>1.497565e+09</td>\n",
       "      <td>1.497565e+09</td>\n",
       "    </tr>\n",
       "    <tr>\n",
       "      <th>25</th>\n",
       "      <td>1.497565e+09</td>\n",
       "      <td>1.497565e+09</td>\n",
       "      <td>1.497565e+09</td>\n",
       "      <td>1.497565e+09</td>\n",
       "      <td>NaN</td>\n",
       "      <td>NaN</td>\n",
       "      <td>1.497565e+09</td>\n",
       "      <td>1.497565e+09</td>\n",
       "      <td>1.497565e+09</td>\n",
       "      <td>1.497565e+09</td>\n",
       "      <td>1.497565e+09</td>\n",
       "      <td>1.497565e+09</td>\n",
       "      <td>1.497565e+09</td>\n",
       "      <td>1.497565e+09</td>\n",
       "      <td>1.497565e+09</td>\n",
       "      <td>1.497565e+09</td>\n",
       "    </tr>\n",
       "    <tr>\n",
       "      <th>26</th>\n",
       "      <td>1.497565e+09</td>\n",
       "      <td>1.497565e+09</td>\n",
       "      <td>1.497565e+09</td>\n",
       "      <td>1.497565e+09</td>\n",
       "      <td>NaN</td>\n",
       "      <td>NaN</td>\n",
       "      <td>1.497565e+09</td>\n",
       "      <td>1.497565e+09</td>\n",
       "      <td>1.497565e+09</td>\n",
       "      <td>1.497565e+09</td>\n",
       "      <td>1.497565e+09</td>\n",
       "      <td>1.497565e+09</td>\n",
       "      <td>1.497565e+09</td>\n",
       "      <td>1.497565e+09</td>\n",
       "      <td>1.497565e+09</td>\n",
       "      <td>1.497565e+09</td>\n",
       "    </tr>\n",
       "    <tr>\n",
       "      <th>27</th>\n",
       "      <td>1.497565e+09</td>\n",
       "      <td>1.497565e+09</td>\n",
       "      <td>1.497565e+09</td>\n",
       "      <td>1.497565e+09</td>\n",
       "      <td>NaN</td>\n",
       "      <td>NaN</td>\n",
       "      <td>1.497565e+09</td>\n",
       "      <td>1.497565e+09</td>\n",
       "      <td>1.497565e+09</td>\n",
       "      <td>1.497565e+09</td>\n",
       "      <td>1.497565e+09</td>\n",
       "      <td>1.497565e+09</td>\n",
       "      <td>1.497565e+09</td>\n",
       "      <td>1.497565e+09</td>\n",
       "      <td>1.497565e+09</td>\n",
       "      <td>1.497565e+09</td>\n",
       "    </tr>\n",
       "    <tr>\n",
       "      <th>28</th>\n",
       "      <td>1.497565e+09</td>\n",
       "      <td>1.497565e+09</td>\n",
       "      <td>1.497565e+09</td>\n",
       "      <td>1.497565e+09</td>\n",
       "      <td>NaN</td>\n",
       "      <td>NaN</td>\n",
       "      <td>1.497565e+09</td>\n",
       "      <td>1.497565e+09</td>\n",
       "      <td>1.497565e+09</td>\n",
       "      <td>1.497565e+09</td>\n",
       "      <td>1.497565e+09</td>\n",
       "      <td>1.497565e+09</td>\n",
       "      <td>1.497565e+09</td>\n",
       "      <td>1.497565e+09</td>\n",
       "      <td>1.497565e+09</td>\n",
       "      <td>1.497565e+09</td>\n",
       "    </tr>\n",
       "  </tbody>\n",
       "</table>\n",
       "</div>"
      ],
      "text/plain": [
       "   ray:acquire_lock                ray:get_task               ray:submit_task  \\\n",
       "              start           end         start           end           start   \n",
       "0      1.497565e+09  1.497565e+09  1.497565e+09  1.497565e+09             NaN   \n",
       "1      1.497565e+09  1.497565e+09  1.497565e+09  1.497565e+09             NaN   \n",
       "2      1.497565e+09  1.497565e+09  1.497565e+09  1.497565e+09             NaN   \n",
       "3      1.497565e+09  1.497565e+09  1.497565e+09  1.497565e+09             NaN   \n",
       "4      1.497565e+09  1.497565e+09  1.497565e+09  1.497565e+09             NaN   \n",
       "5      1.497565e+09  1.497565e+09  1.497565e+09  1.497565e+09             NaN   \n",
       "6      1.497565e+09  1.497565e+09  1.497565e+09  1.497565e+09             NaN   \n",
       "7      1.497565e+09  1.497565e+09  1.497565e+09  1.497565e+09             NaN   \n",
       "8      1.497565e+09  1.497565e+09  1.497565e+09  1.497565e+09             NaN   \n",
       "9      1.497565e+09  1.497565e+09  1.497565e+09  1.497565e+09    1.497565e+09   \n",
       "10     1.497565e+09  1.497565e+09  1.497565e+09  1.497565e+09             NaN   \n",
       "11     1.497565e+09  1.497565e+09  1.497565e+09  1.497565e+09             NaN   \n",
       "12     1.497565e+09  1.497565e+09  1.497565e+09  1.497565e+09             NaN   \n",
       "13     1.497565e+09  1.497565e+09  1.497565e+09  1.497565e+09             NaN   \n",
       "14     1.497565e+09  1.497565e+09  1.497565e+09  1.497565e+09             NaN   \n",
       "15     1.497565e+09  1.497565e+09  1.497565e+09  1.497565e+09             NaN   \n",
       "16     1.497565e+09  1.497565e+09  1.497565e+09  1.497565e+09             NaN   \n",
       "17     1.497565e+09  1.497565e+09  1.497565e+09  1.497565e+09             NaN   \n",
       "18     1.497565e+09  1.497565e+09  1.497565e+09  1.497565e+09             NaN   \n",
       "19     1.497565e+09  1.497565e+09  1.497565e+09  1.497565e+09             NaN   \n",
       "20     1.497565e+09  1.497565e+09  1.497565e+09  1.497565e+09             NaN   \n",
       "21     1.497565e+09  1.497565e+09  1.497565e+09  1.497565e+09             NaN   \n",
       "22     1.497565e+09  1.497565e+09  1.497565e+09  1.497565e+09             NaN   \n",
       "23     1.497565e+09  1.497565e+09  1.497565e+09  1.497565e+09             NaN   \n",
       "24     1.497565e+09  1.497565e+09  1.497565e+09  1.497565e+09             NaN   \n",
       "25     1.497565e+09  1.497565e+09  1.497565e+09  1.497565e+09             NaN   \n",
       "26     1.497565e+09  1.497565e+09  1.497565e+09  1.497565e+09             NaN   \n",
       "27     1.497565e+09  1.497565e+09  1.497565e+09  1.497565e+09             NaN   \n",
       "28     1.497565e+09  1.497565e+09  1.497565e+09  1.497565e+09             NaN   \n",
       "\n",
       "                      ray:task               ray:task:execute                \\\n",
       "             end         start           end            start           end   \n",
       "0            NaN  1.497565e+09  1.497565e+09     1.497565e+09  1.497565e+09   \n",
       "1            NaN  1.497565e+09  1.497565e+09     1.497565e+09  1.497565e+09   \n",
       "2            NaN  1.497565e+09  1.497565e+09     1.497565e+09  1.497565e+09   \n",
       "3            NaN  1.497565e+09  1.497565e+09     1.497565e+09  1.497565e+09   \n",
       "4            NaN  1.497565e+09  1.497565e+09     1.497565e+09  1.497565e+09   \n",
       "5            NaN  1.497565e+09  1.497565e+09     1.497565e+09  1.497565e+09   \n",
       "6            NaN  1.497565e+09  1.497565e+09     1.497565e+09  1.497565e+09   \n",
       "7            NaN  1.497565e+09  1.497565e+09     1.497565e+09  1.497565e+09   \n",
       "8            NaN  1.497565e+09  1.497565e+09     1.497565e+09  1.497565e+09   \n",
       "9   1.497565e+09  1.497565e+09  1.497565e+09     1.497565e+09  1.497565e+09   \n",
       "10           NaN  1.497565e+09  1.497565e+09     1.497565e+09  1.497565e+09   \n",
       "11           NaN  1.497565e+09  1.497565e+09     1.497565e+09  1.497565e+09   \n",
       "12           NaN  1.497565e+09  1.497565e+09     1.497565e+09  1.497565e+09   \n",
       "13           NaN  1.497565e+09  1.497565e+09     1.497565e+09  1.497565e+09   \n",
       "14           NaN  1.497565e+09  1.497565e+09     1.497565e+09  1.497565e+09   \n",
       "15           NaN  1.497565e+09  1.497565e+09     1.497565e+09  1.497565e+09   \n",
       "16           NaN  1.497565e+09  1.497565e+09     1.497565e+09  1.497565e+09   \n",
       "17           NaN  1.497565e+09  1.497565e+09     1.497565e+09  1.497565e+09   \n",
       "18           NaN  1.497565e+09  1.497565e+09     1.497565e+09  1.497565e+09   \n",
       "19           NaN  1.497565e+09  1.497565e+09     1.497565e+09  1.497565e+09   \n",
       "20           NaN  1.497565e+09  1.497565e+09     1.497565e+09  1.497565e+09   \n",
       "21           NaN  1.497565e+09  1.497565e+09     1.497565e+09  1.497565e+09   \n",
       "22           NaN  1.497565e+09  1.497565e+09     1.497565e+09  1.497565e+09   \n",
       "23           NaN  1.497565e+09  1.497565e+09     1.497565e+09  1.497565e+09   \n",
       "24           NaN  1.497565e+09  1.497565e+09     1.497565e+09  1.497565e+09   \n",
       "25           NaN  1.497565e+09  1.497565e+09     1.497565e+09  1.497565e+09   \n",
       "26           NaN  1.497565e+09  1.497565e+09     1.497565e+09  1.497565e+09   \n",
       "27           NaN  1.497565e+09  1.497565e+09     1.497565e+09  1.497565e+09   \n",
       "28           NaN  1.497565e+09  1.497565e+09     1.497565e+09  1.497565e+09   \n",
       "\n",
       "   ray:task:get_arguments               ray:task:store_outputs                \\\n",
       "                    start           end                  start           end   \n",
       "0            1.497565e+09  1.497565e+09           1.497565e+09  1.497565e+09   \n",
       "1            1.497565e+09  1.497565e+09           1.497565e+09  1.497565e+09   \n",
       "2            1.497565e+09  1.497565e+09           1.497565e+09  1.497565e+09   \n",
       "3            1.497565e+09  1.497565e+09           1.497565e+09  1.497565e+09   \n",
       "4            1.497565e+09  1.497565e+09           1.497565e+09  1.497565e+09   \n",
       "5            1.497565e+09  1.497565e+09           1.497565e+09  1.497565e+09   \n",
       "6            1.497565e+09  1.497565e+09           1.497565e+09  1.497565e+09   \n",
       "7            1.497565e+09  1.497565e+09           1.497565e+09  1.497565e+09   \n",
       "8            1.497565e+09  1.497565e+09           1.497565e+09  1.497565e+09   \n",
       "9            1.497565e+09  1.497565e+09           1.497565e+09  1.497565e+09   \n",
       "10           1.497565e+09  1.497565e+09           1.497565e+09  1.497565e+09   \n",
       "11           1.497565e+09  1.497565e+09           1.497565e+09  1.497565e+09   \n",
       "12           1.497565e+09  1.497565e+09           1.497565e+09  1.497565e+09   \n",
       "13           1.497565e+09  1.497565e+09           1.497565e+09  1.497565e+09   \n",
       "14           1.497565e+09  1.497565e+09           1.497565e+09  1.497565e+09   \n",
       "15           1.497565e+09  1.497565e+09           1.497565e+09  1.497565e+09   \n",
       "16           1.497565e+09  1.497565e+09           1.497565e+09  1.497565e+09   \n",
       "17           1.497565e+09  1.497565e+09           1.497565e+09  1.497565e+09   \n",
       "18           1.497565e+09  1.497565e+09                    NaN           NaN   \n",
       "19           1.497565e+09  1.497565e+09           1.497565e+09  1.497565e+09   \n",
       "20           1.497565e+09  1.497565e+09           1.497565e+09  1.497565e+09   \n",
       "21           1.497565e+09  1.497565e+09           1.497565e+09  1.497565e+09   \n",
       "22           1.497565e+09  1.497565e+09           1.497565e+09  1.497565e+09   \n",
       "23           1.497565e+09  1.497565e+09           1.497565e+09  1.497565e+09   \n",
       "24           1.497565e+09  1.497565e+09           1.497565e+09  1.497565e+09   \n",
       "25           1.497565e+09  1.497565e+09           1.497565e+09  1.497565e+09   \n",
       "26           1.497565e+09  1.497565e+09           1.497565e+09  1.497565e+09   \n",
       "27           1.497565e+09  1.497565e+09           1.497565e+09  1.497565e+09   \n",
       "28           1.497565e+09  1.497565e+09           1.497565e+09  1.497565e+09   \n",
       "\n",
       "   ray:wait_for_function                \n",
       "                   start           end  \n",
       "0           1.497565e+09  1.497565e+09  \n",
       "1           1.497565e+09  1.497565e+09  \n",
       "2           1.497565e+09  1.497565e+09  \n",
       "3           1.497565e+09  1.497565e+09  \n",
       "4           1.497565e+09  1.497565e+09  \n",
       "5           1.497565e+09  1.497565e+09  \n",
       "6           1.497565e+09  1.497565e+09  \n",
       "7           1.497565e+09  1.497565e+09  \n",
       "8           1.497565e+09  1.497565e+09  \n",
       "9           1.497565e+09  1.497565e+09  \n",
       "10          1.497565e+09  1.497565e+09  \n",
       "11          1.497565e+09  1.497565e+09  \n",
       "12          1.497565e+09  1.497565e+09  \n",
       "13          1.497565e+09  1.497565e+09  \n",
       "14          1.497565e+09  1.497565e+09  \n",
       "15          1.497565e+09  1.497565e+09  \n",
       "16          1.497565e+09  1.497565e+09  \n",
       "17          1.497565e+09  1.497565e+09  \n",
       "18          1.497565e+09  1.497565e+09  \n",
       "19          1.497565e+09  1.497565e+09  \n",
       "20          1.497565e+09  1.497565e+09  \n",
       "21          1.497565e+09  1.497565e+09  \n",
       "22          1.497565e+09  1.497565e+09  \n",
       "23          1.497565e+09  1.497565e+09  \n",
       "24          1.497565e+09  1.497565e+09  \n",
       "25          1.497565e+09  1.497565e+09  \n",
       "26          1.497565e+09  1.497565e+09  \n",
       "27          1.497565e+09  1.497565e+09  \n",
       "28          1.497565e+09  1.497565e+09  "
      ]
     },
     "execution_count": 12,
     "metadata": {},
     "output_type": "execute_result"
    }
   ],
   "source": [
    "event_list = []\n",
    "\n",
    "# Get and decode all task timing/event logs\n",
    "for key in rc.keys(\"event_log*\"):\n",
    "    content = rc.lrange(key, 0, -1)\n",
    "    event_list.append(json.loads(content[0])) \n",
    "    \n",
    "from collections import defaultdict\n",
    "\n",
    "# event_dict is used to store timing info\n",
    "event_dict = defaultdict(lambda: np.full(len(event_list), np.nan))\n",
    "\n",
    "# info_dict is used to store meta data - such as function names and task id\n",
    "info_dict = defaultdict(lambda: [None] * len(event_list))\n",
    "\n",
    "for i, task_event in enumerate(event_list):\n",
    "    for event in (task_event):\n",
    "        time, label, startstop, info = event\n",
    "        event_dict[(label, startstop)][i] = time\n",
    "        if info:\n",
    "            for k in info:\n",
    "                info_dict[k][i] = info[k]\n",
    "\n",
    "edf = pd.DataFrame(dict(event_dict))\n",
    "edf.rename(columns={1: 'start', 2:'end'}, inplace=True)\n",
    "edf"
   ]
  },
  {
   "cell_type": "markdown",
   "metadata": {},
   "source": [
    "### Stragglers"
   ]
  },
  {
   "cell_type": "code",
   "execution_count": 13,
   "metadata": {},
   "outputs": [
    {
     "data": {
      "application/vnd.jupyter.widget-view+json": {
       "model_id": "d499edb7e6b04df0b4ffefa447514ce1"
      }
     },
     "metadata": {},
     "output_type": "display_data"
    }
   ],
   "source": [
    "event_names = rc.keys(\"event_log*\")\n",
    "x = 10\n",
    "stragglers = dict()\n",
    "\n",
    "for i in range(len(event_names)):\n",
    "    event_list = rc.lrange(event_names[i], 0, -1)\n",
    "    for event in event_list:\n",
    "        event_dict = json.loads(event)\n",
    "        task_id = \"\"\n",
    "        overall_start = event_dict[0][0]\n",
    "        overall_end = event_dict[len(event_dict)-1][0]\n",
    "        overall_dur = overall_end - overall_start\n",
    "        exec_start = -1\n",
    "        exec_end = -1\n",
    "        exec_dur = -1\n",
    "        for element in event_dict:\n",
    "            if element[1] == \"ray:task:execute\" and element[2] == 1:\n",
    "                exec_start = element[0]\n",
    "            if element[1] == \"ray:task:execute\" and element[2] == 2:\n",
    "                exec_end = element[0]\n",
    "            if \"task_id\" in element[3]:\n",
    "                task_id = element[3][\"task_id\"]\n",
    "        if exec_start != -1 and exec_end != -1 and task_id != \"\":\n",
    "            exec_dur = exec_end - exec_start\n",
    "            if len(stragglers.keys()) < x:\n",
    "                stragglers[task_id] = exec_dur\n",
    "            if len(stragglers.keys()) == x:\n",
    "                shortest_time = min(stragglers.values()) \n",
    "                for tid, time in stragglers.items(): \n",
    "                    if time == shortest_time: \n",
    "                        del[tid] \n",
    "                        stragglers[task_id] = exec_dur \n",
    "                        break\n",
    "results_table = pd.DataFrame(stragglers, index = [0])\n",
    "qgrid.show_grid(results_table.T)\n"
   ]
  },
  {
   "cell_type": "markdown",
   "metadata": {},
   "source": [
    "### Reconstructed Task Information"
   ]
  },
  {
   "cell_type": "code",
   "execution_count": 14,
   "metadata": {},
   "outputs": [
    {
     "data": {
      "application/vnd.jupyter.widget-view+json": {
       "model_id": "f8250d9089944a5f8097db07261a9559"
      }
     },
     "metadata": {},
     "output_type": "display_data"
    }
   ],
   "source": [
    "event_names = rc.keys(\"event_log*\")\n",
    "attempted = dict()\n",
    "reconstructed = dict()\n",
    "for i in range(len(event_names)):\n",
    "    event_list = rc.lrange(event_names[i], 0, -1)\n",
    "    for event in event_list:\n",
    "        event_dict = json.loads(event)\n",
    "        task_id = \"\"\n",
    "        for element in event_dict:\n",
    "            if \"task_id\" in element[3]:\n",
    "                task_id = element[3][\"task_id\"]\n",
    "        if task_id != \"\":\n",
    "            if task_id in attempted:\n",
    "                if task_id not in reconstructed:\n",
    "                    reconstructed[task_id] = 0\n",
    "                    reconstructed[task_id] += 1\n",
    "                else:\n",
    "                    attempted[task_id] = True\n",
    "results_table = pd.DataFrame(reconstructed)\n",
    "qgrid.show_grid(results_table)\n",
    "# include objects"
   ]
  },
  {
   "cell_type": "markdown",
   "metadata": {},
   "source": [
    "# 3. System State\n"
   ]
  },
  {
   "cell_type": "markdown",
   "metadata": {},
   "source": [
    "### Node Information"
   ]
  },
  {
   "cell_type": "code",
   "execution_count": 15,
   "metadata": {},
   "outputs": [
    {
     "data": {
      "application/vnd.jupyter.widget-view+json": {
       "model_id": "b7f9e10188d34a4fba6cf672d92f1a79"
      }
     },
     "metadata": {},
     "output_type": "display_data"
    }
   ],
   "source": [
    "# Using the global state API, we can populate a DataFrame with a list of Redis Clients currently connected\n",
    "ctable = ray.global_state.client_table()\n",
    "\n",
    "client_list = []\n",
    "for node_ip in ctable:\n",
    "    for client in ctable[node_ip]:\n",
    "        client[\"node_ip_address\"] = node_ip\n",
    "        client_list.append(client)\n",
    "\n",
    "client_df = pd.DataFrame(client_list)\n",
    "qgrid.show_grid(client_df)"
   ]
  },
  {
   "cell_type": "markdown",
   "metadata": {},
   "source": [
    "### Object Store"
   ]
  },
  {
   "cell_type": "code",
   "execution_count": 16,
   "metadata": {},
   "outputs": [
    {
     "data": {
      "application/vnd.jupyter.widget-view+json": {
       "model_id": "7956ec3d51e0491386e6f87dc474e544"
      }
     },
     "metadata": {},
     "output_type": "display_data"
    }
   ],
   "source": [
    "# We can populate a DataFrame with a list of objects in the object store\n",
    "object_dict = {oid.hex(): v for oid, v in ray.global_state.object_table().items()}\n",
    "object_df = pd.DataFrame(object_dict).transpose()\n",
    "qgrid.show_grid(object_df)"
   ]
  },
  {
   "cell_type": "markdown",
   "metadata": {},
   "source": [
    "### Object - Worker Placement Information "
   ]
  },
  {
   "cell_type": "code",
   "execution_count": 17,
   "metadata": {},
   "outputs": [
    {
     "ename": "IndexError",
     "evalue": "list index out of range",
     "output_type": "error",
     "traceback": [
      "\u001b[0;31m---------------------------------------------------------------------------\u001b[0m",
      "\u001b[0;31mIndexError\u001b[0m                                Traceback (most recent call last)",
      "\u001b[0;32m<ipython-input-17-9886a9ac52ca>\u001b[0m in \u001b[0;36m<module>\u001b[0;34m()\u001b[0m\n\u001b[1;32m     10\u001b[0m             \u001b[0mobject_id\u001b[0m \u001b[0;34m=\u001b[0m \u001b[0mstr\u001b[0m\u001b[0;34m(\u001b[0m\u001b[0mobject_id\u001b[0m\u001b[0;34m)\u001b[0m\u001b[0;34m\u001b[0m\u001b[0m\n\u001b[1;32m     11\u001b[0m             \u001b[0mobj_comp\u001b[0m \u001b[0;34m=\u001b[0m \u001b[0mobject_id\u001b[0m\u001b[0;34m.\u001b[0m\u001b[0msplit\u001b[0m\u001b[0;34m(\u001b[0m\u001b[0;34m\"(\"\u001b[0m\u001b[0;34m)\u001b[0m\u001b[0;34m\u001b[0m\u001b[0m\n\u001b[0;32m---> 12\u001b[0;31m             \u001b[0mobj_comps\u001b[0m \u001b[0;34m=\u001b[0m \u001b[0mobj_comp\u001b[0m\u001b[0;34m[\u001b[0m\u001b[0;36m1\u001b[0m\u001b[0;34m]\u001b[0m\u001b[0;34m.\u001b[0m\u001b[0msplit\u001b[0m\u001b[0;34m(\u001b[0m\u001b[0;34m\")\"\u001b[0m\u001b[0;34m)\u001b[0m\u001b[0;34m\u001b[0m\u001b[0m\n\u001b[0m\u001b[1;32m     13\u001b[0m             \u001b[0mobject_id\u001b[0m \u001b[0;34m=\u001b[0m \u001b[0mobj_comps\u001b[0m\u001b[0;34m[\u001b[0m\u001b[0;36m0\u001b[0m\u001b[0;34m]\u001b[0m\u001b[0;34m\u001b[0m\u001b[0m\n\u001b[1;32m     14\u001b[0m             \u001b[0mlocation_to_objects\u001b[0m\u001b[0;34m[\u001b[0m\u001b[0mlocation\u001b[0m\u001b[0;34m]\u001b[0m\u001b[0;34m.\u001b[0m\u001b[0mappend\u001b[0m\u001b[0;34m(\u001b[0m\u001b[0mobject_id\u001b[0m\u001b[0;34m)\u001b[0m\u001b[0;34m\u001b[0m\u001b[0m\n",
      "\u001b[0;31mIndexError\u001b[0m: list index out of range"
     ]
    }
   ],
   "source": [
    "# Objects associated with each worker_id \n",
    "object_table = ray.global_state.object_table()\n",
    "location_to_objects = dict()\n",
    "\n",
    "for object_id, object_descriptor in object_table.items():\n",
    "    if object_descriptor[\"ManagerIDs\"] != None: \n",
    "        for location in object_descriptor[\"ManagerIDs\"]:\n",
    "            if location not in location_to_objects:\n",
    "                location_to_objects[location] = []\n",
    "            object_id = str(object_id)\n",
    "            obj_comp = object_id.split(\"(\")\n",
    "            obj_comps = obj_comp[1].split(\")\") \n",
    "            object_id = obj_comps[0]\n",
    "            location_to_objects[location].append(object_id)\n",
    "table = pd.DataFrame.from_dict(location_to_objects)\n",
    "qgrid.show_grid(table)\n",
    "# object id -> worker id \n",
    "# skew in how objects are distributed \n",
    "# physical nodes -> total amt data on node, num tasks "
   ]
  },
  {
   "cell_type": "markdown",
   "metadata": {},
   "source": [
    "### Worker Information"
   ]
  },
  {
   "cell_type": "code",
   "execution_count": 18,
   "metadata": {},
   "outputs": [
    {
     "data": {
      "application/vnd.jupyter.widget-view+json": {
       "model_id": "38181549a3d645509d0aeee460bb4076"
      }
     },
     "metadata": {},
     "output_type": "display_data"
    }
   ],
   "source": [
    "workers = rc.keys(\"Worker*\") \n",
    "worker_info = dict()\n",
    "for worker in workers:\n",
    "    worker_key_str = worker[len('Workers:'):]\n",
    "    worker_key_bytes = worker_key_str.encode('latin-1')\n",
    "    worker_info['Workers:{}'.format(hex_identifier(worker_key_bytes))] = rc.hgetall(worker)\n",
    "table = pd.DataFrame.from_dict(worker_info)\n",
    "qgrid.show_grid(table.T)\n",
    "# resource info for each physical node \n",
    "# double check the IP "
   ]
  },
  {
   "cell_type": "markdown",
   "metadata": {},
   "source": [
    "### Object Transfer Information "
   ]
  },
  {
   "cell_type": "code",
   "execution_count": 41,
   "metadata": {},
   "outputs": [
    {
     "data": {
      "application/vnd.jupyter.widget-view+json": {
       "model_id": "fb0bbf795ddf4e7e88035bac0645fd35"
      }
     },
     "metadata": {},
     "output_type": "display_data"
    }
   ],
   "source": [
    "log_files = ray.global_state.log_files()\n",
    "transferred = dict()\n",
    "for addr, inner_dict in log_files.items(): \n",
    "    for filename, contents in inner_dict.items(): \n",
    "        if \"plasma_manager\" in filename and \".out\" in filename:\n",
    "            cont = str(contents).split(\"ObjectID: \") \n",
    "            cont2 = cont[1].split(\"\\\\n\")\n",
    "            if cont2[0] not in transferred:\n",
    "                transferred[cont2[0]] = 0 \n",
    "            transferred[cont2[0]] += 1 \n",
    "table = pd.DataFrame(transferred, index = [0]) \n",
    "qgrid.show_grid(table.T)\n"
   ]
  },
  {
   "cell_type": "markdown",
   "metadata": {},
   "source": [
    "# 3. Error Information"
   ]
  },
  {
   "cell_type": "markdown",
   "metadata": {},
   "source": [
    "### Error Profiles\n"
   ]
  },
  {
   "cell_type": "code",
   "execution_count": 19,
   "metadata": {},
   "outputs": [
    {
     "data": {
      "application/vnd.jupyter.widget-view+json": {
       "model_id": "e7b77e23afa846219bee7054cbbfcef1"
      }
     },
     "metadata": {},
     "output_type": "display_data"
    }
   ],
   "source": [
    "event_names = rc.keys(\"event_log*\")\n",
    "error_profiles = dict()\n",
    "for i in range(len(event_names)):\n",
    "    event_list = rc.lrange(event_names[i], 0, -1)\n",
    "    for event in event_list:\n",
    "        event_dict = json.loads(event)\n",
    "        task_id = \"\"\n",
    "        traceback = \"\"\n",
    "        worker_id = \"\"\n",
    "        start_time = -1\n",
    "    for element in event_dict:\n",
    "        if element[1] == \"ray:task:execute\" and element[2] == 1:\n",
    "            start_time = element[0]\n",
    "        if \"task_id\" in element[3] and \"worker_id\" in element[3]:\n",
    "            task_id = element[3][\"task_id\"]\n",
    "            worker_id = element[3][\"worker_id\"]\n",
    "        if \"traceback\" in element[3]:\n",
    "            traceback = element[3][\"traceback\"]\n",
    "        if task_id != \"\" and worker_id != \"\" and traceback != \"\":\n",
    "            if start_time != -1:\n",
    "                error_profiles[task_id] = dict()\n",
    "                error_profiles[task_id][\"worker_id\"] = worker_id\n",
    "                error_profiles[task_id][\"traceback\"] = traceback\n",
    "                error_profiles[task_id][\"start_time\"] = start_time\n",
    "table = pd.DataFrame.from_dict(error_profiles) \n",
    "qgrid.show_grid(table.T)"
   ]
  },
  {
   "cell_type": "code",
   "execution_count": null,
   "metadata": {
    "collapsed": true
   },
   "outputs": [],
   "source": []
  }
 ],
 "metadata": {
  "kernelspec": {
   "display_name": "Python 3",
   "language": "python",
   "name": "python3"
  },
  "language_info": {
   "codemirror_mode": {
    "name": "ipython",
    "version": 3
   },
   "file_extension": ".py",
   "mimetype": "text/x-python",
   "name": "python",
   "nbconvert_exporter": "python",
   "pygments_lexer": "ipython3",
   "version": "3.6.1"
  }
 },
 "nbformat": 4,
 "nbformat_minor": 2
}
