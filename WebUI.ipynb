{
 "cells": [
  {
   "cell_type": "markdown",
   "metadata": {},
   "source": [
    "# 1. Initialization"
   ]
  },
  {
   "cell_type": "markdown",
   "metadata": {},
   "source": [
    "### Setup"
   ]
  },
  {
   "cell_type": "code",
   "execution_count": 1,
   "metadata": {
    "collapsed": true
   },
   "outputs": [],
   "source": [
    "import ray\n",
    "import pandas as pd\n",
    "import time \n",
    "import bokeh \n",
    "import numpy as np\n",
    "import binascii\n",
    "import redis\n",
    "import pprint\n",
    "import json\n",
    "import qgrid\n",
    "import os\n",
    "import matplotlib.pyplot as plt\n",
    "pp = pprint.PrettyPrinter() \n",
    "# from misc import *"
   ]
  },
  {
   "cell_type": "code",
   "execution_count": 2,
   "metadata": {
    "scrolled": true
   },
   "outputs": [
    {
     "name": "stdout",
     "output_type": "stream",
     "text": [
      "Waiting for redis server at 127.0.0.1:22697 to respond...\n",
      "Waiting for redis server at 127.0.0.1:32311 to respond...\n",
      "Starting local scheduler with 8 CPUs and 0 GPUs.\n",
      "View the web UI at http://localhost:8888/WebUI.ipynb\n"
     ]
    },
    {
     "data": {
      "text/plain": [
       "{'local_scheduler_socket_names': ['/tmp/scheduler50665381'],\n",
       " 'node_ip_address': '127.0.0.1',\n",
       " 'object_store_addresses': [ObjectStoreAddress(name='/tmp/plasma_store59214586', manager_name='/tmp/plasma_manager6662867', manager_port=49248)],\n",
       " 'redis_address': '127.0.0.1:22697'}"
      ]
     },
     "execution_count": 2,
     "metadata": {},
     "output_type": "execute_result"
    }
   ],
   "source": [
    "#addr = os.environ[\"redis_address\"]\n",
    "#ray.init(redis_address = addr)\n",
    "ray.init()"
   ]
  },
  {
   "cell_type": "markdown",
   "metadata": {},
   "source": [
    "### Function definitions"
   ]
  },
  {
   "cell_type": "code",
   "execution_count": 3,
   "metadata": {
    "collapsed": true
   },
   "outputs": [],
   "source": [
    "@ray.remote\n",
    "def example(x):\n",
    "    return \"ok\" \n",
    "\n",
    "@ray.remote\n",
    "def example2(x): \n",
    "    return \"hi\"\n",
    "\n",
    "@ray.remote\n",
    "class TestCls():\n",
    "    def __init__(self):\n",
    "        self.g = 1\n",
    "        \n",
    "    def to_go(self, x):\n",
    "        return x\n",
    "\n",
    "    \n",
    "@ray.remote\n",
    "class Outer():\n",
    "    def __init__(self):\n",
    "        self.f = 1\n",
    "        self.test = TestCls.remote()\n",
    "    \n",
    "    def to_go2(self, x):\n",
    "        return x * 2\n",
    "    \n",
    "    def error(self):\n",
    "        return 1/0"
   ]
  },
  {
   "cell_type": "code",
   "execution_count": 4,
   "metadata": {
    "collapsed": true
   },
   "outputs": [],
   "source": [
    "import binascii\n",
    "import re\n",
    "\n",
    "IDENTIFIER_LENGTH = 20\n",
    "\n",
    "# This prefix must match the value defined in ray_redis_module.cc.\n",
    "\n",
    "def hex_identifier(identifier):\n",
    "    return binascii.hexlify(identifier).decode()\n",
    "\n",
    "\n",
    "def identifier(hex_identifier):\n",
    "    return binascii.unhexlify(hex_identifier)\n",
    "\n",
    "def key_to_hex_identifiers(key):\n",
    "    # Extract worker_id and task_id from key of the form\n",
    "    # prefix:worker_id:task_id.\n",
    "    offset = key.index(b\":\") + 1\n",
    "    worker_id = hex_identifier(key[offset:(offset + IDENTIFIER_LENGTH)])\n",
    "    offset += IDENTIFIER_LENGTH + 1\n",
    "    task_id = hex_identifier(key[offset:(offset + IDENTIFIER_LENGTH)])\n",
    "    return worker_id, task_id\n",
    "\n",
    "def clean(sometext):\n",
    "    sometext = sometext.decode('UTF-8')\n",
    "    ansi_escape = re.compile(r'\\x1b[^m]*m')\n",
    "    return ansi_escape.sub('', sometext)"
   ]
  },
  {
   "cell_type": "markdown",
   "metadata": {},
   "source": [
    "### Generate data in Redis"
   ]
  },
  {
   "cell_type": "code",
   "execution_count": 35,
   "metadata": {},
   "outputs": [
    {
     "data": {
      "text/plain": [
       "ObjectID(03499a262434452adbff12c34e68fed0fd4e7612)"
      ]
     },
     "execution_count": 35,
     "metadata": {},
     "output_type": "execute_result"
    },
    {
     "name": "stdout",
     "output_type": "stream",
     "text": [
      "Remote function error failed with:\n",
      "\n",
      "Traceback (most recent call last):\n",
      "  File \"/Users/michellemarzoev/Desktop/ray/python/ray/worker.py\", line 1771, in process_task\n",
      "    worker.actors[task.actor_id().id()], *arguments)\n",
      "  File \"<ipython-input-3-e8a35551207e>\", line 28, in error\n",
      "ZeroDivisionError: division by zero\n",
      "\n",
      "\n",
      "You can inspect errors by running\n",
      "\n",
      "    ray.error_info()\n",
      "\n",
      "If this driver is hanging, start a new one with\n",
      "\n",
      "    ray.init(redis_address=\"127.0.0.1:22697\")\n",
      "\n"
     ]
    }
   ],
   "source": [
    "results = ray.get([example.remote(x) for x in range(4)])\n",
    "results2 = ray.get([example2.remote(x) for x in range(2)])\n",
    "actor = TestCls.remote()\n",
    "actor_results = ray.get([actor.to_go.remote(1)])\n",
    "err_actor = Outer.remote()\n",
    "err_actor.error.remote()"
   ]
  },
  {
   "cell_type": "markdown",
   "metadata": {},
   "source": [
    "### Connect to Redis"
   ]
  },
  {
   "cell_type": "code",
   "execution_count": 36,
   "metadata": {
    "collapsed": true,
    "scrolled": false
   },
   "outputs": [],
   "source": [
    "addr, port = ray.worker.global_worker.redis_address.split(\":\")\n",
    "rc = redis.StrictRedis(host=addr, port=port, decode_responses=True, encoding='latin-1', encoding_errors='replace')"
   ]
  },
  {
   "cell_type": "markdown",
   "metadata": {},
   "source": [
    "# 2. Jobs Data\n"
   ]
  },
  {
   "cell_type": "markdown",
   "metadata": {},
   "source": [
    "### Remote Functions Information"
   ]
  },
  {
   "cell_type": "code",
   "execution_count": 38,
   "metadata": {},
   "outputs": [
    {
     "data": {
      "application/vnd.jupyter.widget-view+json": {
       "model_id": "48e4a1fe782a401c915fd41f33491433"
      }
     },
     "metadata": {},
     "output_type": "display_data"
    }
   ],
   "source": [
    "fn_table = ray.global_state.function_table()\n",
    "fn_list = []\n",
    "for fn_id in fn_table:\n",
    "    val = fn_table[fn_id]\n",
    "    val[\"function_id\"] = fn_id\n",
    "    fn_list.append(val)\n",
    "qgrid.nbinstall(overwrite = True)\n",
    "frame = pd.DataFrame(fn_list) \n",
    "frame = frame.reset_index(drop=True)\n",
    "frame.columns = [\"DriverID\", \"Module\", \"Function\", \"FunctionID\"]\n",
    "qgrid.show_grid(frame)"
   ]
  },
  {
   "cell_type": "markdown",
   "metadata": {},
   "source": [
    "### Task Information"
   ]
  },
  {
   "cell_type": "code",
   "execution_count": 49,
   "metadata": {},
   "outputs": [
    {
     "data": {
      "application/vnd.jupyter.widget-view+json": {
       "model_id": "0088d3b8720c4276a0306bac61e541da"
      }
     },
     "metadata": {},
     "output_type": "display_data"
    }
   ],
   "source": [
    "from pandas.io.json import json_normalize\n",
    "\n",
    "tt = ray.global_state.task_table()\n",
    "tt_list = list(tt.values())\n",
    "for d in tt_list:\n",
    "    d['TaskSpec']['ReturnObjectIDs'] = [oid.hex() for oid in d['TaskSpec']['ReturnObjectIDs']]\n",
    "    d['TaskSpec']['Args'] = [arg.hex() if isinstance(arg, ray.local_scheduler.ObjectID) else arg for arg in d['TaskSpec']['Args']]\n",
    "\n",
    "task_df = json_normalize(tt_list)\n",
    "task_df.columns = [\"Local Scheduler ID\", \"State\", \"Actor Counter\", \"ActorID\", \"Arguments\", \"DriverID\", \"FunctionID\", \n",
    "                  \"Parent Counter\", \"Parent Task ID\", \"Required CPUs\", \"Required GPUs\", \"Return Object IDs\", \"TaskID\" ]\n",
    "qgrid.set_defaults(grid_options={\n",
    "    'forceFitColumns': False,\n",
    "    'defaultColumnWidth': 150})\n",
    "qgrid.show_grid(task_df)"
   ]
  },
  {
   "cell_type": "markdown",
   "metadata": {},
   "source": [
    "### Actor Information"
   ]
  },
  {
   "cell_type": "code",
   "execution_count": 21,
   "metadata": {},
   "outputs": [
    {
     "data": {
      "application/vnd.jupyter.widget-view+json": {
       "model_id": "df1a3041500443988cf8a21200f501ee"
      }
     },
     "metadata": {},
     "output_type": "display_data"
    }
   ],
   "source": [
    "actor_info = dict()\n",
    "actors = rc.keys(\"Actor*\") \n",
    "for actor in actors:\n",
    "    actor_key_str = actor[len('Actor:'):]\n",
    "    actor_key_bytes = actor_key_str.encode('latin-1')\n",
    "    actor_info['Actor:{}'.format(hex_identifier(actor_key_bytes))] = rc.hgetall(actor)\n",
    "    x = actor_info['Actor:{}'.format(hex_identifier(actor_key_bytes))]\n",
    "    if 'class_id' in x: \n",
    "        class_key_bytes = x['class_id'].encode('latin-1')\n",
    "        x['class_id'] = format(hex_identifier(class_key_bytes))\n",
    "    if 'driver_id' in x: \n",
    "        driver_bytes = x['driver_id'].encode('latin-1')\n",
    "        x['driver_id'] = format(hex_identifier(driver_bytes))\n",
    "\n",
    "actor_df = pd.DataFrame.from_dict(actor_info)\n",
    "df2 = actor_df.T\n",
    "df2.index.name = \"ActorID\"\n",
    "df2.columns = [ \"Method\", \"Class\", \"Class ID\", \"Class Name\", \"DriverID\", \"Module\", \"Num GPUS\"] \n",
    "qgrid.show_grid(df2)\n"
   ]
  },
  {
   "cell_type": "markdown",
   "metadata": {},
   "source": [
    "### Task - Worker Placement Information"
   ]
  },
  {
   "cell_type": "code",
   "execution_count": 22,
   "metadata": {},
   "outputs": [
    {
     "data": {
      "application/vnd.jupyter.widget-view+json": {
       "model_id": "8cf0d310d3764a039ae6eb68f89a01ca"
      }
     },
     "metadata": {},
     "output_type": "display_data"
    }
   ],
   "source": [
    "event_names = rc.keys(\"event_log*\")\n",
    "results = dict()\n",
    "for i in range(len(event_names)):\n",
    "    event_list = rc.lrange(event_names[i], 0, -1)\n",
    "    for event in event_list:\n",
    "        event_dict = json.loads(event)\n",
    "        task_id = \"\"\n",
    "        worker_id = \"\"\n",
    "        function_name = \"\"\n",
    "    for element in event_dict:\n",
    "        if \"task_id\" in element[3] and \"worker_id\" in element[3]:\n",
    "            task_id = element[3][\"task_id\"]\n",
    "            worker_id = element[3][\"worker_id\"]\n",
    "            function_name = element[3][\"function_name\"]\n",
    "        if task_id != \"\" and worker_id != \"\" and function_name != \"\":\n",
    "            results[worker_id] = {}\n",
    "            results[worker_id][\"task_id\"] = task_id\n",
    "            results[worker_id][\"function_name\"] = function_name\n",
    "results_table = pd.DataFrame.from_dict(results)\n",
    "rt = results_table.T \n",
    "rt.index.name = \"WorkerID\"\n",
    "rt.columns = [\"Function\", \"TaskID\"]\n",
    "qgrid.show_grid(rt)"
   ]
  },
  {
   "cell_type": "markdown",
   "metadata": {},
   "source": [
    "### Task Profiles"
   ]
  },
  {
   "cell_type": "code",
   "execution_count": 55,
   "metadata": {},
   "outputs": [
    {
     "data": {
      "application/vnd.jupyter.widget-view+json": {
       "model_id": "34f3fb9ca2214c809f54948edb97928b"
      }
     },
     "metadata": {},
     "output_type": "display_data"
    }
   ],
   "source": [
    "task_profiles, events = ray.global_state.task_profiles()\n",
    "profiles_dict = dict()\n",
    "for task_id, profiles in task_profiles.items(): \n",
    "    for profile in profiles:\n",
    "        start_exec = -1\n",
    "        end_exec = -1 \n",
    "        start_store = -1\n",
    "        end_store = -1\n",
    "        start_lock = -1\n",
    "        end_lock = -1\n",
    "        overall_start = profile[0][0]\n",
    "        overall_end = profile[len(profile)-1][0]\n",
    "        overall_dur = overall_end - overall_start\n",
    "        for log in profile: \n",
    "            if log[1] == \"ray:task:execute\" and log[2] == 1: \n",
    "                start_exec = log[0]\n",
    "            if log[1] == \"ray:task:execute\" and log[2] == 2: \n",
    "                end_exec = log[0]\n",
    "            if log[1] == \"ray:task:store_outputs\" and log[2] == 1: \n",
    "                start_store = log[0]\n",
    "            if log[1] == \"ray:task:store_outputs\" and log[2] == 2: \n",
    "                end_store = log[0]\n",
    "            if log[1] == \"ray:acquire_lock\" and log[2] == 1: \n",
    "                start_lock = log[0]\n",
    "            if log[1] == \"ray:acquire_lock\" and log[2] == 2: \n",
    "                end_lock = log[0]\n",
    "        if start_exec != -1 and end_exec != -1 and start_store != -1 and end_store != -1 and start_lock != -1 and end_lock != -1:\n",
    "            profiles_dict[task_id] = dict()\n",
    "            exec_dur = end_exec - start_exec\n",
    "            store_dur = end_store - start_store\n",
    "            lock_dur = end_lock - start_lock\n",
    "            overall_dur = overall_end - overall_start \n",
    "            profiles_dict[task_id][\"execute\"] = exec_dur\n",
    "            profiles_dict[task_id][\"store\"] = store_dur\n",
    "            profiles_dict[task_id][\"acquire_lock\"] = lock_dur\n",
    "            profiles_dict[task_id][\"total\"] = overall_dur\n",
    "            profiles_dict[task_id][\"other\"] = overall_dur - exec_dur - store_dur - lock_dur\n",
    "results_table = pd.DataFrame.from_dict(profiles_dict)\n",
    "results_table2 = results_table.T\n",
    "results_table2.index.name = \"TaskID\"\n",
    "results_table2.columns = [\"Acquire lock (s)\", \"Execute (s)\", \"Other (s)\", \"Store Outputs (s)\", \"Total time (s)\"] \n",
    "qgrid.show_grid(results_table2)\n",
    "\n"
   ]
  },
  {
   "cell_type": "code",
   "execution_count": null,
   "metadata": {},
   "outputs": [],
   "source": [
    "# total_acq = 0\n",
    "# total_exec = 0\n",
    "# total_store = 0\n",
    "# total_other = 0\n",
    "# total = 0\n",
    "# for value in profiles_dict.values(): \n",
    "#     total_exec += value[\"execute\"]\n",
    "#     total_acq += value[\"acquire_lock\"]\n",
    "#     total_store += value[\"store\"]\n",
    "#     total_other += value[\"other\"]\n",
    "#     total += value[\"total\"]\n",
    "\n",
    "# labels = 'Acquire Lock', 'Execute', 'Store', 'Other'\n",
    "# sizes = [total_acq/total, total_exec/total, total_store/total, total_other/total]\n",
    "# explode = (0, 0.1, 0, 0)\n",
    "# plt.pie(sizes, explode=explode, labels=labels, shadow=True, startangle=140)\n",
    "# plt.axis('equal')\n",
    "# print(\"Overall Task Breakdowns:\")\n",
    "# print(\"Acquire Lock: \" + str(total_acq/total * 100) + \"%\")\n",
    "# print(\"Execute: \" + str(total_exec/total * 100) + \"%\")\n",
    "# print(\"Store outputs: \" + str(total_store/total * 100) + \"%\")\n",
    "# print(\"Other: \" + str(total_other/total * 100) + \"%\")\n",
    "# plt.show()\n"
   ]
  },
  {
   "cell_type": "markdown",
   "metadata": {},
   "source": [
    "### Reconstructed Task Information"
   ]
  },
  {
   "cell_type": "code",
   "execution_count": 24,
   "metadata": {},
   "outputs": [
    {
     "data": {
      "application/vnd.jupyter.widget-view+json": {
       "model_id": "61edbb96ec844cbb827eb4d18f1b4dcd"
      }
     },
     "metadata": {},
     "output_type": "display_data"
    }
   ],
   "source": [
    "event_names = rc.keys(\"event_log*\")\n",
    "attempted = dict()\n",
    "reconstructed = dict()\n",
    "for i in range(len(event_names)):\n",
    "    event_list = rc.lrange(event_names[i], 0, -1)\n",
    "    for event in event_list:\n",
    "        event_dict = json.loads(event)\n",
    "        task_id = \"\"\n",
    "        for element in event_dict:\n",
    "            if \"task_id\" in element[3]:\n",
    "                task_id = element[3][\"task_id\"]\n",
    "        if task_id != \"\":\n",
    "            if task_id in attempted:\n",
    "                if task_id not in reconstructed:\n",
    "                    reconstructed[task_id] = 0\n",
    "                    reconstructed[task_id] += 1\n",
    "                else:\n",
    "                    attempted[task_id] = True\n",
    "results_table = pd.DataFrame(reconstructed)\n",
    "qgrid.show_grid(results_table)\n",
    "# include objects"
   ]
  },
  {
   "cell_type": "markdown",
   "metadata": {},
   "source": [
    "# 3. System State\n"
   ]
  },
  {
   "cell_type": "markdown",
   "metadata": {},
   "source": [
    "### Node Information"
   ]
  },
  {
   "cell_type": "code",
   "execution_count": 56,
   "metadata": {},
   "outputs": [
    {
     "data": {
      "application/vnd.jupyter.widget-view+json": {
       "model_id": "3195b18c912f45fe82a2d5c463352d08"
      }
     },
     "metadata": {},
     "output_type": "display_data"
    }
   ],
   "source": [
    "# Using the global state API, we can populate a DataFrame with a list of Redis Clients currently connected\n",
    "ctable = ray.global_state.client_table()\n",
    "\n",
    "client_list = []\n",
    "for node_ip in ctable:\n",
    "    for client in ctable[node_ip]:\n",
    "        client[\"node_ip_address\"] = node_ip\n",
    "        client_list.append(client)\n",
    "\n",
    "client_df = pd.DataFrame(client_list)\n",
    "client_df.columns = [\"Aux Address\", \"Client Type\", \"DB Client ID\", \"Deleted\", \"Local Scheduler Socket\", \"Num CPUs\", \"NumGPUs\", \"Node IP Address\"]\n",
    "qgrid.show_grid(client_df)"
   ]
  },
  {
   "cell_type": "markdown",
   "metadata": {},
   "source": [
    "### Object Store"
   ]
  },
  {
   "cell_type": "code",
   "execution_count": 58,
   "metadata": {},
   "outputs": [
    {
     "data": {
      "application/vnd.jupyter.widget-view+json": {
       "model_id": "8b1d807a23eb495ea1f101fef593ad8f"
      }
     },
     "metadata": {},
     "output_type": "display_data"
    }
   ],
   "source": [
    "# We can populate a DataFrame with a list of objects in the object store\n",
    "object_dict = {oid.hex(): v for oid, v in ray.global_state.object_table().items()}\n",
    "object_df = pd.DataFrame(object_dict).transpose()\n",
    "object_df.index.name = \"ObjectID\"\n",
    "object_df.columns = [\"Data Size\", \"Hash\", \"IsPut\", \"ManagerIDs\", \"TaskID\"]\n",
    "qgrid.show_grid(object_df)"
   ]
  },
  {
   "cell_type": "markdown",
   "metadata": {},
   "source": [
    "### Object - Worker Placement Information "
   ]
  },
  {
   "cell_type": "code",
   "execution_count": 32,
   "metadata": {},
   "outputs": [
    {
     "data": {
      "application/vnd.jupyter.widget-view+json": {
       "model_id": "02b0b7a5a50642d289fa6bad81cca835"
      }
     },
     "metadata": {},
     "output_type": "display_data"
    }
   ],
   "source": [
    "# Objects associated with each worker_id \n",
    "object_table = ray.global_state.object_table()\n",
    "location_to_objects = dict()\n",
    "\n",
    "for object_id, object_descriptor in object_table.items():\n",
    "    if object_descriptor[\"ManagerIDs\"] != None: \n",
    "        for location in object_descriptor[\"ManagerIDs\"]:\n",
    "            if location not in location_to_objects:\n",
    "                location_to_objects[location] = []\n",
    "            object_id = str(object_id)\n",
    "            obj_comp = object_id.split(\"(\")\n",
    "            obj_comps = obj_comp[1].split(\")\") \n",
    "            object_id = obj_comps[0]\n",
    "            location_to_objects[location].append(object_id)\n",
    "table = pd.DataFrame.from_dict(location_to_objects)\n",
    "qgrid.show_grid(table)\n",
    "# object id -> worker id \n",
    "# skew in how objects are distributed \n",
    "# physical nodes -> total amt data on node, num tasks "
   ]
  },
  {
   "cell_type": "markdown",
   "metadata": {},
   "source": [
    "### Worker Information"
   ]
  },
  {
   "cell_type": "code",
   "execution_count": 59,
   "metadata": {},
   "outputs": [
    {
     "data": {
      "application/vnd.jupyter.widget-view+json": {
       "model_id": "f44ae4fc6f25443a93489994534a872e"
      }
     },
     "metadata": {},
     "output_type": "display_data"
    }
   ],
   "source": [
    "workers = rc.keys(\"Worker*\") \n",
    "worker_info = dict()\n",
    "for worker in workers:\n",
    "    worker_key_str = worker[len('Workers:'):]\n",
    "    worker_key_bytes = worker_key_str.encode('latin-1')\n",
    "    worker_info['Workers:{}'.format(hex_identifier(worker_key_bytes))] = rc.hgetall(worker)\n",
    "table = pd.DataFrame.from_dict(worker_info)\n",
    "table2 = table.T\n",
    "table2.index.name = \"WorkerID\"\n",
    "table2.columns = [\"Local Scheduler Socket\", \"Node IP Address\", \"Plasma Manager Socket\", \"Plasma Store Socket\", \"Stderr File\", \"Stdout File\"]\n",
    "qgrid.show_grid(table2)\n",
    "# resource info for each physical node \n",
    "# double check the IP "
   ]
  },
  {
   "cell_type": "markdown",
   "metadata": {},
   "source": [
    "### Object Transfer Information "
   ]
  },
  {
   "cell_type": "code",
   "execution_count": 34,
   "metadata": {},
   "outputs": [
    {
     "data": {
      "application/vnd.jupyter.widget-view+json": {
       "model_id": "0de2b56b84894280b8113964b698593b"
      }
     },
     "metadata": {},
     "output_type": "display_data"
    }
   ],
   "source": [
    "log_files = ray.global_state.log_files()\n",
    "transferred = dict()\n",
    "for addr, inner_dict in log_files.items(): \n",
    "    for filename, contents in inner_dict.items(): \n",
    "        if \"plasma_manager\" in filename and \".out\" in filename:\n",
    "            cont = str(contents).split(\"ObjectID: \") \n",
    "            cont2 = cont[1].split(\"\\\\n\")\n",
    "            if cont2[0] not in transferred:\n",
    "                transferred[cont2[0]] = 0 \n",
    "            transferred[cont2[0]] += 1 \n",
    "table = pd.DataFrame(transferred, index = [0]) \n",
    "qgrid.show_grid(table.T)\n"
   ]
  },
  {
   "cell_type": "markdown",
   "metadata": {},
   "source": [
    "# 3. Error Information"
   ]
  },
  {
   "cell_type": "markdown",
   "metadata": {},
   "source": [
    "### Error Profiles\n"
   ]
  },
  {
   "cell_type": "code",
   "execution_count": null,
   "metadata": {
    "collapsed": true
   },
   "outputs": [],
   "source": [
    "event_names = rc.keys(\"event_log*\")\n",
    "error_profiles = dict()\n",
    "for i in range(len(event_names)):\n",
    "    event_list = rc.lrange(event_names[i], 0, -1)\n",
    "    for event in event_list:\n",
    "        event_dict = json.loads(event)\n",
    "        task_id = \"\"\n",
    "        traceback = \"\"\n",
    "        worker_id = \"\"\n",
    "        start_time = -1\n",
    "    for element in event_dict:\n",
    "        if element[1] == \"ray:task:execute\" and element[2] == 1:\n",
    "            start_time = element[0]\n",
    "        if \"task_id\" in element[3] and \"worker_id\" in element[3]:\n",
    "            task_id = element[3][\"task_id\"]\n",
    "            worker_id = element[3][\"worker_id\"]\n",
    "        if \"traceback\" in element[3]:\n",
    "            traceback = element[3][\"traceback\"]\n",
    "        if task_id != \"\" and worker_id != \"\" and traceback != \"\":\n",
    "            if start_time != -1:\n",
    "                error_profiles[task_id] = dict()\n",
    "                error_profiles[task_id][\"worker_id\"] = worker_id\n",
    "                error_profiles[task_id][\"traceback\"] = traceback\n",
    "                error_profiles[task_id][\"start_time\"] = start_time\n",
    "table = pd.DataFrame.from_dict(error_profiles) \n",
    "qgrid.show_grid(table.T)"
   ]
  },
  {
   "cell_type": "markdown",
   "metadata": {
    "collapsed": true
   },
   "source": [
    "### Parallelization Score"
   ]
  },
  {
   "cell_type": "code",
   "execution_count": null,
   "metadata": {},
   "outputs": [],
   "source": [
    "event_names = rc.keys(\"event_log*\")\n",
    "total_exec = 0\n",
    "earliest_start = float(\"inf\")\n",
    "latest_end = -1\n",
    "for i in range(len(event_names)):\n",
    "    event_list = rc.lrange(event_names[i], 0, -1)\n",
    "    for event in event_list:\n",
    "        event_dict = json.loads(event)\n",
    "        start_point = 00125\n",
    "        \n",
    "        end_point = 0\n",
    "        for element in event_dict:\n",
    "            if element[1] == \"ray:task:execute\" and element[2] == 1:\n",
    "                start_point = element[0]\n",
    "            if start_point < earliest_start:\n",
    "                earliest_start = start_point\n",
    "            if element[1] == \"ray:task:execute\" and element[2] == 2:\n",
    "                end_point = element[0]\n",
    "            if end_point > latest_end:\n",
    "                latest_end = end_point\n",
    "        total_exec += (end_point - start_point)\n",
    "job_dur = latest_end - earliest_start\n",
    "table = ray.global_state.client_table()\n",
    "total_cpus = 0\n",
    "for key, value in table.items():\n",
    "    for element in range(len(value)):\n",
    "        if \"NumCPUs\" in value[element]:\n",
    "            total_cpus += table[key][element][\"NumCPUs\"]\n",
    "if total_exec != None and job_dur != None: \n",
    "    print(\"Parallelization Score: \")\n",
    "    print ((total_exec) / (total_cpus * job_dur))"
   ]
  },
  {
   "cell_type": "markdown",
   "metadata": {
    "collapsed": true
   },
   "source": [
    "# Task Interactive Queries "
   ]
  },
  {
   "cell_type": "code",
   "execution_count": 61,
   "metadata": {},
   "outputs": [],
   "source": [
    "import sys\n",
    "task_profiles = ray.global_state.task_profiles() \n",
    "task_info = dict()\n",
    "event_names = rc.keys(\"event_log*\")\n",
    "counter = 1\n",
    "for i in range(len(event_names)):\n",
    "    event_list = rc.lrange(event_names[i], 0, -1)\n",
    "    for event in event_list:\n",
    "        event_dict = json.loads(event)\n",
    "        tid = \"\"\n",
    "        workers = dict() \n",
    "        earliest = sys.maxsize\n",
    "        for event in event_dict: \n",
    "            if \"task_id\" in event[3]: \n",
    "                tid = event[3][\"task_id\"]\n",
    "        task_info[tid] = dict()\n",
    "        task_info[tid][\"task_id\"] = tid \n",
    "        for event in event_dict: \n",
    "            if event[1] == \"ray:get_task\" and event[2] == 1: \n",
    "                task_info[tid][\"get_task_start\"] = event[0] \n",
    "            if event[1] == \"ray:get_task\" and event[2] == 2: \n",
    "                task_info[tid][\"get_task_end\"] = event[0] \n",
    "            if event[1] == \"ray:import_remote_function\" and event[2] == 1: \n",
    "                task_info[tid][\"import_remote_func_start\"] = event[0] \n",
    "            if event[1] == \"ray:import_remote_function\" and event[2] == 2: \n",
    "                task_info[tid][\"import_remote_func_end\"] = event[0] \n",
    "            if event[1] == \"ray:wait_for_function\" and event[2] == 1: \n",
    "                task_info[tid][\"wait_for_function_start\"] = event[0]  \n",
    "            if event[1] == \"ray:wait_for_function\" and event[2] == 2: \n",
    "                task_info[tid][\"wait_for_function_end\"] = event[0]  \n",
    "            if event[1] == \"ray:acquire_lock\" and event[2] == 1: \n",
    "                task_info[tid][\"acquire_lock_start\"] = event[0] \n",
    "            if event[1] == \"ray:acquire_lock\" and event[2] == 2: \n",
    "                task_info[tid][\"acquire_lock_end\"] = event[0] \n",
    "            if event[1] == \"ray:task:get_arguments\" and event[2] == 1: \n",
    "                task_info[tid][\"get_arguments_start\"] = event[0] \n",
    "            if event[1] == \"ray:task:get_arguments\" and event[2] == 2: \n",
    "                task_info[tid][\"get_arguments_end\"] = event[0]  \n",
    "            if event[1] == \"ray:task:execute\" and event[2] == 1: \n",
    "                task_info[tid][\"execute_start\"] = event[0] \n",
    "            if event[1] == \"ray:task:execute\" and event[2] == 2: \n",
    "                task_info[tid][\"execute_end\"] = event[0] \n",
    "            if event[1] == \"ray:task:store_outputs\" and event[2] == 1: \n",
    "                task_info[tid][\"store_outputs_start\"] = event[0]\n",
    "            if event[1] == \"ray:task:store_outputs\" and event[2] == 2: \n",
    "                task_info[tid][\"store_outputs_end\"] = event[0] \n",
    "            if \"worker_id\" in event[3]: \n",
    "                wid = event[3][\"worker_id\"]\n",
    "                if wid in workers: \n",
    "                    task_info[tid][\"worker_id\"] = workers[wid]\n",
    "                else: \n",
    "                    counter += 1 \n",
    "                    workers[wid] = counter\n",
    "                    task_info[tid][\"worker_id\"] = counter \n",
    "                task_info[tid][\"wid\"] = wid \n",
    "            if \"function_name\" in event[3]: \n",
    "                task_info[tid][\"function_name\"] = event[3][\"function_name\"]\n",
    "        if \"import_remote_func_start\" not in task_info[tid]: \n",
    "            task_info[tid][\"import_remote_func_start\"] = -1\n",
    "            task_info[tid][\"import_remote_func_end\"] = -1\n",
    "        if \"store_outputs_start\" not in task_info[tid]: \n",
    "            task_info[tid][\"store_outputs_start\"] = -1\n",
    "            task_info[tid][\"store_outputs_end\"] = -1\n",
    "    for val in task_info[tid].values():\n",
    "        if val == -1: \n",
    "            del task_info[tid]\n",
    "            break\n"
   ]
  },
  {
   "cell_type": "code",
   "execution_count": 44,
   "metadata": {},
   "outputs": [],
   "source": [
    "# all_times = []\n",
    "# for data in task_info.values(): \n",
    "#     all_times.append(data[\"acquire_lock_start\"])\n",
    "#     print(data[\"acquire_lock_start\"])\n",
    "#     all_times.append(data[\"acquire_lock_end\"])\n",
    "#     print(data[\"acquire_lock_end\"])\n",
    "#     all_times.append(data[\"get_arguments_start\"])\n",
    "#     print(data[\"get_arguments_start\"])\n",
    "#     all_times.append(data[\"get_arguments_end\"])\n",
    "#     print(data[\"get_arguments_end\"])\n",
    "#     all_times.append(data[\"execute_start\"])\n",
    "#     print(data[\"execute_start\"])\n",
    "#     all_times.append(data[\"execute_end\"])\n",
    "#     print(data[\"execute_end\"])\n",
    "#     all_times.append(data[\"store_outputs_start\"])\n",
    "#     print(data[\"store_outputs_start\"])\n",
    "#     all_times.append(data[\"store_outputs_end\"])\n",
    "#     print(data[\"store_outputs_end\"])\n",
    "\n",
    "# min_time = min(all_times)\n",
    "# print(\"Min:\" + str(min_time))\n",
    "# for data in task_info.values(): \n",
    "#     for x in data.values(): \n",
    "#         data[\"acquire_lock_start\"] = data[\"acquire_lock_start\"] - min_time \n",
    "#         print(data[\"acquire_lock_start\"])\n",
    "#         data[\"acquire_lock_end\"] = data[\"acquire_lock_end\"] - min_time\n",
    "#         print(data[\"acquire_lock_end\"])\n",
    "#         data[\"execute_start\"] = data[\"execute_start\"] - min_time  \n",
    "#         data[\"execute_end\"] = data[\"execute_end\"] - min_time  \n",
    "#         data[\"get_arguments_start\"] = data[\"get_arguments_start\"] - min_time  \n",
    "#         data[\"get_arguments_end\"] = data[\"get_arguments_end\"] - min_time  \n",
    "#         data[\"store_outputs_start\"] = data[\"store_outputs_start\"] - min_time  \n",
    "#         data[\"store_outputs_end\"] = data[\"store_outputs_end\"] - min_time  \n",
    "# print(task_info)"
   ]
  },
  {
   "cell_type": "code",
   "execution_count": 62,
   "metadata": {},
   "outputs": [
    {
     "data": {
      "text/html": [
       "\n",
       "    <div class=\"bk-root\">\n",
       "        <a href=\"http://bokeh.pydata.org\" target=\"_blank\" class=\"bk-logo bk-logo-small bk-logo-notebook\"></a>\n",
       "        <span id=\"13aa5a15-abf5-466d-a028-29ac9c9067ca\">Loading BokehJS ...</span>\n",
       "    </div>"
      ]
     },
     "metadata": {},
     "output_type": "display_data"
    },
    {
     "data": {
      "application/javascript": [
       "\n",
       "(function(global) {\n",
       "  function now() {\n",
       "    return new Date();\n",
       "  }\n",
       "\n",
       "  var force = true;\n",
       "\n",
       "  if (typeof (window._bokeh_onload_callbacks) === \"undefined\" || force === true) {\n",
       "    window._bokeh_onload_callbacks = [];\n",
       "    window._bokeh_is_loading = undefined;\n",
       "  }\n",
       "\n",
       "\n",
       "  \n",
       "  if (typeof (window._bokeh_timeout) === \"undefined\" || force === true) {\n",
       "    window._bokeh_timeout = Date.now() + 5000;\n",
       "    window._bokeh_failed_load = false;\n",
       "  }\n",
       "\n",
       "  var NB_LOAD_WARNING = {'data': {'text/html':\n",
       "     \"<div style='background-color: #fdd'>\\n\"+\n",
       "     \"<p>\\n\"+\n",
       "     \"BokehJS does not appear to have successfully loaded. If loading BokehJS from CDN, this \\n\"+\n",
       "     \"may be due to a slow or bad network connection. Possible fixes:\\n\"+\n",
       "     \"</p>\\n\"+\n",
       "     \"<ul>\\n\"+\n",
       "     \"<li>re-rerun `output_notebook()` to attempt to load from CDN again, or</li>\\n\"+\n",
       "     \"<li>use INLINE resources instead, as so:</li>\\n\"+\n",
       "     \"</ul>\\n\"+\n",
       "     \"<code>\\n\"+\n",
       "     \"from bokeh.resources import INLINE\\n\"+\n",
       "     \"output_notebook(resources=INLINE)\\n\"+\n",
       "     \"</code>\\n\"+\n",
       "     \"</div>\"}};\n",
       "\n",
       "  function display_loaded() {\n",
       "    if (window.Bokeh !== undefined) {\n",
       "      var el = document.getElementById(\"13aa5a15-abf5-466d-a028-29ac9c9067ca\");\n",
       "      el.textContent = \"BokehJS \" + Bokeh.version + \" successfully loaded.\";\n",
       "    } else if (Date.now() < window._bokeh_timeout) {\n",
       "      setTimeout(display_loaded, 100)\n",
       "    }\n",
       "  }\n",
       "\n",
       "  function run_callbacks() {\n",
       "    window._bokeh_onload_callbacks.forEach(function(callback) { callback() });\n",
       "    delete window._bokeh_onload_callbacks\n",
       "    console.info(\"Bokeh: all callbacks have finished\");\n",
       "  }\n",
       "\n",
       "  function load_libs(js_urls, callback) {\n",
       "    window._bokeh_onload_callbacks.push(callback);\n",
       "    if (window._bokeh_is_loading > 0) {\n",
       "      console.log(\"Bokeh: BokehJS is being loaded, scheduling callback at\", now());\n",
       "      return null;\n",
       "    }\n",
       "    if (js_urls == null || js_urls.length === 0) {\n",
       "      run_callbacks();\n",
       "      return null;\n",
       "    }\n",
       "    console.log(\"Bokeh: BokehJS not loaded, scheduling load and callback at\", now());\n",
       "    window._bokeh_is_loading = js_urls.length;\n",
       "    for (var i = 0; i < js_urls.length; i++) {\n",
       "      var url = js_urls[i];\n",
       "      var s = document.createElement('script');\n",
       "      s.src = url;\n",
       "      s.async = false;\n",
       "      s.onreadystatechange = s.onload = function() {\n",
       "        window._bokeh_is_loading--;\n",
       "        if (window._bokeh_is_loading === 0) {\n",
       "          console.log(\"Bokeh: all BokehJS libraries loaded\");\n",
       "          run_callbacks()\n",
       "        }\n",
       "      };\n",
       "      s.onerror = function() {\n",
       "        console.warn(\"failed to load library \" + url);\n",
       "      };\n",
       "      console.log(\"Bokeh: injecting script tag for BokehJS library: \", url);\n",
       "      document.getElementsByTagName(\"head\")[0].appendChild(s);\n",
       "    }\n",
       "  };var element = document.getElementById(\"13aa5a15-abf5-466d-a028-29ac9c9067ca\");\n",
       "  if (element == null) {\n",
       "    console.log(\"Bokeh: ERROR: autoload.js configured with elementid '13aa5a15-abf5-466d-a028-29ac9c9067ca' but no matching script tag was found. \")\n",
       "    return false;\n",
       "  }\n",
       "\n",
       "  var js_urls = [\"https://cdn.pydata.org/bokeh/release/bokeh-0.12.5.min.js\", \"https://cdn.pydata.org/bokeh/release/bokeh-widgets-0.12.5.min.js\"];\n",
       "\n",
       "  var inline_js = [\n",
       "    function(Bokeh) {\n",
       "      Bokeh.set_log_level(\"info\");\n",
       "    },\n",
       "    \n",
       "    function(Bokeh) {\n",
       "      \n",
       "    },\n",
       "    \n",
       "    function(Bokeh) {\n",
       "      \n",
       "      document.getElementById(\"13aa5a15-abf5-466d-a028-29ac9c9067ca\").textContent = \"BokehJS is loading...\";\n",
       "    },\n",
       "    function(Bokeh) {\n",
       "      console.log(\"Bokeh: injecting CSS: https://cdn.pydata.org/bokeh/release/bokeh-0.12.5.min.css\");\n",
       "      Bokeh.embed.inject_css(\"https://cdn.pydata.org/bokeh/release/bokeh-0.12.5.min.css\");\n",
       "      console.log(\"Bokeh: injecting CSS: https://cdn.pydata.org/bokeh/release/bokeh-widgets-0.12.5.min.css\");\n",
       "      Bokeh.embed.inject_css(\"https://cdn.pydata.org/bokeh/release/bokeh-widgets-0.12.5.min.css\");\n",
       "    }\n",
       "  ];\n",
       "\n",
       "  function run_inline_js() {\n",
       "    \n",
       "    if ((window.Bokeh !== undefined) || (force === true)) {\n",
       "      for (var i = 0; i < inline_js.length; i++) {\n",
       "        inline_js[i](window.Bokeh);\n",
       "      }if (force === true) {\n",
       "        display_loaded();\n",
       "      }} else if (Date.now() < window._bokeh_timeout) {\n",
       "      setTimeout(run_inline_js, 100);\n",
       "    } else if (!window._bokeh_failed_load) {\n",
       "      console.log(\"Bokeh: BokehJS failed to load within specified timeout.\");\n",
       "      window._bokeh_failed_load = true;\n",
       "    } else if (force !== true) {\n",
       "      var cell = $(document.getElementById(\"13aa5a15-abf5-466d-a028-29ac9c9067ca\")).parents('.cell').data().cell;\n",
       "      cell.output_area.append_execute_result(NB_LOAD_WARNING)\n",
       "    }\n",
       "\n",
       "  }\n",
       "\n",
       "  if (window._bokeh_is_loading === 0) {\n",
       "    console.log(\"Bokeh: BokehJS loaded, going straight to plotting\");\n",
       "    run_inline_js();\n",
       "  } else {\n",
       "    load_libs(js_urls, function() {\n",
       "      console.log(\"Bokeh: BokehJS plotting callback run at\", now());\n",
       "      run_inline_js();\n",
       "    });\n",
       "  }\n",
       "}(this));"
      ]
     },
     "metadata": {},
     "output_type": "display_data"
    },
    {
     "data": {
      "text/html": [
       "\n",
       "\n",
       "    <div class=\"bk-root\">\n",
       "        <div class=\"bk-plotdiv\" id=\"bbeee561-50b2-4494-8711-7c65e840b3b8\"></div>\n",
       "    </div>\n",
       "<script type=\"text/javascript\">\n",
       "  \n",
       "  (function(global) {\n",
       "    function now() {\n",
       "      return new Date();\n",
       "    }\n",
       "  \n",
       "    var force = false;\n",
       "  \n",
       "    if (typeof (window._bokeh_onload_callbacks) === \"undefined\" || force === true) {\n",
       "      window._bokeh_onload_callbacks = [];\n",
       "      window._bokeh_is_loading = undefined;\n",
       "    }\n",
       "  \n",
       "  \n",
       "    \n",
       "    if (typeof (window._bokeh_timeout) === \"undefined\" || force === true) {\n",
       "      window._bokeh_timeout = Date.now() + 0;\n",
       "      window._bokeh_failed_load = false;\n",
       "    }\n",
       "  \n",
       "    var NB_LOAD_WARNING = {'data': {'text/html':\n",
       "       \"<div style='background-color: #fdd'>\\n\"+\n",
       "       \"<p>\\n\"+\n",
       "       \"BokehJS does not appear to have successfully loaded. If loading BokehJS from CDN, this \\n\"+\n",
       "       \"may be due to a slow or bad network connection. Possible fixes:\\n\"+\n",
       "       \"</p>\\n\"+\n",
       "       \"<ul>\\n\"+\n",
       "       \"<li>re-rerun `output_notebook()` to attempt to load from CDN again, or</li>\\n\"+\n",
       "       \"<li>use INLINE resources instead, as so:</li>\\n\"+\n",
       "       \"</ul>\\n\"+\n",
       "       \"<code>\\n\"+\n",
       "       \"from bokeh.resources import INLINE\\n\"+\n",
       "       \"output_notebook(resources=INLINE)\\n\"+\n",
       "       \"</code>\\n\"+\n",
       "       \"</div>\"}};\n",
       "  \n",
       "    function display_loaded() {\n",
       "      if (window.Bokeh !== undefined) {\n",
       "        var el = document.getElementById(\"bbeee561-50b2-4494-8711-7c65e840b3b8\");\n",
       "        el.textContent = \"BokehJS \" + Bokeh.version + \" successfully loaded.\";\n",
       "      } else if (Date.now() < window._bokeh_timeout) {\n",
       "        setTimeout(display_loaded, 100)\n",
       "      }\n",
       "    }\n",
       "  \n",
       "    function run_callbacks() {\n",
       "      window._bokeh_onload_callbacks.forEach(function(callback) { callback() });\n",
       "      delete window._bokeh_onload_callbacks\n",
       "      console.info(\"Bokeh: all callbacks have finished\");\n",
       "    }\n",
       "  \n",
       "    function load_libs(js_urls, callback) {\n",
       "      window._bokeh_onload_callbacks.push(callback);\n",
       "      if (window._bokeh_is_loading > 0) {\n",
       "        console.log(\"Bokeh: BokehJS is being loaded, scheduling callback at\", now());\n",
       "        return null;\n",
       "      }\n",
       "      if (js_urls == null || js_urls.length === 0) {\n",
       "        run_callbacks();\n",
       "        return null;\n",
       "      }\n",
       "      console.log(\"Bokeh: BokehJS not loaded, scheduling load and callback at\", now());\n",
       "      window._bokeh_is_loading = js_urls.length;\n",
       "      for (var i = 0; i < js_urls.length; i++) {\n",
       "        var url = js_urls[i];\n",
       "        var s = document.createElement('script');\n",
       "        s.src = url;\n",
       "        s.async = false;\n",
       "        s.onreadystatechange = s.onload = function() {\n",
       "          window._bokeh_is_loading--;\n",
       "          if (window._bokeh_is_loading === 0) {\n",
       "            console.log(\"Bokeh: all BokehJS libraries loaded\");\n",
       "            run_callbacks()\n",
       "          }\n",
       "        };\n",
       "        s.onerror = function() {\n",
       "          console.warn(\"failed to load library \" + url);\n",
       "        };\n",
       "        console.log(\"Bokeh: injecting script tag for BokehJS library: \", url);\n",
       "        document.getElementsByTagName(\"head\")[0].appendChild(s);\n",
       "      }\n",
       "    };var element = document.getElementById(\"bbeee561-50b2-4494-8711-7c65e840b3b8\");\n",
       "    if (element == null) {\n",
       "      console.log(\"Bokeh: ERROR: autoload.js configured with elementid 'bbeee561-50b2-4494-8711-7c65e840b3b8' but no matching script tag was found. \")\n",
       "      return false;\n",
       "    }\n",
       "  \n",
       "    var js_urls = [];\n",
       "  \n",
       "    var inline_js = [\n",
       "      function(Bokeh) {\n",
       "        (function() {\n",
       "          var fn = function() {\n",
       "            var docs_json = {\"34c493a8-2218-4db9-aa44-af3820f651a3\":{\"roots\":{\"references\":[{\"attributes\":{\"callback\":null,\"title\":\"TaskID\"},\"id\":\"65a9144b-afbe-4b8a-87c3-35c3637c9c81\",\"type\":\"TextInput\"},{\"attributes\":{\"callback\":null,\"title\":\"WorkerID\"},\"id\":\"26ec110a-4a0a-4d5a-aeb2-751d8b9d2e6f\",\"type\":\"TextInput\"},{\"attributes\":{\"below\":[{\"id\":\"f0b0f7b9-85e3-4f46-afed-afcf23cc094d\",\"type\":\"LinearAxis\"}],\"left\":[{\"id\":\"53388067-f5b6-4c7b-a649-577e3196466d\",\"type\":\"LinearAxis\"}],\"plot_width\":700,\"renderers\":[{\"id\":\"f0b0f7b9-85e3-4f46-afed-afcf23cc094d\",\"type\":\"LinearAxis\"},{\"id\":\"f6b73889-6142-4e22-8036-c84a9e545dee\",\"type\":\"Grid\"},{\"id\":\"53388067-f5b6-4c7b-a649-577e3196466d\",\"type\":\"LinearAxis\"},{\"id\":\"4aa734ac-50db-4d36-adef-841acae77666\",\"type\":\"Grid\"},{\"id\":\"9cfd42c0-ee3d-4d0a-aa19-0ca8f57ec581\",\"type\":\"BoxAnnotation\"},{\"id\":\"48914a50-5019-4835-b34b-8a0ae8af2496\",\"type\":\"Legend\"},{\"id\":\"dd09d2c4-e70e-498b-abf4-5931a6136bfb\",\"type\":\"GlyphRenderer\"},{\"id\":\"3185ba0d-1c57-4c1a-9210-101e41ff7e46\",\"type\":\"GlyphRenderer\"},{\"id\":\"5809f3b9-f777-443e-a98c-4fbe9854ef20\",\"type\":\"GlyphRenderer\"},{\"id\":\"1bb7d153-c797-4116-ab0f-8ad39ed7e995\",\"type\":\"GlyphRenderer\"}],\"title\":{\"id\":\"08a27df2-7fd3-4837-b3a6-e0b851daa5d9\",\"type\":\"Title\"},\"tool_events\":{\"id\":\"ad31532a-a04c-4870-a1dd-51e91ee9fa92\",\"type\":\"ToolEvents\"},\"toolbar\":{\"id\":\"3632ee93-0e72-493a-823b-6a7f23981411\",\"type\":\"Toolbar\"},\"toolbar_location\":\"below\",\"toolbar_sticky\":false,\"x_range\":{\"id\":\"cfac3413-624e-450a-919a-cdcda97152fb\",\"type\":\"DataRange1d\"},\"y_range\":{\"id\":\"061521dd-c294-47d8-843d-fdca22b71660\",\"type\":\"DataRange1d\"}},\"id\":\"54e7e8f7-ad8b-4a94-9011-853bf7042bf8\",\"subtype\":\"Figure\",\"type\":\"Plot\"},{\"attributes\":{\"label\":{\"value\":\"Get arguments\"},\"renderers\":[{\"id\":\"3185ba0d-1c57-4c1a-9210-101e41ff7e46\",\"type\":\"GlyphRenderer\"}]},\"id\":\"fd1ce00a-787a-4e32-afbc-806bd639b5a1\",\"type\":\"LegendItem\"},{\"attributes\":{\"plot\":null,\"text\":\"Task Information\"},\"id\":\"08a27df2-7fd3-4837-b3a6-e0b851daa5d9\",\"type\":\"Title\"},{\"attributes\":{\"callback\":null},\"id\":\"cfac3413-624e-450a-919a-cdcda97152fb\",\"type\":\"DataRange1d\"},{\"attributes\":{\"data_source\":{\"id\":\"fedd8823-82fc-4ae7-b564-8d67caca69ee\",\"type\":\"ColumnDataSource\"},\"glyph\":{\"id\":\"c8693142-689b-4dce-8b79-cc7a3b279178\",\"type\":\"HBar\"},\"hover_glyph\":null,\"muted_glyph\":null,\"nonselection_glyph\":{\"id\":\"b8bf006c-0f07-4af2-9a8e-0d48c178bcf9\",\"type\":\"HBar\"},\"selection_glyph\":null},\"id\":\"5809f3b9-f777-443e-a98c-4fbe9854ef20\",\"type\":\"GlyphRenderer\"},{\"attributes\":{},\"id\":\"ad31532a-a04c-4870-a1dd-51e91ee9fa92\",\"type\":\"ToolEvents\"},{\"attributes\":{\"active_drag\":\"auto\",\"active_scroll\":\"auto\",\"active_tap\":\"auto\",\"tools\":[{\"id\":\"4d192ed1-d637-4697-aad5-0593f94be979\",\"type\":\"HoverTool\"},{\"id\":\"4d221199-05d6-4485-a10e-048c91bdd7f2\",\"type\":\"PanTool\"},{\"id\":\"2b6b784e-02a0-4052-bff9-02b9de13e914\",\"type\":\"WheelZoomTool\"},{\"id\":\"b088eb14-134b-4a4f-83e3-6f3672a96945\",\"type\":\"BoxZoomTool\"}]},\"id\":\"3632ee93-0e72-493a-823b-6a7f23981411\",\"type\":\"Toolbar\"},{\"attributes\":{\"fill_alpha\":{\"value\":0.1},\"fill_color\":{\"value\":\"#1f77b4\"},\"height\":{\"value\":1},\"left\":{\"field\":\"acquire_lock_start\"},\"line_alpha\":{\"value\":0.1},\"line_color\":{\"value\":\"#1f77b4\"},\"right\":{\"field\":\"acquire_lock_end\"},\"y\":{\"field\":\"y\"}},\"id\":\"138c8a31-124c-4421-acf7-75584377fecf\",\"type\":\"HBar\"},{\"attributes\":{\"axis_label\":\"Time in seconds\",\"formatter\":{\"id\":\"69defca0-0d7b-4d96-b86e-ede1b05ae1ae\",\"type\":\"BasicTickFormatter\"},\"plot\":{\"id\":\"54e7e8f7-ad8b-4a94-9011-853bf7042bf8\",\"subtype\":\"Figure\",\"type\":\"Plot\"},\"ticker\":{\"id\":\"ccb63f98-5c76-4636-baeb-d6897844bf3e\",\"type\":\"BasicTicker\"}},\"id\":\"f0b0f7b9-85e3-4f46-afed-afcf23cc094d\",\"type\":\"LinearAxis\"},{\"attributes\":{\"callback\":null},\"id\":\"061521dd-c294-47d8-843d-fdca22b71660\",\"type\":\"DataRange1d\"},{\"attributes\":{},\"id\":\"ccb63f98-5c76-4636-baeb-d6897844bf3e\",\"type\":\"BasicTicker\"},{\"attributes\":{\"plot\":{\"id\":\"54e7e8f7-ad8b-4a94-9011-853bf7042bf8\",\"subtype\":\"Figure\",\"type\":\"Plot\"},\"ticker\":{\"id\":\"ccb63f98-5c76-4636-baeb-d6897844bf3e\",\"type\":\"BasicTicker\"}},\"id\":\"f6b73889-6142-4e22-8036-c84a9e545dee\",\"type\":\"Grid\"},{\"attributes\":{\"axis_label\":\"WorkerID\",\"formatter\":{\"id\":\"af82a9df-0916-4af9-b0dc-eaa7050ab523\",\"type\":\"BasicTickFormatter\"},\"plot\":{\"id\":\"54e7e8f7-ad8b-4a94-9011-853bf7042bf8\",\"subtype\":\"Figure\",\"type\":\"Plot\"},\"ticker\":{\"id\":\"d6d8372c-dc43-421d-ac38-38309c86fe12\",\"type\":\"BasicTicker\"}},\"id\":\"53388067-f5b6-4c7b-a649-577e3196466d\",\"type\":\"LinearAxis\"},{\"attributes\":{},\"id\":\"d6d8372c-dc43-421d-ac38-38309c86fe12\",\"type\":\"BasicTicker\"},{\"attributes\":{\"dimension\":1,\"plot\":{\"id\":\"54e7e8f7-ad8b-4a94-9011-853bf7042bf8\",\"subtype\":\"Figure\",\"type\":\"Plot\"},\"ticker\":{\"id\":\"d6d8372c-dc43-421d-ac38-38309c86fe12\",\"type\":\"BasicTicker\"}},\"id\":\"4aa734ac-50db-4d36-adef-841acae77666\",\"type\":\"Grid\"},{\"attributes\":{\"plot\":{\"id\":\"54e7e8f7-ad8b-4a94-9011-853bf7042bf8\",\"subtype\":\"Figure\",\"type\":\"Plot\"}},\"id\":\"4d221199-05d6-4485-a10e-048c91bdd7f2\",\"type\":\"PanTool\"},{\"attributes\":{\"fill_color\":{\"value\":\"#3390FF\"},\"height\":{\"value\":1},\"left\":{\"field\":\"execute_start\"},\"line_color\":{\"value\":\"#3390FF\"},\"right\":{\"field\":\"execute_end\"},\"y\":{\"field\":\"y\"}},\"id\":\"c8693142-689b-4dce-8b79-cc7a3b279178\",\"type\":\"HBar\"},{\"attributes\":{\"plot\":{\"id\":\"54e7e8f7-ad8b-4a94-9011-853bf7042bf8\",\"subtype\":\"Figure\",\"type\":\"Plot\"}},\"id\":\"2b6b784e-02a0-4052-bff9-02b9de13e914\",\"type\":\"WheelZoomTool\"},{\"attributes\":{\"overlay\":{\"id\":\"9cfd42c0-ee3d-4d0a-aa19-0ca8f57ec581\",\"type\":\"BoxAnnotation\"},\"plot\":{\"id\":\"54e7e8f7-ad8b-4a94-9011-853bf7042bf8\",\"subtype\":\"Figure\",\"type\":\"Plot\"}},\"id\":\"b088eb14-134b-4a4f-83e3-6f3672a96945\",\"type\":\"BoxZoomTool\"},{\"attributes\":{\"bottom_units\":\"screen\",\"fill_alpha\":{\"value\":0.5},\"fill_color\":{\"value\":\"lightgrey\"},\"left_units\":\"screen\",\"level\":\"overlay\",\"line_alpha\":{\"value\":1.0},\"line_color\":{\"value\":\"black\"},\"line_dash\":[4,4],\"line_width\":{\"value\":2},\"plot\":null,\"render_mode\":\"css\",\"right_units\":\"screen\",\"top_units\":\"screen\"},\"id\":\"9cfd42c0-ee3d-4d0a-aa19-0ca8f57ec581\",\"type\":\"BoxAnnotation\"},{\"attributes\":{\"fill_color\":{\"value\":\"#FF8633\"},\"height\":{\"value\":1},\"left\":{\"field\":\"acquire_lock_start\"},\"line_color\":{\"value\":\"#FF8633\"},\"right\":{\"field\":\"acquire_lock_end\"},\"y\":{\"field\":\"y\"}},\"id\":\"9afd9b00-d7c9-47a4-95d6-b52073cfc4f1\",\"type\":\"HBar\"},{\"attributes\":{\"data_source\":{\"id\":\"fedd8823-82fc-4ae7-b564-8d67caca69ee\",\"type\":\"ColumnDataSource\"},\"glyph\":{\"id\":\"9afd9b00-d7c9-47a4-95d6-b52073cfc4f1\",\"type\":\"HBar\"},\"hover_glyph\":null,\"muted_glyph\":null,\"nonselection_glyph\":{\"id\":\"138c8a31-124c-4421-acf7-75584377fecf\",\"type\":\"HBar\"},\"selection_glyph\":null},\"id\":\"dd09d2c4-e70e-498b-abf4-5931a6136bfb\",\"type\":\"GlyphRenderer\"},{\"attributes\":{},\"id\":\"69defca0-0d7b-4d96-b86e-ede1b05ae1ae\",\"type\":\"BasicTickFormatter\"},{\"attributes\":{\"fill_alpha\":{\"value\":0.1},\"fill_color\":{\"value\":\"#1f77b4\"},\"height\":{\"value\":1},\"left\":{\"field\":\"execute_start\"},\"line_alpha\":{\"value\":0.1},\"line_color\":{\"value\":\"#1f77b4\"},\"right\":{\"field\":\"execute_end\"},\"y\":{\"field\":\"y\"}},\"id\":\"b8bf006c-0f07-4af2-9a8e-0d48c178bcf9\",\"type\":\"HBar\"},{\"attributes\":{},\"id\":\"af82a9df-0916-4af9-b0dc-eaa7050ab523\",\"type\":\"BasicTickFormatter\"},{\"attributes\":{\"items\":[{\"id\":\"e617dbaa-ed1c-44dd-b53c-d2d93d7af8d2\",\"type\":\"LegendItem\"},{\"id\":\"fd1ce00a-787a-4e32-afbc-806bd639b5a1\",\"type\":\"LegendItem\"},{\"id\":\"6f40cc10-b103-438c-a85a-b581200a8503\",\"type\":\"LegendItem\"},{\"id\":\"542293a3-b6ca-4971-83d0-6ebead3760d0\",\"type\":\"LegendItem\"}],\"plot\":{\"id\":\"54e7e8f7-ad8b-4a94-9011-853bf7042bf8\",\"subtype\":\"Figure\",\"type\":\"Plot\"}},\"id\":\"48914a50-5019-4835-b34b-8a0ae8af2496\",\"type\":\"Legend\"},{\"attributes\":{\"label\":{\"value\":\"Acquire lock\"},\"renderers\":[{\"id\":\"dd09d2c4-e70e-498b-abf4-5931a6136bfb\",\"type\":\"GlyphRenderer\"}]},\"id\":\"e617dbaa-ed1c-44dd-b53c-d2d93d7af8d2\",\"type\":\"LegendItem\"},{\"attributes\":{\"callback\":null,\"end\":10,\"step\":1,\"title\":\"Time to execute\",\"value\":1},\"id\":\"66535489-0485-44da-b26d-5177cef6fa04\",\"type\":\"Slider\"},{\"attributes\":{\"fill_color\":{\"value\":\"#8033FF\"},\"height\":{\"value\":1},\"left\":{\"field\":\"get_arguments_start\"},\"line_color\":{\"value\":\"#8033FF\"},\"right\":{\"field\":\"get_arguments_end\"},\"y\":{\"field\":\"y\"}},\"id\":\"6785dfee-effa-402f-99a8-74e7198a5ad7\",\"type\":\"HBar\"},{\"attributes\":{\"fill_alpha\":{\"value\":0.1},\"fill_color\":{\"value\":\"#1f77b4\"},\"height\":{\"value\":1},\"left\":{\"field\":\"get_arguments_start\"},\"line_alpha\":{\"value\":0.1},\"line_color\":{\"value\":\"#1f77b4\"},\"right\":{\"field\":\"get_arguments_end\"},\"y\":{\"field\":\"y\"}},\"id\":\"1ce48547-1b49-4bd3-82e7-6196f1b0666f\",\"type\":\"HBar\"},{\"attributes\":{\"label\":{\"value\":\"Execute task\"},\"renderers\":[{\"id\":\"5809f3b9-f777-443e-a98c-4fbe9854ef20\",\"type\":\"GlyphRenderer\"}]},\"id\":\"6f40cc10-b103-438c-a85a-b581200a8503\",\"type\":\"LegendItem\"},{\"attributes\":{\"fill_color\":{\"value\":\"#33FF9C\"},\"height\":{\"value\":1},\"left\":{\"field\":\"store_outputs_start\"},\"line_color\":{\"value\":\"#33FF9C\"},\"right\":{\"field\":\"store_outputs_end\"},\"y\":{\"field\":\"y\"}},\"id\":\"c1ac3d87-a3e3-40cd-af36-bdb917182cb0\",\"type\":\"HBar\"},{\"attributes\":{\"data_source\":{\"id\":\"fedd8823-82fc-4ae7-b564-8d67caca69ee\",\"type\":\"ColumnDataSource\"},\"glyph\":{\"id\":\"c1ac3d87-a3e3-40cd-af36-bdb917182cb0\",\"type\":\"HBar\"},\"hover_glyph\":null,\"muted_glyph\":null,\"nonselection_glyph\":{\"id\":\"9578bac6-a543-43c7-890e-28c235be338f\",\"type\":\"HBar\"},\"selection_glyph\":null},\"id\":\"1bb7d153-c797-4116-ab0f-8ad39ed7e995\",\"type\":\"GlyphRenderer\"},{\"attributes\":{\"callback\":null,\"end\":10,\"step\":1,\"title\":\"Time to store outputs\",\"value\":1},\"id\":\"7b9652e2-24aa-48ad-b23c-70926a98bd62\",\"type\":\"Slider\"},{\"attributes\":{\"fill_alpha\":{\"value\":0.1},\"fill_color\":{\"value\":\"#1f77b4\"},\"height\":{\"value\":1},\"left\":{\"field\":\"store_outputs_start\"},\"line_alpha\":{\"value\":0.1},\"line_color\":{\"value\":\"#1f77b4\"},\"right\":{\"field\":\"store_outputs_end\"},\"y\":{\"field\":\"y\"}},\"id\":\"9578bac6-a543-43c7-890e-28c235be338f\",\"type\":\"HBar\"},{\"attributes\":{\"label\":{\"value\":\"Store outputs\"},\"renderers\":[{\"id\":\"1bb7d153-c797-4116-ab0f-8ad39ed7e995\",\"type\":\"GlyphRenderer\"}]},\"id\":\"542293a3-b6ca-4971-83d0-6ebead3760d0\",\"type\":\"LegendItem\"},{\"attributes\":{\"children\":[{\"id\":\"54e7e8f7-ad8b-4a94-9011-853bf7042bf8\",\"subtype\":\"Figure\",\"type\":\"Plot\"},{\"id\":\"ed14798e-3793-4cf4-94aa-d098711830d7\",\"type\":\"WidgetBox\"}]},\"id\":\"9380f95d-a433-41f2-be8e-47ce5476e6cc\",\"type\":\"Row\"},{\"attributes\":{\"children\":[{\"id\":\"444381b1-7204-4e20-8f70-2df2136fcfe8\",\"type\":\"Slider\"},{\"id\":\"6fb486bd-1bbd-4c8f-90a1-f00c9df34403\",\"type\":\"Slider\"},{\"id\":\"66535489-0485-44da-b26d-5177cef6fa04\",\"type\":\"Slider\"},{\"id\":\"7b9652e2-24aa-48ad-b23c-70926a98bd62\",\"type\":\"Slider\"},{\"id\":\"65a9144b-afbe-4b8a-87c3-35c3637c9c81\",\"type\":\"TextInput\"},{\"id\":\"26ec110a-4a0a-4d5a-aeb2-751d8b9d2e6f\",\"type\":\"TextInput\"}]},\"id\":\"ed14798e-3793-4cf4-94aa-d098711830d7\",\"type\":\"WidgetBox\"},{\"attributes\":{\"data_source\":{\"id\":\"fedd8823-82fc-4ae7-b564-8d67caca69ee\",\"type\":\"ColumnDataSource\"},\"glyph\":{\"id\":\"6785dfee-effa-402f-99a8-74e7198a5ad7\",\"type\":\"HBar\"},\"hover_glyph\":null,\"muted_glyph\":null,\"nonselection_glyph\":{\"id\":\"1ce48547-1b49-4bd3-82e7-6196f1b0666f\",\"type\":\"HBar\"},\"selection_glyph\":null},\"id\":\"3185ba0d-1c57-4c1a-9210-101e41ff7e46\",\"type\":\"GlyphRenderer\"},{\"attributes\":{\"callback\":null,\"end\":10,\"step\":1,\"title\":\"Time to acquire lock\",\"value\":1},\"id\":\"444381b1-7204-4e20-8f70-2df2136fcfe8\",\"type\":\"Slider\"},{\"attributes\":{\"callback\":null,\"plot\":{\"id\":\"54e7e8f7-ad8b-4a94-9011-853bf7042bf8\",\"subtype\":\"Figure\",\"type\":\"Plot\"},\"tooltips\":[[\"TaskID\",\"@task_id\"],[\"Function Name\",\"@function_name\"],[\"WorkerID\",\"@wid\"],[\"ObjectID\",\"@oid\"],[\"Variables\",\"@vars\"]]},\"id\":\"4d192ed1-d637-4697-aad5-0593f94be979\",\"type\":\"HoverTool\"},{\"attributes\":{\"callback\":null,\"column_names\":[\"x\",\"y\",\"start\",\"end\",\"worker_id\",\"task_id\",\"function_name\",\"get_task_start\",\"get_task_end\",\"get_arguments_start\",\"get_arguments_end\",\"import_remote_func_start\",\"import_remote_func_end\",\"acquire_lock_start\",\"acquire_lock_end\",\"wait_for_function_start\",\"wait_for_function_end\",\"execute_start\",\"execute_end\",\"store_outputs_start\",\"store_outputs_end\",\"wid\"],\"data\":{\"acquire_lock_end\":[1498078970.7859871,1498078970.7859242,1498078970.785892,1498078970.7861462],\"acquire_lock_start\":[1498078970.7859871,1498078970.7859242,1498078970.785892,1498078970.7861462],\"end\":[1498078970.7860749,1498078970.7860138,1498078970.7859762,1498078970.7862332],\"execute_end\":[1498078970.78607,1498078970.786009,1498078970.785971,1498078970.786228],\"execute_start\":[1498078970.786062,1498078970.786001,1498078970.785964,1498078970.786221],\"function_name\":[\"__main__.example\",\"__main__.example\",\"__main__.example\",\"__main__.example\"],\"get_arguments_end\":[1498078970.786056,1498078970.785995,1498078970.7859578,1498078970.7862148],\"get_arguments_start\":[1498078970.7860448,1498078970.785984,1498078970.7859468,1498078970.7862039],\"get_task_end\":[1498078970.7859452,1498078970.7858849,1498078970.785853,1498078970.786109],\"get_task_start\":[1498078962.631391,1498078962.631506,1498078962.635565,1498078962.6100428],\"import_remote_func_end\":[1498078963.7674098,1498078963.7674098,1498078963.768262,1498078963.767329],\"import_remote_func_start\":[1498078963.7556858,1498078963.7557938,1498078963.7674181,1498078963.755719],\"start\":[1498078962.631391,1498078962.631506,1498078962.635565,1498078962.6100428],\"store_outputs_end\":[1498078970.7860749,1498078970.7860138,1498078970.7859762,1498078970.7862332],\"store_outputs_start\":[1498078970.7860749,1498078970.7860138,1498078970.7859762,1498078970.7862332],\"task_id\":[\"9d1ec4380a706150e4f17e75cbd784f38aaa4bcf\",\"8711f3fe5ef8fac90039b92726cac8cabe8c0a51\",\"c8e7548080ef1d375adb0db6091ae93b6b6b5731\",\"efcf192e6854a2fadcc696e5c23d8637990db98b\"],\"wid\":[\"b9885831f31dd856b67509d906729cd4e05dcc33\",\"8b291aa09cb7231bbe6c8382082f69fc2e0477cb\",\"3911734a3ca66d019f112f4e7536eaa0237109c5\",\"11bd0c202e547ed9ff8f4adf033ac84aeeb3e6c2\"],\"worker_id\":[8,10,17,19],\"x\":[1498078970.786062,1498078970.786001,1498078970.785964,1498078970.786221],\"y\":[8,10,17,19]}},\"id\":\"fedd8823-82fc-4ae7-b564-8d67caca69ee\",\"type\":\"ColumnDataSource\"},{\"attributes\":{\"callback\":null,\"end\":10,\"step\":1,\"title\":\"Time to get arguments\",\"value\":1},\"id\":\"6fb486bd-1bbd-4c8f-90a1-f00c9df34403\",\"type\":\"Slider\"}],\"root_ids\":[\"9380f95d-a433-41f2-be8e-47ce5476e6cc\"]},\"title\":\"Bokeh Application\",\"version\":\"0.12.5\"}};\n",
       "            var render_items = [{\"docid\":\"34c493a8-2218-4db9-aa44-af3820f651a3\",\"elementid\":\"bbeee561-50b2-4494-8711-7c65e840b3b8\",\"modelid\":\"9380f95d-a433-41f2-be8e-47ce5476e6cc\"}];\n",
       "            \n",
       "            Bokeh.embed.embed_items(docs_json, render_items);\n",
       "          };\n",
       "          if (document.readyState != \"loading\") fn();\n",
       "          else document.addEventListener(\"DOMContentLoaded\", fn);\n",
       "        })();\n",
       "      },\n",
       "      function(Bokeh) {\n",
       "      }\n",
       "    ];\n",
       "  \n",
       "    function run_inline_js() {\n",
       "      \n",
       "      if ((window.Bokeh !== undefined) || (force === true)) {\n",
       "        for (var i = 0; i < inline_js.length; i++) {\n",
       "          inline_js[i](window.Bokeh);\n",
       "        }if (force === true) {\n",
       "          display_loaded();\n",
       "        }} else if (Date.now() < window._bokeh_timeout) {\n",
       "        setTimeout(run_inline_js, 100);\n",
       "      } else if (!window._bokeh_failed_load) {\n",
       "        console.log(\"Bokeh: BokehJS failed to load within specified timeout.\");\n",
       "        window._bokeh_failed_load = true;\n",
       "      } else if (force !== true) {\n",
       "        var cell = $(document.getElementById(\"bbeee561-50b2-4494-8711-7c65e840b3b8\")).parents('.cell').data().cell;\n",
       "        cell.output_area.append_execute_result(NB_LOAD_WARNING)\n",
       "      }\n",
       "  \n",
       "    }\n",
       "  \n",
       "    if (window._bokeh_is_loading === 0) {\n",
       "      console.log(\"Bokeh: BokehJS loaded, going straight to plotting\");\n",
       "      run_inline_js();\n",
       "    } else {\n",
       "      load_libs(js_urls, function() {\n",
       "        console.log(\"Bokeh: BokehJS plotting callback run at\", now());\n",
       "        run_inline_js();\n",
       "      });\n",
       "    }\n",
       "  }(this));\n",
       "</script>"
      ]
     },
     "metadata": {},
     "output_type": "display_data"
    }
   ],
   "source": [
    "import pandas.io.sql as psql\n",
    "from bokeh.plotting import figure, show\n",
    "from bokeh.layouts import layout, widgetbox, row, gridplot\n",
    "from bokeh.models import ColumnDataSource, HoverTool, Div, CustomJS, Range1d\n",
    "from bokeh.models.widgets import Slider, Select, TextInput\n",
    "from bokeh.io import curdoc, output_notebook\n",
    "import sys\n",
    "output_notebook()\n",
    "source = ColumnDataSource(data=dict(\n",
    "                                    x=[], \n",
    "                                    y=[], \n",
    "                                    start=[], \n",
    "                                    end=[], \n",
    "                                    worker_id=[], \n",
    "                                    task_id=[], \n",
    "                                    function_name=[], \n",
    "                                    get_task_start=[],\n",
    "                                    get_task_end=[],\n",
    "                                    get_arguments_start=[],\n",
    "                                    get_arguments_end=[],\n",
    "                                    import_remote_func_start=[],\n",
    "                                    import_remote_func_end=[],\n",
    "                                    acquire_lock_start=[],\n",
    "                                    acquire_lock_end=[],\n",
    "                                    wait_for_function_start=[],\n",
    "                                    wait_for_function_end=[],\n",
    "                                    execute_start=[], \n",
    "                                    execute_end=[],\n",
    "                                    store_outputs_start=[],\n",
    "                                    store_outputs_end=[],\n",
    "                                    wid=[]\n",
    "                                    ))\n",
    "axis_map = {\n",
    "    \"worker_id\": \"worker_id\",\n",
    "    \"time\": \"time\",\n",
    "}\n",
    " \n",
    "hover = HoverTool(tooltips=[\n",
    "    (\"TaskID\", \"@task_id\"),\n",
    "    (\"Function Name\", \"@function_name\"),\n",
    "    (\"WorkerID\", \"@wid\"),\n",
    "    (\"ObjectID\", \"@oid\"),\n",
    "    (\"Variables\", \"@vars\")\n",
    "])\n",
    "\n",
    "\n",
    "lock_slider = Slider(start=0, end=10, value=1, step=1, title=\"Time to acquire lock\")\n",
    "args_slider = Slider(start=0, end=10, value=1, step=1, title=\"Time to get arguments\")\n",
    "exec_slider = Slider(start=0, end=10, value=1, step=1, title=\"Time to execute\")\n",
    "outputs_slider = Slider(start=0, end=10, value=1, step=1, title=\"Time to store outputs\")\n",
    "task_id_search = TextInput(title=\"TaskID\")\n",
    "worker_id_search = TextInput(title=\"WorkerID\")\n",
    "x_axis = Select(title=\"Time in seconds\", options=sorted(axis_map.keys()), value=\"time\")\n",
    "y_axis = Select(title=\"WorkerID\", options=sorted(axis_map.keys()), value=\"worker_id\")\n",
    " \n",
    "p = figure(plot_height=600, plot_width=700, title=\"\", toolbar_location=\"below\", tools=[hover,\"pan\",\"wheel_zoom\",\"box_zoom\"], toolbar_sticky=False) \n",
    "p.hbar(y=\"y\", height=1, left=\"acquire_lock_start\", right=\"acquire_lock_end\", source=source, color=\"#FF8633\", legend=\"Acquire lock\")\n",
    "p.hbar(y=\"y\", height=1, left=\"get_arguments_start\", right=\"get_arguments_end\", source=source, color=\"#8033FF\", legend=\"Get arguments\")\n",
    "p.hbar(y=\"y\", height=1, left=\"execute_start\", right=\"execute_end\", source=source, color=\"#3390FF\", legend=\"Execute task\")\n",
    "p.hbar(y=\"y\", height=1, left=\"store_outputs_start\", right=\"store_outputs_end\", source=source, color=\"#33FF9C\", legend=\"Store outputs\")\n",
    " \n",
    "# def select(): \n",
    "#     worker_id_val = worker_id_search.value.strip()\n",
    "#     task_id_val = task_id_search.value.strip()\n",
    "    \n",
    "#     selected_tasks = dict()\n",
    "#     print(\"hi\")\n",
    "#     for task_id, data in task_info.items(): \n",
    "#         print(\"here\")\n",
    "#         print(str(data[\"acquire_lock_end\"]-data[\"acquire_lock_start\"]))\n",
    "#         if ((data[\"acquire_lock_end\"]-data[\"acquire_lock_start\"]) > lock_slider.value): \n",
    "#             print(\"here\")\n",
    "#             if ((data[\"get_arguments_end\"]-data[\"get_arguments_start\"]) > args_slider.value): \n",
    "#                 print(\"here2\")\n",
    "#                 if ((data[\"execute_end\"]-data[\"execute_start\"]) > exec_slider.value): \n",
    "#                     print(\"here3\")\n",
    "#                     if ((data[\"store_outputs_end\"]-data[\"store_outputs_start\"]) > outputs_slider.value): \n",
    "# #                         if (task_id_val != \"\"): \n",
    "# #                             if (data[\"task_id\"].contains(task_id_val)==True): \n",
    "# #                                 selected_tasks[task_id] = data \n",
    "# #                         if (worker_id_val != \"\"): \n",
    "# #                             if (data[\"worker_id\"].contains(worker_id_val)==True): \n",
    "# #                                 selected_tasks[task_id] = data \n",
    "# #                         else: \n",
    "# #                             selected_tasks[task_id] = data\n",
    "#                         selected_tasks[task_id]=data\n",
    "#     return selected_tasks\n",
    "    \n",
    "def update():\n",
    "#     selected_tasks = select() \n",
    "    from collections import defaultdict\n",
    "    df = defaultdict(list)\n",
    "    for i, worker in task_info.items(): \n",
    "        df['x'].append(worker[\"execute_start\"])\n",
    "        df['y'].append(worker[\"worker_id\"])\n",
    "        df['worker_id'].append(worker['worker_id'])\n",
    "        df['task_id'].append(worker['task_id'])\n",
    "        df['function_name'].append(worker['function_name'])\n",
    "        df['get_task_start'].append(worker['get_task_start'])\n",
    "        df['get_task_end'].append(worker['get_task_end'])\n",
    "        df[\"get_arguments_start\"].append(worker['get_arguments_start'])\n",
    "        df[\"get_arguments_end\"].append(worker['get_arguments_end'])\n",
    "        df['import_remote_func_start'].append(worker['import_remote_func_start'])\n",
    "        df['import_remote_func_end'].append(worker['import_remote_func_end'])\n",
    "        df['acquire_lock_start'].append(worker['acquire_lock_start'])\n",
    "        df['acquire_lock_end'].append(worker['acquire_lock_end'])\n",
    "        df['store_outputs_start'].append(worker['store_outputs_start'])\n",
    "        df['store_outputs_end'].append(worker['store_outputs_end'])\n",
    "        df['execute_start'].append(worker['execute_start'])\n",
    "        df['execute_end'].append(worker['execute_end'])\n",
    "        df['wid'].append(worker[\"wid\"])\n",
    " \n",
    "    x_name = axis_map[x_axis.value]\n",
    "    y_name = axis_map[y_axis.value]\n",
    " \n",
    "    p.xaxis.axis_label = \"Time in seconds\"\n",
    "    p.yaxis.axis_label = \"WorkerID\"\n",
    "    p.title.text = \"Task Information\"\n",
    "    source.data = dict(\n",
    "        x= df[\"x\"],\n",
    "        y= df[\"y\"],\n",
    "        worker_id=df[\"worker_id\"],\n",
    "        task_id=df[\"task_id\"], \n",
    "        function_name=df[\"function_name\"], \n",
    "        get_task_start=df[\"get_task_start\"],\n",
    "        get_task_end=df[\"get_task_end\"], \n",
    "        import_remote_func_start=df[\"import_remote_func_start\"],\n",
    "        import_remote_func_end=df[\"import_remote_func_end\"],\n",
    "        acquire_lock_start=df['acquire_lock_start'], \n",
    "        acquire_lock_end=df['acquire_lock_start'], \n",
    "        get_arguments_start=df[\"get_arguments_start\"],\n",
    "        get_arguments_end=df[\"get_arguments_end\"],\n",
    "        store_outputs_start=df['store_outputs_start'], \n",
    "        store_outputs_end=df['store_outputs_start'],\n",
    "        execute_start=df['execute_start'],\n",
    "        execute_end=df['execute_end'],\n",
    "        start=df[\"get_task_start\"],\n",
    "        end=df['store_outputs_start'],\n",
    "        wid=df[\"wid\"]\n",
    "    )\n",
    "\n",
    "    \n",
    "sizing_mode = 'fixed' \n",
    "\n",
    "controls = [x_axis, y_axis, exec_slider, args_slider, outputs_slider, lock_slider]\n",
    "\n",
    "for control in controls:\n",
    "    control.on_change('value', lambda attr, old, new: update())\n",
    "    \n",
    "inputs = widgetbox(*controls, sizing_mode=sizing_mode)\n",
    "layout = row(\n",
    "    p,\n",
    "    widgetbox(lock_slider, args_slider, exec_slider, outputs_slider, task_id_search, worker_id_search)\n",
    ")\n",
    "\n",
    "update()\n",
    " \n",
    "curdoc().add_root(layout)\n",
    "curdoc().title = \"Tasks\"\n",
    "show(layout)"
   ]
  },
  {
   "cell_type": "code",
   "execution_count": null,
   "metadata": {
    "collapsed": true
   },
   "outputs": [],
   "source": []
  }
 ],
 "metadata": {
  "kernelspec": {
   "display_name": "Python 3",
   "language": "python",
   "name": "python3"
  },
  "language_info": {
   "codemirror_mode": {
    "name": "ipython",
    "version": 3
   },
   "file_extension": ".py",
   "mimetype": "text/x-python",
   "name": "python",
   "nbconvert_exporter": "python",
   "pygments_lexer": "ipython3",
   "version": "3.6.1"
  }
 },
 "nbformat": 4,
 "nbformat_minor": 2
}
